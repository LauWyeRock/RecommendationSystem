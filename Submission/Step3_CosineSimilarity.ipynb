{
 "cells": [
  {
   "cell_type": "markdown",
   "metadata": {},
   "source": [
    "## Loading of Data "
   ]
  },
  {
   "cell_type": "code",
   "execution_count": 2,
   "metadata": {},
   "outputs": [],
   "source": [
    "\n",
    "import pandas as pd\n",
    "import numpy as np\n",
    "from sklearn.feature_extraction.text import TfidfVectorizer\n",
    "from sklearn.preprocessing import StandardScaler\n",
    "from scipy.sparse import csr_matrix, hstack\n",
    "from sklearn.decomposition import TruncatedSVD\n",
    "from sklearn.metrics.pairwise import cosine_similarity\n",
    "\n",
    "\n",
    "df = pd.read_csv(\"../../Downloads/songs_feature_eng_pca.csv\")\n",
    "df = df[['track_name', \"artist_name\", \"PC1\", \"PC2\", \"PC3\", \"PC4\", \"PC5\", \"PC6\"]]\n"
   ]
  },
  {
   "cell_type": "markdown",
   "metadata": {},
   "source": [
    "# Cosine Similarity using Annoy Package\n",
    "\n",
    "We use the 6 different Principal Components to find the top 5 most similar tracks using cosine similarity, denoted by 'angular' using the Annoy package. \n"
   ]
  },
  {
   "cell_type": "code",
   "execution_count": null,
   "metadata": {},
   "outputs": [],
   "source": [
    "from annoy import AnnoyIndex\n",
    "import pandas as pd\n",
    "import numpy as np\n",
    "\n",
    "pcs = df[['PC1', \"PC2\", \"PC3\", \"PC4\", \"PC5\", \"PC6\"]]\n",
    "\n",
    "f = pcs.shape[1]\n",
    "\n",
    "t = AnnoyIndex(f, 'angular')  # 'angular' is equivalent to cosine similarity\n",
    "\n",
    "for i, vector in enumerate(pcs.to_numpy()):\n",
    "    t.add_item(i, vector)\n",
    "\n",
    "t.build(10) # Adjust more - more precise but take longer\n",
    "\n",
    "top_5_similar = {i: [] for i in range(pcs.shape[0])}\n",
    "\n",
    "for i in range(pcs.shape[0]):\n",
    "    nearest = t.get_nns_by_item(i, 6, include_distances=True)\n",
    "    \n",
    "    indices, distances = nearest[0][1:], nearest[1][1:]\n",
    "    \n",
    "    similarities = [1 - d for d in distances]\n",
    "    \n",
    "    top_5_similar[i] = list(zip(indices, similarities))\n",
    "\n",
    "for i in range(1, 6):\n",
    "    df[f'Track_Name_{i}'] = np.nan\n",
    "    df[f'Artist_Name_{i}'] = np.nan\n",
    "    df[f'Similarity_{i}'] = np.nan\n",
    "\n",
    "for idx, sims in top_5_similar.items():\n",
    "    for i, (sim_idx, sim_score) in enumerate(sims, start=1):\n",
    "        df.at[idx, f'Track_Name_{i}'] = df.at[sim_idx, 'track_name']\n",
    "        df.at[idx, f'Artist_Name_{i}'] = df.at[sim_idx, 'artist_name']\n",
    "        df.at[idx, f'Similarity_{i}'] = sim_score\n",
    "\n",
    "df.to_csv(\"../../Downloads/BT4222ProjectExcel/songs_with_similarities_final.csv\", index=False)\n",
    "\n"
   ]
  }
 ],
 "metadata": {
  "kernelspec": {
   "display_name": "Python 3",
   "language": "python",
   "name": "python3"
  },
  "language_info": {
   "codemirror_mode": {
    "name": "ipython",
    "version": 3
   },
   "file_extension": ".py",
   "mimetype": "text/x-python",
   "name": "python",
   "nbconvert_exporter": "python",
   "pygments_lexer": "ipython3",
   "version": "3.9.19"
  }
 },
 "nbformat": 4,
 "nbformat_minor": 2
}
