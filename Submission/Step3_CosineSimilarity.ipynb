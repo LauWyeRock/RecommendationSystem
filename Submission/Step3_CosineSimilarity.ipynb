{
 "cells": [
  {
   "cell_type": "markdown",
   "metadata": {},
   "source": [
    "## Loading of Data "
   ]
  },
  {
   "cell_type": "code",
   "execution_count": 2,
   "metadata": {},
   "outputs": [],
   "source": [
    "\n",
    "import pandas as pd\n",
    "import numpy as np\n",
    "from sklearn.feature_extraction.text import TfidfVectorizer\n",
    "from sklearn.preprocessing import StandardScaler\n",
    "from scipy.sparse import csr_matrix, hstack\n",
    "from sklearn.decomposition import TruncatedSVD\n",
    "from sklearn.metrics.pairwise import cosine_similarity\n",
    "\n",
    "\n",
    "df = pd.read_csv(\"../../Downloads/songs_feature_eng_pca.csv\")\n",
    "df = df[['track_name', \"artist_name\", \"PC1\", \"PC2\", \"PC3\", \"PC4\", \"PC5\", \"PC6\"]]\n"
   ]
  },
  {
   "cell_type": "markdown",
   "metadata": {},
   "source": [
    "# Cosine Similarity using Annoy Package\n",
    "\n",
    "We use the 6 different Principal Components to find the top 5 most similar tracks using cosine similarity, denoted by 'angular' using the Annoy package. \n"
   ]
  },
  {
   "cell_type": "code",
   "execution_count": 1,
   "metadata": {},
   "outputs": [
    {
     "ename": "NameError",
     "evalue": "name 'df' is not defined",
     "output_type": "error",
     "traceback": [
      "\u001b[1;31m---------------------------------------------------------------------------\u001b[0m",
      "\u001b[1;31mNameError\u001b[0m                                 Traceback (most recent call last)",
      "Cell \u001b[1;32mIn[1], line 5\u001b[0m\n\u001b[0;32m      2\u001b[0m \u001b[38;5;28;01mimport\u001b[39;00m \u001b[38;5;21;01mpandas\u001b[39;00m \u001b[38;5;28;01mas\u001b[39;00m \u001b[38;5;21;01mpd\u001b[39;00m\n\u001b[0;32m      3\u001b[0m \u001b[38;5;28;01mimport\u001b[39;00m \u001b[38;5;21;01mnumpy\u001b[39;00m \u001b[38;5;28;01mas\u001b[39;00m \u001b[38;5;21;01mnp\u001b[39;00m\n\u001b[1;32m----> 5\u001b[0m pcs \u001b[38;5;241m=\u001b[39m \u001b[43mdf\u001b[49m[[\u001b[38;5;124m'\u001b[39m\u001b[38;5;124mPC1\u001b[39m\u001b[38;5;124m'\u001b[39m, \u001b[38;5;124m\"\u001b[39m\u001b[38;5;124mPC2\u001b[39m\u001b[38;5;124m\"\u001b[39m, \u001b[38;5;124m\"\u001b[39m\u001b[38;5;124mPC3\u001b[39m\u001b[38;5;124m\"\u001b[39m, \u001b[38;5;124m\"\u001b[39m\u001b[38;5;124mPC4\u001b[39m\u001b[38;5;124m\"\u001b[39m, \u001b[38;5;124m\"\u001b[39m\u001b[38;5;124mPC5\u001b[39m\u001b[38;5;124m\"\u001b[39m, \u001b[38;5;124m\"\u001b[39m\u001b[38;5;124mPC6\u001b[39m\u001b[38;5;124m\"\u001b[39m]]\n\u001b[0;32m      7\u001b[0m f \u001b[38;5;241m=\u001b[39m pcs\u001b[38;5;241m.\u001b[39mshape[\u001b[38;5;241m1\u001b[39m]\n\u001b[0;32m      9\u001b[0m t \u001b[38;5;241m=\u001b[39m AnnoyIndex(f, \u001b[38;5;124m'\u001b[39m\u001b[38;5;124mangular\u001b[39m\u001b[38;5;124m'\u001b[39m)  \u001b[38;5;66;03m# 'angular' is equivalent to cosine similarity\u001b[39;00m\n",
      "\u001b[1;31mNameError\u001b[0m: name 'df' is not defined"
     ]
    }
   ],
   "source": [
    "from annoy import AnnoyIndex\n",
    "import pandas as pd\n",
    "import numpy as np\n",
    "\n",
    "pcs = df[['PC1', \"PC2\", \"PC3\", \"PC4\", \"PC5\", \"PC6\"]]\n",
    "\n",
    "f = pcs.shape[1]\n",
    "\n",
    "t = AnnoyIndex(f, 'angular')  # 'angular' is equivalent to cosine similarity\n",
    "\n",
    "for i, vector in enumerate(pcs.to_numpy()):\n",
    "    t.add_item(i, vector)\n",
    "\n",
    "t.build(10) # Adjust more - more precise but take longer\n",
    "\n",
    "top_5_similar = {i: [] for i in range(pcs.shape[0])}\n",
    "\n",
    "for i in range(pcs.shape[0]):\n",
    "    nearest = t.get_nns_by_item(i, 6, include_distances=True)\n",
    "    \n",
    "    indices, distances = nearest[0][1:], nearest[1][1:]\n",
    "    \n",
    "    similarities = [1 - d for d in distances]\n",
    "    \n",
    "    top_5_similar[i] = list(zip(indices, similarities))\n",
    "\n",
    "for i in range(1, 6):\n",
    "    df[f'Track_Name_{i}'] = np.nan\n",
    "    df[f'Artist_Name_{i}'] = np.nan\n",
    "    df[f'Similarity_{i}'] = np.nan\n",
    "\n",
    "for idx, sims in top_5_similar.items():\n",
    "    for i, (sim_idx, sim_score) in enumerate(sims, start=1):\n",
    "        df.at[idx, f'Track_Name_{i}'] = df.at[sim_idx, 'track_name']\n",
    "        df.at[idx, f'Artist_Name_{i}'] = df.at[sim_idx, 'artist_name']\n",
    "        df.at[idx, f'Similarity_{i}'] = sim_score\n",
    "\n",
    "df.to_csv(\"../../Downloads/BT4222ProjectExcel/songs_with_similarities_final.csv\", index=False)\n",
    "\n"
   ]
  }
 ],
 "metadata": {
  "kernelspec": {
   "display_name": "Python 3",
   "language": "python",
   "name": "python3"
  },
  "language_info": {
   "codemirror_mode": {
    "name": "ipython",
    "version": 3
   },
   "file_extension": ".py",
   "mimetype": "text/x-python",
   "name": "python",
   "nbconvert_exporter": "python",
   "pygments_lexer": "ipython3",
   "version": "3.9.19"
  }
 },
 "nbformat": 4,
 "nbformat_minor": 2
}
