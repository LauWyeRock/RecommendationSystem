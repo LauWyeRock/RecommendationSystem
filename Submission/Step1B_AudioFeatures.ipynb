{
 "cells": [
  {
   "cell_type": "code",
   "execution_count": 1,
   "metadata": {},
   "outputs": [
    {
     "name": "stderr",
     "output_type": "stream",
     "text": [
      "c:\\Users\\wyero\\AppData\\Local\\Programs\\Python\\Python39\\lib\\site-packages\\dask\\dataframe\\_pyarrow_compat.py:23: UserWarning: You are using pyarrow version 10.0.1 which is known to be insecure. See https://www.cve.org/CVERecord?id=CVE-2023-47248 for further details. Please upgrade to pyarrow>=14.0.1 or install pyarrow-hotfix to patch your current version.\n",
      "  warnings.warn(\n"
     ]
    }
   ],
   "source": [
    "import requests\n",
    "from dotenv import load_dotenv\n",
    "import os\n",
    "import json\n",
    "import base64   \n",
    "import pandas as pd\n",
    "import librosa\n",
    "import numpy as np\n",
    "import lyricsgenius\n",
    "import langdetect\n",
    "import re\n",
    "from joblib import Parallel, delayed\n",
    "import string\n",
    "from tqdm import tqdm\n",
    "import tempfile\n",
    "from datetime import datetime, timedelta\n",
    "import dask\n",
    "import dask.dataframe as dd\n",
    "from dask.diagnostics import ProgressBar\n",
    "from concurrent.futures import ThreadPoolExecutor, as_completed, ProcessPoolExecutor\n",
    "from difflib import SequenceMatcher"
   ]
  },
  {
   "cell_type": "markdown",
   "metadata": {},
   "source": [
    "# Helper Functions for testing other functions"
   ]
  },
  {
   "cell_type": "code",
   "execution_count": 3,
   "metadata": {},
   "outputs": [],
   "source": [
    "base_url = 'http://ws.audioscrobbler.com/2.0/'\n",
    "\n",
    "def lastfm_get(payload):\n",
    "    headers = {'user-agent': 'DataCollectorBot'}\n",
    "    payload['api_key'] = lastfm_api_key\n",
    "    payload['format'] = 'json'\n",
    "    response = requests.get(base_url, headers=headers, params=payload)\n",
    "    return response.json()\n",
    "\n",
    "def get_user_info(user):\n",
    "    payload = {'method': 'user.getinfo', 'user': user}\n",
    "    return lastfm_get(payload)\n",
    "\n",
    "def get_top_albums(user):\n",
    "    payload = {'method': 'user.gettopalbums', 'user': user}\n",
    "    return lastfm_get(payload)\n",
    "\n",
    "def get_top_artists(user):\n",
    "    payload = {'method': 'user.gettopartists', 'user': user}\n",
    "    return lastfm_get(payload)\n",
    "\n",
    "def get_top_tracks(user):\n",
    "    payload = {'method': 'user.gettoptracks', 'user': user}\n",
    "    return lastfm_get(payload)\n",
    "\n"
   ]
  },
  {
   "cell_type": "code",
   "execution_count": 4,
   "metadata": {},
   "outputs": [],
   "source": [
    "def list_to_df(data_list, columns):\n",
    "    if data_list:\n",
    "        df = pd.DataFrame(data_list, columns=columns)\n",
    "        return df\n",
    "    else:\n",
    "        return pd.DataFrame(columns=columns)\n",
    "    \n",
    "def get_top_albums_df(user):\n",
    "    result = get_top_albums(user)\n",
    "    albums = []\n",
    "    for item in result['topalbums']['album']:\n",
    "        albums.append({\n",
    "            'Rank': item['@attr']['rank'],\n",
    "            'Album Name': item['name'],\n",
    "            'Artist': item['artist']['name'],\n",
    "            'Play Count': item['playcount']\n",
    "        })\n",
    "    return list_to_df(albums, ['Rank', 'Album Name', 'Artist', 'Play Count'])\n",
    "\n",
    "def get_top_artists_df(user):\n",
    "    result = get_top_artists(user)\n",
    "    artists = []\n",
    "    for item in result['topartists']['artist']:\n",
    "        artists.append({\n",
    "            'Rank': item['@attr']['rank'],\n",
    "            'Artist': item['name'],\n",
    "            'Play Count': item['playcount']\n",
    "        })\n",
    "    return list_to_df(artists, ['Rank', 'Artist', 'Play Count'])\n",
    "\n",
    "\n",
    "def get_top_tracks_df(user):\n",
    "    result = get_top_tracks(user)\n",
    "    tracks = []\n",
    "    for item in result['toptracks']['track']:\n",
    "        tracks.append({\n",
    "            'Rank': item['@attr']['rank'],\n",
    "            'Track Name': item['name'],\n",
    "            'Artist': item['artist']['name'],\n",
    "            'Play Count': item['playcount']\n",
    "        })\n",
    "    return list_to_df(tracks, ['Rank', 'Track Name', 'Artist', 'Play Count'])"
   ]
  },
  {
   "cell_type": "code",
   "execution_count": 1,
   "metadata": {},
   "outputs": [],
   "source": [
    "def get_combined_top_data(user, top_n=10):\n",
    "    \n",
    "    top_albums_df = get_top_albums_df(user).head(top_n)\n",
    "    top_artists_df = get_top_artists_df(user).head(top_n)\n",
    "    top_tracks_df = get_top_tracks_df(user).head(top_n)\n",
    "    \n",
    "    \n",
    "    top_albums_df['Rank'] = top_albums_df['Rank'].astype(int)\n",
    "    top_artists_df['Rank'] = top_artists_df['Rank'].astype(int)\n",
    "    top_tracks_df['Rank'] = top_tracks_df['Rank'].astype(int)\n",
    "\n",
    "\n",
    "    combined_df = pd.concat([top_albums_df.set_index('Rank'),\n",
    "                             top_artists_df.set_index('Rank'),\n",
    "                             top_tracks_df.set_index('Rank')],\n",
    "                            axis=1,\n",
    "                            keys=['Albums', 'Artists', 'Tracks'])\n",
    "    \n",
    "    combined_df.reset_index(inplace=True)\n",
    "\n",
    "    return combined_df\n",
    "\n"
   ]
  },
  {
   "cell_type": "markdown",
   "metadata": {},
   "source": [
    "# Audio \n",
    "\n",
    "Getting Unique Songs so that we don't run on duplicate songs as it is a costly function\n"
   ]
  },
  {
   "cell_type": "code",
   "execution_count": 3,
   "metadata": {},
   "outputs": [],
   "source": [
    "import pandas as pd\n",
    "from ast import literal_eval\n",
    "\n",
    "\n",
    "def safe_eval(x):\n",
    "    try:\n",
    "        return literal_eval(x)\n",
    "    except:\n",
    "        return x\n",
    "    \n",
    "def preprocess_column(df, column_name):\n",
    "    df[column_name] = df[column_name].apply(lambda x: [] if pd.isna(x) or x == \"\" else x)\n",
    "    df[column_name] = df[column_name].apply(safe_eval)\n",
    "    return df\n",
    "\n",
    "def extract_unique_songs(df):\n",
    "    df = preprocess_column(df, 'Top 50 Songs')\n",
    "    df = preprocess_column(df, 'Liked Songs')\n",
    "    \n",
    "    all_songs = []\n",
    "    for index, row in df.iterrows():\n",
    "        if isinstance(row['Top 50 Songs'], list) and isinstance(row['Liked Songs'], list):\n",
    "            all_songs.extend(row['Top 50 Songs'])\n",
    "            all_songs.extend(row['Liked Songs'])\n",
    "    \n",
    "    unique_songs = list(set(all_songs))\n",
    "    unique_songs_df = pd.DataFrame(unique_songs, columns=['Unique Songs'])\n",
    "    \n",
    "    unique_songs_df.to_excel(\"Unique_songs.xlsx\", index=False)\n",
    "    \n",
    "    return unique_songs_df"
   ]
  },
  {
   "cell_type": "markdown",
   "metadata": {},
   "source": [
    "To get the 30s audio files of the songs, we get 2 key inputs , which are the track name and artist name, and then try to find the most similar song id \n",
    "from the results that deezer returns."
   ]
  },
  {
   "cell_type": "code",
   "execution_count": 3,
   "metadata": {},
   "outputs": [],
   "source": [
    "def similar(a, b):\n",
    "    \n",
    "    return SequenceMatcher(None, a, b).ratio()\n",
    "\n",
    "def get_highest_similarity_track(tracks, track_name):\n",
    "\n",
    "    track_similarities = [(track, similar(track_name, track['title'])) for track in tracks]\n",
    "\n",
    "    best_match, highest_similarity = max(track_similarities, key=lambda x: x[1], default=(None, 0))\n",
    "\n",
    "    if best_match and highest_similarity > 0.4:  \n",
    "        return best_match['id']\n",
    "    return None\n",
    "\n",
    "def search_deezer_track(track_name, artist_name):\n",
    "    search_url = \"https://api.deezer.com/search/track\"\n",
    "    query = f\"{track_name} artist:\\\"{artist_name}\\\"\"\n",
    "    params = {\"q\": query}\n",
    "    try:\n",
    "        response = requests.get(search_url, params=params)\n",
    "        response.raise_for_status()\n",
    "        tracks = response.json().get('data', [])\n",
    "        if tracks:\n",
    "            \n",
    "            best_match_id = get_highest_similarity_track(tracks, track_name)\n",
    "            return best_match_id\n",
    "        return None\n",
    "    except requests.RequestException as e:\n",
    "        print(f\"Request failed: {e}\")\n",
    "        return None\n",
    "    \n",
    "def get_deezer_track_info(track_id):\n",
    "    if not track_id:\n",
    "        return {}\n",
    "    base_url = \"https://api.deezer.com/track/\"\n",
    "    try:\n",
    "        response = requests.get(f\"{base_url}{track_id}\")\n",
    "        response.raise_for_status()\n",
    "        data = response.json()\n",
    "\n",
    "        main_artist = data.get(\"artist\", {}).get(\"name\", \"\")\n",
    "        contributors = [contributor['name'] for contributor in data.get(\"contributors\", []) if contributor['name'] != main_artist]\n",
    "        featured_artists = \", \".join(contributors) if contributors else None\n",
    "\n",
    "        return {\n",
    "            \"title\": data.get(\"title\"),\n",
    "            \"artist\": main_artist,\n",
    "            \"featured_artists\": featured_artists,\n",
    "            \"duration\": data.get(\"duration\"),\n",
    "            \"album\": data.get(\"album\", {}).get(\"title\"),\n",
    "            \"preview_url\": data.get(\"preview\"),\n",
    "            \"link\": data.get(\"link\")\n",
    "        }\n",
    "    except requests.RequestException:\n",
    "        return {}"
   ]
  },
  {
   "cell_type": "markdown",
   "metadata": {},
   "source": [
    "After getting the results from deezer, we then run librosa on the audio files to get the features below"
   ]
  },
  {
   "cell_type": "code",
   "execution_count": 4,
   "metadata": {},
   "outputs": [],
   "source": [
    "def extract_librosa_features_from_url(url):\n",
    "    \n",
    "    response = requests.get(url)\n",
    "    if response.status_code != 200:\n",
    "        raise Exception(f\"Failed to download audio file from {url}\")\n",
    "    \n",
    "    \n",
    "    temp_dir = tempfile.gettempdir()\n",
    "    temp_file = tempfile.NamedTemporaryFile(delete=False, suffix=\".mp3\", dir=temp_dir)\n",
    "    temp_file_path = temp_file.name\n",
    "    \n",
    "    try:\n",
    "        \n",
    "        temp_file.write(response.content)\n",
    "        temp_file.close()\n",
    "        \n",
    "        y, sr = librosa.load(temp_file_path, sr=None) \n",
    "        \n",
    "        tempo, beat_frames = librosa.beat.beat_track(y=y, sr=sr)\n",
    "        rms = np.mean(librosa.feature.rms(y=y))\n",
    "        spectral_centroid = np.mean(librosa.feature.spectral_centroid(y=y, sr=sr))\n",
    "        zcr = np.mean(librosa.feature.zero_crossing_rate(y))\n",
    "\n",
    "\n",
    "        features = {\n",
    "            'mfcc': np.mean(librosa.feature.mfcc(y=y, sr=sr).T, axis=0),\n",
    "            'chroma': np.mean(librosa.feature.chroma_stft(y=y, sr=sr).T, axis=0),\n",
    "            'rms': rms,\n",
    "            'spectral_centroid': spectral_centroid,\n",
    "            'zcr': zcr,\n",
    "            'tempo': tempo\n",
    "        }\n",
    "    finally:\n",
    "        os.remove(temp_file_path)\n",
    "\n",
    "    return features"
   ]
  },
  {
   "cell_type": "markdown",
   "metadata": {},
   "source": [
    "process_song() is a function to put all the steps above together"
   ]
  },
  {
   "cell_type": "code",
   "execution_count": 5,
   "metadata": {},
   "outputs": [],
   "source": [
    "def process_song(track_name, artist_name):\n",
    "    \n",
    "    track_id = search_deezer_track(track_name, artist_name) \n",
    "    track_info = get_deezer_track_info(track_id)\n",
    "    if not track_info or 'preview_url' not in track_info or not track_info['preview_url']:\n",
    "        return {'Song': track_name, 'Artist': artist_name}  \n",
    "\n",
    "    try:\n",
    "        features = extract_librosa_features_from_url(track_info['preview_url'])\n",
    "        \n",
    "    except Exception as e:\n",
    "        print(f\"Error processing {track_name}: {e}\")\n",
    "        features = {}\n",
    "        scores = {}\n",
    "\n",
    "\n",
    "    return {**{'Song': track_name, 'Artist': artist_name}, **track_info, **features} \n"
   ]
  },
  {
   "cell_type": "markdown",
   "metadata": {},
   "source": [
    "main() was run on all our unique songs, which was a very resource heavy function since we had to call APIs and run librosa and the whole process took close to 30hours"
   ]
  },
  {
   "cell_type": "code",
   "execution_count": 8,
   "metadata": {},
   "outputs": [
    {
     "name": "stderr",
     "output_type": "stream",
     "text": [
      "Processing Songs:  11%|█▏        | 2605/23126 [1:32:08<4:13:33,  1.35it/s] "
     ]
    },
    {
     "name": "stdout",
     "output_type": "stream",
     "text": [
      "Error processing Riding With Death: Failed to download audio file from https://cdns-preview-f.dzcdn.net/stream/c-f8b74a33c6c64c29a2c4e9abfdda5bbd-0.mp3\n"
     ]
    },
    {
     "name": "stderr",
     "output_type": "stream",
     "text": [
      "Processing Songs:  18%|█▊        | 4238/23126 [2:25:06<7:49:48,  1.49s/it] "
     ]
    },
    {
     "name": "stdout",
     "output_type": "stream",
     "text": [
      "Error processing Witch Hunt: Failed to download audio file from https://cdns-preview-f.dzcdn.net/stream/c-f8b74a33c6c64c29a2c4e9abfdda5bbd-0.mp3\n"
     ]
    },
    {
     "name": "stderr",
     "output_type": "stream",
     "text": [
      "Processing Songs:  20%|██        | 4649/23126 [2:38:04<13:10:59,  2.57s/it]"
     ]
    },
    {
     "name": "stdout",
     "output_type": "stream",
     "text": [
      "Error processing Forgotten: ('Connection aborted.', TimeoutError(10060, 'A connection attempt failed because the connected party did not properly respond after a period of time, or established connection failed because connected host has failed to respond', None, 10060, None))\n"
     ]
    },
    {
     "name": "stderr",
     "output_type": "stream",
     "text": [
      "Processing Songs:  22%|██▏       | 5118/23126 [2:52:51<6:59:50,  1.40s/it] "
     ]
    },
    {
     "name": "stdout",
     "output_type": "stream",
     "text": [
      "Error processing Darkeve Duet: HTTPSConnectionPool(host='cdns-preview-0.dzcdn.net', port=443): Max retries exceeded with url: /stream/c-056f82fd98a073229f4c682716704c34-3.mp3 (Caused by NewConnectionError('<urllib3.connection.HTTPSConnection object at 0x00000207D59ACEE0>: Failed to establish a new connection: [WinError 10060] A connection attempt failed because the connected party did not properly respond after a period of time, or established connection failed because connected host has failed to respond'))\n"
     ]
    },
    {
     "name": "stderr",
     "output_type": "stream",
     "text": [
      "Processing Songs:  22%|██▏       | 5122/23126 [2:52:55<4:58:41,  1.00it/s]"
     ]
    },
    {
     "name": "stdout",
     "output_type": "stream",
     "text": [
      "Error processing Come With Me (Unreleased): HTTPSConnectionPool(host='cdns-preview-c.dzcdn.net', port=443): Max retries exceeded with url: /stream/c-c810999483a2bd14bc7b37417fa643ef-7.mp3 (Caused by NewConnectionError('<urllib3.connection.HTTPSConnection object at 0x00000207D45FC580>: Failed to establish a new connection: [WinError 10060] A connection attempt failed because the connected party did not properly respond after a period of time, or established connection failed because connected host has failed to respond'))\n",
      "Error processing F.T.W.: HTTPSConnectionPool(host='cdns-preview-2.dzcdn.net', port=443): Max retries exceeded with url: /stream/c-26f6a971e73b1354e87aaa021050696a-2.mp3 (Caused by NewConnectionError('<urllib3.connection.HTTPSConnection object at 0x00000207DAD8C9D0>: Failed to establish a new connection: [WinError 10060] A connection attempt failed because the connected party did not properly respond after a period of time, or established connection failed because connected host has failed to respond'))\n"
     ]
    },
    {
     "name": "stderr",
     "output_type": "stream",
     "text": [
      "Processing Songs:  22%|██▏       | 5123/23126 [2:52:57<6:41:29,  1.34s/it]"
     ]
    },
    {
     "name": "stdout",
     "output_type": "stream",
     "text": [
      "Error processing Higher: HTTPSConnectionPool(host='cdns-preview-3.dzcdn.net', port=443): Max retries exceeded with url: /stream/c-35993c83c7915821a27c9aadeaf446c5-6.mp3 (Caused by NewConnectionError('<urllib3.connection.HTTPSConnection object at 0x00000207CDFB7040>: Failed to establish a new connection: [WinError 10060] A connection attempt failed because the connected party did not properly respond after a period of time, or established connection failed because connected host has failed to respond'))\n"
     ]
    },
    {
     "name": "stderr",
     "output_type": "stream",
     "text": [
      "Processing Songs:  22%|██▏       | 5126/23126 [2:52:58<3:51:29,  1.30it/s]"
     ]
    },
    {
     "name": "stdout",
     "output_type": "stream",
     "text": [
      "Error processing Everything is broken (withoute feature): HTTPSConnectionPool(host='cdns-preview-6.dzcdn.net', port=443): Max retries exceeded with url: /stream/c-62a2b69b87860827a9368e1967c99b68-6.mp3 (Caused by NewConnectionError('<urllib3.connection.HTTPSConnection object at 0x00000207CDF1E910>: Failed to establish a new connection: [WinError 10060] A connection attempt failed because the connected party did not properly respond after a period of time, or established connection failed because connected host has failed to respond'))\n"
     ]
    },
    {
     "name": "stderr",
     "output_type": "stream",
     "text": [
      "Processing Songs:  22%|██▏       | 5127/23126 [2:52:59<3:33:08,  1.41it/s]"
     ]
    },
    {
     "name": "stdout",
     "output_type": "stream",
     "text": [
      "Error processing Redford (for Yia Yia & Pappou): ('Connection aborted.', TimeoutError(10060, 'A connection attempt failed because the connected party did not properly respond after a period of time, or established connection failed because connected host has failed to respond', None, 10060, None))\n"
     ]
    },
    {
     "name": "stderr",
     "output_type": "stream",
     "text": [
      "Processing Songs:  22%|██▏       | 5132/23126 [2:53:09<8:06:12,  1.62s/it] "
     ]
    },
    {
     "name": "stdout",
     "output_type": "stream",
     "text": [
      "Error processing Don't Play (ft. Big Sean & The 1975): HTTPSConnectionPool(host='cdns-preview-5.dzcdn.net', port=443): Max retries exceeded with url: /stream/c-5f61637d08195b36cf8ef36fb971a9c2-1.mp3 (Caused by NewConnectionError('<urllib3.connection.HTTPSConnection object at 0x00000207EBEA8760>: Failed to establish a new connection: [WinError 10060] A connection attempt failed because the connected party did not properly respond after a period of time, or established connection failed because connected host has failed to respond'))\n"
     ]
    },
    {
     "name": "stderr",
     "output_type": "stream",
     "text": [
      "Processing Songs:  22%|██▏       | 5134/23126 [2:53:16<11:53:30,  2.38s/it]"
     ]
    },
    {
     "name": "stdout",
     "output_type": "stream",
     "text": [
      "Error processing With A Thousand Words To Say But One: HTTPSConnectionPool(host='cdns-preview-3.dzcdn.net', port=443): Max retries exceeded with url: /stream/c-365b8cce46c0f75cc5fb848f52924cde-3.mp3 (Caused by NewConnectionError('<urllib3.connection.HTTPSConnection object at 0x00000207D466FEE0>: Failed to establish a new connection: [WinError 10060] A connection attempt failed because the connected party did not properly respond after a period of time, or established connection failed because connected host has failed to respond'))\n"
     ]
    },
    {
     "name": "stderr",
     "output_type": "stream",
     "text": [
      "Processing Songs:  22%|██▏       | 5137/23126 [2:53:21<11:27:08,  2.29s/it]"
     ]
    },
    {
     "name": "stdout",
     "output_type": "stream",
     "text": [
      "Error processing Palm Tree: HTTPSConnectionPool(host='cdns-preview-4.dzcdn.net', port=443): Max retries exceeded with url: /stream/c-40c416902851bf108b34a079d7d5203f-2.mp3 (Caused by NewConnectionError('<urllib3.connection.HTTPSConnection object at 0x00000207EBB46820>: Failed to establish a new connection: [WinError 10060] A connection attempt failed because the connected party did not properly respond after a period of time, or established connection failed because connected host has failed to respond'))\n"
     ]
    },
    {
     "name": "stderr",
     "output_type": "stream",
     "text": [
      "Processing Songs:  32%|███▏      | 7444/23126 [4:06:10<8:07:32,  1.87s/it] c:\\Users\\wyero\\AppData\\Local\\Programs\\Python\\Python39\\lib\\site-packages\\librosa\\core\\pitch.py:101: UserWarning: Trying to estimate tuning from empty frequency set.\n",
      "  return pitch_tuning(\n",
      "Processing Songs:  35%|███▌      | 8167/23126 [4:28:13<2:47:04,  1.49it/s] "
     ]
    },
    {
     "name": "stdout",
     "output_type": "stream",
     "text": [
      "Error processing Skid: Failed to download audio file from https://cdns-preview-4.dzcdn.net/stream/c-44056fe5e9f222a84eec47dcb4b844ee-0.mp3\n"
     ]
    },
    {
     "name": "stderr",
     "output_type": "stream",
     "text": [
      "Processing Songs:  43%|████▎     | 9851/23126 [5:20:45<3:13:35,  1.14it/s] "
     ]
    },
    {
     "name": "stdout",
     "output_type": "stream",
     "text": [
      "Error processing Our Song: ('Connection aborted.', TimeoutError(10060, 'A connection attempt failed because the connected party did not properly respond after a period of time, or established connection failed because connected host has failed to respond', None, 10060, None))\n"
     ]
    },
    {
     "name": "stderr",
     "output_type": "stream",
     "text": [
      "Processing Songs:  86%|████████▌ | 19833/23126 [10:39:33<2:06:40,  2.31s/it]"
     ]
    },
    {
     "name": "stdout",
     "output_type": "stream",
     "text": [
      "Error processing Peso (Prod. By ASAP Ty Beats): ('Connection aborted.', TimeoutError(10060, 'A connection attempt failed because the connected party did not properly respond after a period of time, or established connection failed because connected host has failed to respond', None, 10060, None))\n"
     ]
    },
    {
     "name": "stderr",
     "output_type": "stream",
     "text": [
      "Processing Songs:  86%|████████▌ | 19836/23126 [10:39:39<2:08:00,  2.33s/it]"
     ]
    },
    {
     "name": "stdout",
     "output_type": "stream",
     "text": [
      "Error processing So Gangsta: HTTPSConnectionPool(host='cdns-preview-9.dzcdn.net', port=443): Max retries exceeded with url: /stream/c-9c1c7505edff77211ab8909bdf6d58b0-7.mp3 (Caused by NewConnectionError('<urllib3.connection.HTTPSConnection object at 0x00000207E6784490>: Failed to establish a new connection: [WinError 10060] A connection attempt failed because the connected party did not properly respond after a period of time, or established connection failed because connected host has failed to respond'))\n"
     ]
    },
    {
     "name": "stderr",
     "output_type": "stream",
     "text": [
      "Processing Songs:  86%|████████▌ | 19837/23126 [10:39:45<3:10:26,  3.47s/it]"
     ]
    },
    {
     "name": "stdout",
     "output_type": "stream",
     "text": [
      "Error processing Barter 3: HTTPSConnectionPool(host='cdns-preview-6.dzcdn.net', port=443): Max retries exceeded with url: /stream/c-6ff170148c48a6e154458a4736cf6c5e-2.mp3 (Caused by NewConnectionError('<urllib3.connection.HTTPSConnection object at 0x000002080FD813D0>: Failed to establish a new connection: [WinError 10060] A connection attempt failed because the connected party did not properly respond after a period of time, or established connection failed because connected host has failed to respond'))\n"
     ]
    },
    {
     "name": "stderr",
     "output_type": "stream",
     "text": [
      "Processing Songs:  94%|█████████▍| 21726/23126 [11:40:00<44:18,  1.90s/it]  "
     ]
    },
    {
     "name": "stdout",
     "output_type": "stream",
     "text": [
      "Request failed: 403 Client Error: Forbidden for url: https://api.deezer.com/search/track?q=Orange+Alert+%28DFA+remix%29+artist%3A%22Metro+Area%22\n"
     ]
    },
    {
     "name": "stderr",
     "output_type": "stream",
     "text": [
      "Processing Songs: 100%|██████████| 23126/23126 [12:25:14<00:00,  1.93s/it]  \n"
     ]
    }
   ],
   "source": [
    "def main(df_songs):\n",
    "    \n",
    "    tracks_and_artists = [(row['track_name_original'], row['artist_name_original']) for index, row in df_songs.iterrows()]\n",
    "    \n",
    "    with ThreadPoolExecutor(max_workers=20) as executor:\n",
    "        \n",
    "        future_to_song = {executor.submit(process_song, track, artist): (track, artist) for track, artist in tracks_and_artists}\n",
    "        \n",
    "        \n",
    "        results = []\n",
    "        \n",
    "        for future in tqdm(as_completed(future_to_song), total=len(tracks_and_artists), desc=\"Processing Songs\"):\n",
    "            track, artist = future_to_song[future]\n",
    "            try:\n",
    "                song_data = future.result()\n",
    "                results.append(song_data)\n",
    "            except Exception as e:\n",
    "                print(f\"Error processing {track} by {artist}: {e}\")\n",
    "    \n",
    "    results_df = pd.DataFrame(results)\n",
    "    results_df.to_excel(\"../../Downloads/Impute3.xlsx\", index=False)\n",
    "\n",
    "\n",
    "# try_df = pd.read_excel(\"../../Downloads/BT4222ProjectExcel/unique_songs_audio_hasnull.xlsx\")\n",
    "# try_df = try_df[['track_name_original', 'artist_name_original']]\n",
    "# main(try_df[100000:150000])\n"
   ]
  }
 ],
 "metadata": {
  "kernelspec": {
   "display_name": "Python 3",
   "language": "python",
   "name": "python3"
  },
  "language_info": {
   "codemirror_mode": {
    "name": "ipython",
    "version": 3
   },
   "file_extension": ".py",
   "mimetype": "text/x-python",
   "name": "python",
   "nbconvert_exporter": "python",
   "pygments_lexer": "ipython3",
   "version": "3.9.6"
  }
 },
 "nbformat": 4,
 "nbformat_minor": 2
}
