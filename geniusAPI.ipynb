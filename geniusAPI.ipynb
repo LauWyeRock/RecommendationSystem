{
 "cells": [
  {
   "cell_type": "markdown",
   "metadata": {},
   "source": [
    "Given by prof"
   ]
  },
  {
   "cell_type": "markdown",
   "metadata": {},
   "source": [
    "## Genius API Code\n",
    "\n",
    "This notebook explores the retrieval of song lyrics using the **lyricsgenius library and Genius API**, providing a simple guide for accessing and processing lyrics data within the context of music analysis or related applications.\n",
    "\n",
    "**lyricsgenius Setup** - https://lyricsgenius.readthedocs.io/en/master/setup.html\n",
    "\n",
    "**lyricsgenius.Genius** - https://lyricsgenius.readthedocs.io/en/master/reference/genius.html\n",
    "\n",
    "[**Note**: The genius.search_song() within the get_spot_lyrics funtion defined below may cause 403 Client Error when running in Colab. You should execute the code on a **local** machine instead. For more details, refer to the discussion on [GitHub](https://github.com/johnwmillr/LyricsGenius/issues/220)]\n",
    "\n",
    "**Version:** This notebook file has been edited by Shi Yingfei shi_yingfei@u.nus.edu in January 2024."
   ]
  },
  {
   "cell_type": "code",
   "execution_count": null,
   "metadata": {},
   "outputs": [],
   "source": [
    "import lyricsgenius as lg\n",
    "from langdetect import detect\n",
    "import pandas as pd\n",
    "import numpy as np\n",
    "import re\n",
    "import string\n",
    "import os"
   ]
  },
  {
   "cell_type": "code",
   "execution_count": null,
   "metadata": {},
   "outputs": [],
   "source": [
    "# Need to register for a new API client https://genius.com/api-clients/new (APP WEBSITE URL: https://example.com/)\n",
    "client_id = ###\n",
    "client_secret = ###\n",
    "access_token = ###\n",
    "\n",
    "genius = lg.Genius(access_token=access_token)"
   ]
  },
  {
   "cell_type": "code",
   "execution_count": null,
   "metadata": {},
   "outputs": [],
   "source": [
    "import gdown\n",
    "### Spotify Dataset Download\n",
    "file_id = '1iEG4sF-ujvtnvOk2nrrnfuQD-Sg9jlXP'\n",
    "url = f'https://drive.google.com/uc?id={file_id}'\n",
    "output = 'main_dataset.csv'\n",
    "gdown.download(url, output, quiet=False)\n",
    "\n",
    "spotify_df = pd.read_csv('main_dataset.csv')\n",
    "spotify_df.head()"
   ]
  },
  {
   "cell_type": "code",
   "execution_count": null,
   "metadata": {},
   "outputs": [],
   "source": [
    "def join_artists(artists_list):\n",
    "    artists = artists_list[1:-1].split(\", \") # Split into individual artists\n",
    "    return ', '.join(list(map(lambda x: x[1:-1], artists))) # Remove '' and join artists with ,\n",
    "\n",
    "spot_df = pd.DataFrame({'name': spotify_df.name.values,\n",
    "                        'artists_names': spotify_df.artists_names.apply(join_artists)})\n",
    "spot_df.head()"
   ]
  },
  {
   "cell_type": "code",
   "execution_count": null,
   "metadata": {},
   "outputs": [],
   "source": [
    "# Running this function in Colab may result in a 403 Client Error.\n",
    "# You should try to execute the code on a local machine instead.\n",
    "# For more details, refer to the discussion on GitHub: https://github.com/johnwmillr/LyricsGenius/issues/220\n",
    "\n",
    "def get_spot_lyrics(row):\n",
    "    # Extracting song and artist names from the DataFrame row\n",
    "    song_name = row['name']\n",
    "    artist_name = row['artists_names']\n",
    "\n",
    "    # For names like 'XXX Song - Live at XXX'\n",
    "    song_name = song_name.split(' - ', 1)[0]\n",
    "\n",
    "    # For names like 'XXX (feat YYY)'\n",
    "    song_name = re.sub(r\"[\\(].*?[\\)]\", \"\", song_name)\n",
    "    artist_name = re.sub(r\"[\\(].*?[\\)]\", \"\", artist_name)\n",
    "\n",
    "    # Remove all punctuation from song and artist names using str.translate() and str.maketrans()\n",
    "    # https://docs.python.org/3/library/stdtypes.html#str.translate\n",
    "    song_name = song_name.translate(str.maketrans('', '', string.punctuation))\n",
    "    artist_name = artist_name.translate(str.maketrans('', '', string.punctuation))\n",
    "\n",
    "    try:\n",
    "        # Search for the song on Genius using the Genius API\n",
    "        song = genius.search_song(song_name, artist=artist_name, get_full_info=False)\n",
    "\n",
    "    except Exception as e:\n",
    "        print(f\"An error occurred: {e}\")\n",
    "        print(song_name)\n",
    "        return ''\n",
    "\n",
    "    if song:\n",
    "        # Extract lyrics and remove any metadata or tags\n",
    "        return song.lyrics.split(']', 1)[-1]\n",
    "\n",
    "    return ''"
   ]
  },
  {
   "cell_type": "code",
   "execution_count": null,
   "metadata": {},
   "outputs": [],
   "source": [
    "# Create a dataframe with the first 20 rows of spot_df for test purpose\n",
    "spot_df_short = spot_df.iloc[:20].copy()\n",
    "\n",
    "# Initialize the 'lyrics' column\n",
    "spot_df_short['lyrics'] = None\n",
    "\n",
    "# Iterate through each row in spot_df_short\n",
    "# for index, row in spot_df_short.iterrows():\n",
    "#     try:\n",
    "#         # Attempt to get lyrics using the get_spot_lyrics function\n",
    "#         spot_df_short.at[index, 'lyrics'] = get_spot_lyrics(row)\n",
    "#     except Exception as e:\n",
    "#         # If an exception occurs, store the error message in the 'lyrics' column\n",
    "#         spot_df_short.at[index, 'lyrics'] = f\"Error: {str(e)}\""
   ]
  },
  {
   "cell_type": "code",
   "execution_count": null,
   "metadata": {},
   "outputs": [],
   "source": [
    "# Simple example code to process lyrics\n",
    "def process_lyrics(row):\n",
    "    # Get the 'lyrics' value from the row\n",
    "    lyrics = row['lyrics']\n",
    "\n",
    "    # If lyrics are empty, concatenate 'name' and 'artists_names'\n",
    "    if len(lyrics) == 0:\n",
    "        lyrics = row['name'] + row['artists_names']\n",
    "\n",
    "    # Remove words in brackets and square brackets\n",
    "    lyrics = re.sub(\"[\\(\\[].*?[\\)\\]]\", \"\", lyrics)\n",
    "\n",
    "    # Remove line breaks\n",
    "    lyrics = lyrics.replace(\"\\n\", \" \")\n",
    "\n",
    "    # Remove all punctuation\n",
    "    lyrics = lyrics.translate(str.maketrans('', '', string.punctuation))\n",
    "\n",
    "    # Convert to lowercase\n",
    "    return lyrics.lower()"
   ]
  },
  {
   "cell_type": "code",
   "execution_count": null,
   "metadata": {},
   "outputs": [],
   "source": [
    "# Detect and remove non-English songs\n",
    "def is_english(text):\n",
    "    try:\n",
    "        return detect(text) == 'en'\n",
    "    except:\n",
    "        return False\n",
    "\n",
    "# spot_df_short['lyrics_pro'] = spot_df_short.apply(lambda x : process_lyrics(x), axis = 1)\n",
    "# is_eng = spot_df_short['lyrics_pro'].apply(lambda x : is_english(x))\n",
    "# spot_df_short = spot_df_short[is_eng].reset_index(drop = True)\n",
    "# spot_df_short.shape"
   ]
  },
  {
   "cell_type": "code",
   "execution_count": null,
   "metadata": {},
   "outputs": [],
   "source": [
    "# Save the DataFrame 'spot_df_short' to a JSON file\n",
    "# spot_df_short.to_json('spot_lyrics_short.json')"
   ]
  },
  {
   "cell_type": "code",
   "execution_count": null,
   "metadata": {},
   "outputs": [],
   "source": [
    "# Check sample output\n",
    "file_id = '1qx9jt0QOICdKBnFt0fYrtsbYWIes0Ecn'\n",
    "url = f'https://drive.google.com/uc?id={file_id}'\n",
    "output = 'spot_lyrics_short.json'\n",
    "gdown.download(url, output, quiet=False)"
   ]
  },
  {
   "cell_type": "code",
   "execution_count": null,
   "metadata": {},
   "outputs": [],
   "source": [
    "spot_df_short = pd.read_json('spot_lyrics_short.json')\n",
    "spot_df_short.head()"
   ]
  }
 ],
 "metadata": {
  "kernelspec": {
   "display_name": "Python 3",
   "language": "python",
   "name": "python3"
  },
  "language_info": {
   "name": "python",
   "version": "3.9.6"
  }
 },
 "nbformat": 4,
 "nbformat_minor": 2
}
