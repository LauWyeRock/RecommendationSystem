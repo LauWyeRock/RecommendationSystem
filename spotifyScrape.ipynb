{
 "cells": [
  {
   "cell_type": "markdown",
   "metadata": {},
   "source": [
    "https://github.com/Michael-K-Stein/SpotiFile\n",
    "\n",
    "https://spotifyscraper.readthedocs.io/en/latest/#import-scraper\n",
    "\n",
    "https://medium.com/@felixpratama242/scraping-spotify-playlist-using-python-and-selenium-17e0175f2db2\n",
    "\n",
    "https://github.com/varunsatish/Projects/blob/master/A%20Guide%20to%20Data%20Scraping%20from%20Spotify%20(BeautifulSoup%20-%20Spotipy).ipynb"
   ]
  },
  {
   "cell_type": "code",
   "execution_count": null,
   "metadata": {
    "vscode": {
     "languageId": "plaintext"
    }
   },
   "outputs": [],
   "source": []
  }
 ],
 "metadata": {
  "language_info": {
   "name": "python"
  }
 },
 "nbformat": 4,
 "nbformat_minor": 2
}
