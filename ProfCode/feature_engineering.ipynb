{
  "cells": [
    {
      "cell_type": "markdown",
      "metadata": {
        "id": "oFpgaGIO8BbY"
      },
      "source": [
        "Feature Engineering\n",
        "1. Description by preliminary statistics, histogram, plots\n",
        "2. Try regression with single feature\n",
        "3. Try regression with multiple features\n",
        "4. Feature engineering: convert some variables into categorical values and further one hot encoding\n",
        "5. Test the change of RMSE with aspect to the number of bins\n",
        "6. Try Cross-features"
      ]
    },
    {
      "cell_type": "code",
      "execution_count": 1,
      "metadata": {
        "id": "f3Jnz9w6kdBV"
      },
      "outputs": [],
      "source": [
        "import numpy as np\n",
        "import pandas as pd"
      ]
    },
    {
      "cell_type": "code",
      "execution_count": 2,
      "metadata": {
        "id": "foPQYGP0kj3W",
        "outputId": "7a7e87cd-d938-4a28-b588-70b5ae59af7d",
        "colab": {
          "base_uri": "https://localhost:8080/",
          "height": 104
        }
      },
      "outputs": [
        {
          "output_type": "execute_result",
          "data": {
            "text/plain": [
              "'california_housing_dataframe = pd.read_csv(\"https://download.mlcc.google.com/mledu-datasets/california_housing_train.csv\",\\n                                           sep=\",\")\\n\\n# We\\'ll randomize the data, just to be sure not to get any pathological ordering effects\\n# that might harm the performance of Stochastic Gradient Descent.\\ncalifornia_housing_dataframe = california_housing_dataframe.reindex(\\n    np.random.permutation(california_housing_dataframe.index))\\n\\n# We\\'ll scale `median_house_value` to be in units of thousands,\\n# so it can be learned a little more easily with learning rtes in a range that we usually use.\\ncalifornia_housing_dataframe[\"median_house_value\"] /= 1000.0'"
            ],
            "application/vnd.google.colaboratory.intrinsic+json": {
              "type": "string"
            }
          },
          "metadata": {},
          "execution_count": 2
        }
      ],
      "source": [
        "\"\"\"california_housing_dataframe = pd.read_csv(\"https://download.mlcc.google.com/mledu-datasets/california_housing_train.csv\",\n",
        "                                           sep=\",\")\n",
        "\n",
        "# We'll randomize the data, just to be sure not to get any pathological ordering effects\n",
        "# that might harm the performance of Stochastic Gradient Descent.\n",
        "california_housing_dataframe = california_housing_dataframe.reindex(\n",
        "    np.random.permutation(california_housing_dataframe.index))\n",
        "\n",
        "# We'll scale `median_house_value` to be in units of thousands,\n",
        "# so it can be learned a little more easily with learning rtes in a range that we usually use.\n",
        "california_housing_dataframe[\"median_house_value\"] /= 1000.0\"\"\""
      ]
    },
    {
      "cell_type": "code",
      "execution_count": 3,
      "metadata": {
        "id": "UkLS72uP8Bbe"
      },
      "outputs": [],
      "source": [
        "\"\"\"\n",
        "Revision Timestamp:  8:01:09 SGT Thursday, 17 August 2022\n",
        "Revision by: Yu Ta\n",
        "Notes: (1) I can not retreive the data from the url, so load the data from a local folder. (2)np.random ==> np.random.RandomState(seed=1)\n",
        "\"\"\"\n",
        "try:\n",
        "    california_housing_dataframe = pd.read_csv(\"https://download.mlcc.google.com/mledu-datasets/california_housing_train.csv\",\n",
        "          sep=\",\")  # get the data from the website\n",
        "except:\n",
        "    california_housing_dataframe = pd.read_csv(\"california_housing_train.csv\",\n",
        "          sep=\",\")  # if fail, get the data from the local folder; need to specify your directory here\n",
        "\n",
        "# We'll randomize the data, just to be sure not to get any pathological ordering effects\n",
        "# that might harm the performance of Stochastic Gradient Descent.\n",
        "california_housing_dataframe = california_housing_dataframe.reindex(\n",
        "    np.random.RandomState(seed=1).permutation(california_housing_dataframe.index))\n",
        "\n",
        "# We'll scale `median_house_value` to be in units of thousands,\n",
        "# so it can be learned a little more easily with learning rtes in a range that we usually use.\n",
        "california_housing_dataframe[\"median_house_value\"] /= 1000.0"
      ]
    },
    {
      "cell_type": "code",
      "execution_count": 4,
      "metadata": {
        "colab": {
          "base_uri": "https://localhost:8080/"
        },
        "id": "OPg-MXfxky9B",
        "outputId": "39b1d794-8728-4489-d150-cfadb0db82e7"
      },
      "outputs": [
        {
          "output_type": "execute_result",
          "data": {
            "text/plain": [
              "(17000, 9)"
            ]
          },
          "metadata": {},
          "execution_count": 4
        }
      ],
      "source": [
        "california_housing_dataframe.shape"
      ]
    },
    {
      "cell_type": "code",
      "execution_count": null,
      "metadata": {
        "colab": {
          "base_uri": "https://localhost:8080/",
          "height": 203
        },
        "id": "m8EvTRdFlv8O",
        "outputId": "40296d8c-5bb5-45c3-9cad-202d632a68b2"
      },
      "outputs": [
        {
          "data": {
            "text/html": [
              "<div>\n",
              "<style scoped>\n",
              "    .dataframe tbody tr th:only-of-type {\n",
              "        vertical-align: middle;\n",
              "    }\n",
              "\n",
              "    .dataframe tbody tr th {\n",
              "        vertical-align: top;\n",
              "    }\n",
              "\n",
              "    .dataframe thead th {\n",
              "        text-align: right;\n",
              "    }\n",
              "</style>\n",
              "<table border=\"1\" class=\"dataframe\">\n",
              "  <thead>\n",
              "    <tr style=\"text-align: right;\">\n",
              "      <th></th>\n",
              "      <th>longitude</th>\n",
              "      <th>latitude</th>\n",
              "      <th>housing_median_age</th>\n",
              "      <th>total_rooms</th>\n",
              "      <th>total_bedrooms</th>\n",
              "      <th>population</th>\n",
              "      <th>households</th>\n",
              "      <th>median_income</th>\n",
              "      <th>median_house_value</th>\n",
              "    </tr>\n",
              "  </thead>\n",
              "  <tbody>\n",
              "    <tr>\n",
              "      <th>4752</th>\n",
              "      <td>-118.08</td>\n",
              "      <td>33.85</td>\n",
              "      <td>19.0</td>\n",
              "      <td>4261.0</td>\n",
              "      <td>678.0</td>\n",
              "      <td>2621.0</td>\n",
              "      <td>661.0</td>\n",
              "      <td>6.2427</td>\n",
              "      <td>288.7</td>\n",
              "    </tr>\n",
              "    <tr>\n",
              "      <th>13348</th>\n",
              "      <td>-121.93</td>\n",
              "      <td>37.73</td>\n",
              "      <td>23.0</td>\n",
              "      <td>2564.0</td>\n",
              "      <td>347.0</td>\n",
              "      <td>1043.0</td>\n",
              "      <td>351.0</td>\n",
              "      <td>6.2048</td>\n",
              "      <td>275.0</td>\n",
              "    </tr>\n",
              "    <tr>\n",
              "      <th>13459</th>\n",
              "      <td>-121.95</td>\n",
              "      <td>37.32</td>\n",
              "      <td>39.0</td>\n",
              "      <td>1164.0</td>\n",
              "      <td>199.0</td>\n",
              "      <td>619.0</td>\n",
              "      <td>231.0</td>\n",
              "      <td>4.6304</td>\n",
              "      <td>263.2</td>\n",
              "    </tr>\n",
              "    <tr>\n",
              "      <th>6691</th>\n",
              "      <td>-118.29</td>\n",
              "      <td>34.07</td>\n",
              "      <td>22.0</td>\n",
              "      <td>492.0</td>\n",
              "      <td>269.0</td>\n",
              "      <td>634.0</td>\n",
              "      <td>261.0</td>\n",
              "      <td>1.6406</td>\n",
              "      <td>300.0</td>\n",
              "    </tr>\n",
              "    <tr>\n",
              "      <th>12750</th>\n",
              "      <td>-121.79</td>\n",
              "      <td>38.66</td>\n",
              "      <td>15.0</td>\n",
              "      <td>6809.0</td>\n",
              "      <td>1052.0</td>\n",
              "      <td>3060.0</td>\n",
              "      <td>1060.0</td>\n",
              "      <td>5.3064</td>\n",
              "      <td>165.0</td>\n",
              "    </tr>\n",
              "  </tbody>\n",
              "</table>\n",
              "</div>"
            ],
            "text/plain": [
              "       longitude  latitude  housing_median_age  total_rooms  total_bedrooms  \\\n",
              "4752     -118.08     33.85                19.0       4261.0           678.0   \n",
              "13348    -121.93     37.73                23.0       2564.0           347.0   \n",
              "13459    -121.95     37.32                39.0       1164.0           199.0   \n",
              "6691     -118.29     34.07                22.0        492.0           269.0   \n",
              "12750    -121.79     38.66                15.0       6809.0          1052.0   \n",
              "\n",
              "       population  households  median_income  median_house_value  \n",
              "4752       2621.0       661.0         6.2427               288.7  \n",
              "13348      1043.0       351.0         6.2048               275.0  \n",
              "13459       619.0       231.0         4.6304               263.2  \n",
              "6691        634.0       261.0         1.6406               300.0  \n",
              "12750      3060.0      1060.0         5.3064               165.0  "
            ]
          },
          "execution_count": 6,
          "metadata": {},
          "output_type": "execute_result"
        }
      ],
      "source": [
        "california_housing_dataframe.head()"
      ]
    },
    {
      "cell_type": "markdown",
      "metadata": {
        "id": "h1SEmyqqmsA5"
      },
      "source": [
        "## Examine the data\n",
        "\n",
        "It's a good idea to get to know your data a little bit before you work with it.\n",
        "\n",
        "We'll print out a quick summary of a few useful statistics on each column: count of examples, mean, standard deviation, max, min, and various quantiles."
      ]
    },
    {
      "cell_type": "code",
      "execution_count": null,
      "metadata": {
        "colab": {
          "base_uri": "https://localhost:8080/",
          "height": 295
        },
        "id": "l22-2BzHlyOM",
        "outputId": "57a9263e-15d9-418e-f95f-2664f07bd1a1"
      },
      "outputs": [
        {
          "data": {
            "text/html": [
              "<div>\n",
              "<style scoped>\n",
              "    .dataframe tbody tr th:only-of-type {\n",
              "        vertical-align: middle;\n",
              "    }\n",
              "\n",
              "    .dataframe tbody tr th {\n",
              "        vertical-align: top;\n",
              "    }\n",
              "\n",
              "    .dataframe thead th {\n",
              "        text-align: right;\n",
              "    }\n",
              "</style>\n",
              "<table border=\"1\" class=\"dataframe\">\n",
              "  <thead>\n",
              "    <tr style=\"text-align: right;\">\n",
              "      <th></th>\n",
              "      <th>longitude</th>\n",
              "      <th>latitude</th>\n",
              "      <th>housing_median_age</th>\n",
              "      <th>total_rooms</th>\n",
              "      <th>total_bedrooms</th>\n",
              "      <th>population</th>\n",
              "      <th>households</th>\n",
              "      <th>median_income</th>\n",
              "      <th>median_house_value</th>\n",
              "    </tr>\n",
              "  </thead>\n",
              "  <tbody>\n",
              "    <tr>\n",
              "      <th>count</th>\n",
              "      <td>17000.000000</td>\n",
              "      <td>17000.000000</td>\n",
              "      <td>17000.000000</td>\n",
              "      <td>17000.000000</td>\n",
              "      <td>17000.000000</td>\n",
              "      <td>17000.000000</td>\n",
              "      <td>17000.000000</td>\n",
              "      <td>17000.000000</td>\n",
              "      <td>17000.000000</td>\n",
              "    </tr>\n",
              "    <tr>\n",
              "      <th>mean</th>\n",
              "      <td>-119.562108</td>\n",
              "      <td>35.625225</td>\n",
              "      <td>28.589353</td>\n",
              "      <td>2643.664412</td>\n",
              "      <td>539.410824</td>\n",
              "      <td>1429.573941</td>\n",
              "      <td>501.221941</td>\n",
              "      <td>3.883578</td>\n",
              "      <td>207.300912</td>\n",
              "    </tr>\n",
              "    <tr>\n",
              "      <th>std</th>\n",
              "      <td>2.005166</td>\n",
              "      <td>2.137340</td>\n",
              "      <td>12.586937</td>\n",
              "      <td>2179.947071</td>\n",
              "      <td>421.499452</td>\n",
              "      <td>1147.852959</td>\n",
              "      <td>384.520841</td>\n",
              "      <td>1.908157</td>\n",
              "      <td>115.983764</td>\n",
              "    </tr>\n",
              "    <tr>\n",
              "      <th>min</th>\n",
              "      <td>-124.350000</td>\n",
              "      <td>32.540000</td>\n",
              "      <td>1.000000</td>\n",
              "      <td>2.000000</td>\n",
              "      <td>1.000000</td>\n",
              "      <td>3.000000</td>\n",
              "      <td>1.000000</td>\n",
              "      <td>0.499900</td>\n",
              "      <td>14.999000</td>\n",
              "    </tr>\n",
              "    <tr>\n",
              "      <th>25%</th>\n",
              "      <td>-121.790000</td>\n",
              "      <td>33.930000</td>\n",
              "      <td>18.000000</td>\n",
              "      <td>1462.000000</td>\n",
              "      <td>297.000000</td>\n",
              "      <td>790.000000</td>\n",
              "      <td>282.000000</td>\n",
              "      <td>2.566375</td>\n",
              "      <td>119.400000</td>\n",
              "    </tr>\n",
              "    <tr>\n",
              "      <th>50%</th>\n",
              "      <td>-118.490000</td>\n",
              "      <td>34.250000</td>\n",
              "      <td>29.000000</td>\n",
              "      <td>2127.000000</td>\n",
              "      <td>434.000000</td>\n",
              "      <td>1167.000000</td>\n",
              "      <td>409.000000</td>\n",
              "      <td>3.544600</td>\n",
              "      <td>180.400000</td>\n",
              "    </tr>\n",
              "    <tr>\n",
              "      <th>75%</th>\n",
              "      <td>-118.000000</td>\n",
              "      <td>37.720000</td>\n",
              "      <td>37.000000</td>\n",
              "      <td>3151.250000</td>\n",
              "      <td>648.250000</td>\n",
              "      <td>1721.000000</td>\n",
              "      <td>605.250000</td>\n",
              "      <td>4.767000</td>\n",
              "      <td>265.000000</td>\n",
              "    </tr>\n",
              "    <tr>\n",
              "      <th>max</th>\n",
              "      <td>-114.310000</td>\n",
              "      <td>41.950000</td>\n",
              "      <td>52.000000</td>\n",
              "      <td>37937.000000</td>\n",
              "      <td>6445.000000</td>\n",
              "      <td>35682.000000</td>\n",
              "      <td>6082.000000</td>\n",
              "      <td>15.000100</td>\n",
              "      <td>500.001000</td>\n",
              "    </tr>\n",
              "  </tbody>\n",
              "</table>\n",
              "</div>"
            ],
            "text/plain": [
              "          longitude      latitude  housing_median_age   total_rooms  \\\n",
              "count  17000.000000  17000.000000        17000.000000  17000.000000   \n",
              "mean    -119.562108     35.625225           28.589353   2643.664412   \n",
              "std        2.005166      2.137340           12.586937   2179.947071   \n",
              "min     -124.350000     32.540000            1.000000      2.000000   \n",
              "25%     -121.790000     33.930000           18.000000   1462.000000   \n",
              "50%     -118.490000     34.250000           29.000000   2127.000000   \n",
              "75%     -118.000000     37.720000           37.000000   3151.250000   \n",
              "max     -114.310000     41.950000           52.000000  37937.000000   \n",
              "\n",
              "       total_bedrooms    population    households  median_income  \\\n",
              "count    17000.000000  17000.000000  17000.000000   17000.000000   \n",
              "mean       539.410824   1429.573941    501.221941       3.883578   \n",
              "std        421.499452   1147.852959    384.520841       1.908157   \n",
              "min          1.000000      3.000000      1.000000       0.499900   \n",
              "25%        297.000000    790.000000    282.000000       2.566375   \n",
              "50%        434.000000   1167.000000    409.000000       3.544600   \n",
              "75%        648.250000   1721.000000    605.250000       4.767000   \n",
              "max       6445.000000  35682.000000   6082.000000      15.000100   \n",
              "\n",
              "       median_house_value  \n",
              "count        17000.000000  \n",
              "mean           207.300912  \n",
              "std            115.983764  \n",
              "min             14.999000  \n",
              "25%            119.400000  \n",
              "50%            180.400000  \n",
              "75%            265.000000  \n",
              "max            500.001000  "
            ]
          },
          "execution_count": 7,
          "metadata": {},
          "output_type": "execute_result"
        }
      ],
      "source": [
        "california_housing_dataframe.describe()"
      ]
    },
    {
      "cell_type": "code",
      "execution_count": null,
      "metadata": {
        "id": "T8tFdRup8Bbg",
        "outputId": "337eeac3-3879-4a1b-de15-8f7a6cfcffdb"
      },
      "outputs": [
        {
          "data": {
            "text/plain": [
              "array([[<AxesSubplot:title={'center':'longitude'}>,\n",
              "        <AxesSubplot:title={'center':'latitude'}>,\n",
              "        <AxesSubplot:title={'center':'housing_median_age'}>],\n",
              "       [<AxesSubplot:title={'center':'total_rooms'}>,\n",
              "        <AxesSubplot:title={'center':'total_bedrooms'}>,\n",
              "        <AxesSubplot:title={'center':'population'}>],\n",
              "       [<AxesSubplot:title={'center':'households'}>,\n",
              "        <AxesSubplot:title={'center':'median_income'}>,\n",
              "        <AxesSubplot:title={'center':'median_house_value'}>]],\n",
              "      dtype=object)"
            ]
          },
          "execution_count": 8,
          "metadata": {},
          "output_type": "execute_result"
        },
        {
          "data": {
            "image/png": "[encoded data removed]",
            "text/plain": [
              "<Figure size 1440x1080 with 9 Axes>"
            ]
          },
          "metadata": {
            "needs_background": "light"
          },
          "output_type": "display_data"
        }
      ],
      "source": [
        "california_housing_dataframe.hist(bins=50, figsize=(20,15))"
      ]
    },
    {
      "cell_type": "markdown",
      "metadata": {
        "id": "p7uZ33dEnJeC"
      },
      "source": [
        "### Build the First Model\n",
        "Let's try to predict the median_house_value by using only total_rooms as the feature.\n",
        "\n",
        "**Note**: Our data is at the city block level, so this feature represents the total number of rooms in that block.\n",
        "\n"
      ]
    },
    {
      "cell_type": "code",
      "execution_count": null,
      "metadata": {
        "id": "Ux9M3sY7nuaG"
      },
      "outputs": [],
      "source": [
        "from sklearn.linear_model import LinearRegression"
      ]
    },
    {
      "cell_type": "code",
      "execution_count": null,
      "metadata": {
        "colab": {
          "base_uri": "https://localhost:8080/",
          "height": 51
        },
        "id": "cQOeNxa3n8ir",
        "outputId": "e730cb90-916d-4001-9017-a93d58f7b7a0"
      },
      "outputs": [
        {
          "name": "stdout",
          "output_type": "stream",
          "text": [
            "(15300, 8)\n",
            "(1700, 8)\n"
          ]
        }
      ],
      "source": [
        "# split X and y into training and testing sets\n",
        "from sklearn.model_selection import train_test_split\n",
        "X_train, X_test, y_train, y_test = train_test_split(california_housing_dataframe.drop('median_house_value', axis=1),\n",
        "                                                    california_housing_dataframe['median_house_value'],\n",
        "                                                    test_size=0.1,\n",
        "                                                    random_state=1)\n",
        "print(X_train.shape)\n",
        "print(X_test.shape)"
      ]
    },
    {
      "cell_type": "markdown",
      "metadata": {
        "id": "77aqWj47po8l"
      },
      "source": [
        "## Let's plot a scatter plot between the mdeian_house_value and the total_rooms"
      ]
    },
    {
      "cell_type": "code",
      "execution_count": null,
      "metadata": {
        "colab": {
          "base_uri": "https://localhost:8080/",
          "height": 295
        },
        "id": "EVO_qnNwpbN1",
        "outputId": "8a360f75-433d-4c46-a27e-8060ebe94b29"
      },
      "outputs": [
        {
          "data": {
            "image/png": "[encoded data removed]",
            "text/plain": [
              "<Figure size 432x288 with 1 Axes>"
            ]
          },
          "metadata": {
            "needs_background": "light"
          },
          "output_type": "display_data"
        }
      ],
      "source": [
        "import matplotlib.pyplot as plt\n",
        "plt.scatter(X_train['total_rooms'], y_train)\n",
        "plt.xlabel('Total Rooms')\n",
        "plt.ylabel('Hoursing Price')\n",
        "plt.title('Relationship between Total Rooms and housing price')\n",
        "plt.show()"
      ]
    },
    {
      "cell_type": "markdown",
      "metadata": {
        "id": "tt3ooyVA8Bbi"
      },
      "source": [
        "## Let's try using total_rooms for prediction"
      ]
    },
    {
      "cell_type": "code",
      "execution_count": null,
      "metadata": {
        "colab": {
          "base_uri": "https://localhost:8080/",
          "height": 34
        },
        "id": "01K7ICuSpy4O",
        "outputId": "0283cace-1a7f-4b2c-a1c9-e4ac8796e657"
      },
      "outputs": [
        {
          "data": {
            "text/plain": [
              "LinearRegression()"
            ]
          },
          "execution_count": 11,
          "metadata": {},
          "output_type": "execute_result"
        }
      ],
      "source": [
        "from sklearn.linear_model import LinearRegression\n",
        "\n",
        "# Creates a LinearRegression object (Ordinary least squares Linear Regression)\n",
        "lm = LinearRegression()\n",
        "\n",
        "lm.fit(X_train[['total_rooms']], y_train)"
      ]
    },
    {
      "cell_type": "code",
      "execution_count": null,
      "metadata": {
        "colab": {
          "base_uri": "https://localhost:8080/",
          "height": 51
        },
        "id": "Yy6zcbR6vN6O",
        "outputId": "22ce6ffb-91c8-4a39-fe7b-153ee8cb5646"
      },
      "outputs": [
        {
          "name": "stdout",
          "output_type": "stream",
          "text": [
            "training mse: 13281.217066475458, testing mse: 12681.084631861055\n",
            "training rmse: 115.24416283038138, testing rmse: 112.61032204847412\n"
          ]
        }
      ],
      "source": [
        "# Compute MSE\n",
        "def mse(y_predicted, y_true):\n",
        "  return np.mean(np.square(y_predicted - y_true))\n",
        "\n",
        "mse_training = mse(lm.predict(X_train[['total_rooms']]), y_train)\n",
        "mse_testing = mse(lm.predict(X_test[['total_rooms']]), y_test)\n",
        "\n",
        "print(\"training mse: {}, testing mse: {}\".format(mse_training, mse_testing))\n",
        "print(\"training rmse: {}, testing rmse: {}\".format(np.sqrt(mse_training), np.sqrt(mse_testing)))"
      ]
    },
    {
      "cell_type": "code",
      "execution_count": null,
      "metadata": {
        "colab": {
          "base_uri": "https://localhost:8080/",
          "height": 295
        },
        "id": "CA4pBR0iw1kc",
        "outputId": "fd6cdffb-aeb9-4ee6-a220-10c840f1086c"
      },
      "outputs": [
        {
          "data": {
            "text/html": [
              "<div>\n",
              "<style scoped>\n",
              "    .dataframe tbody tr th:only-of-type {\n",
              "        vertical-align: middle;\n",
              "    }\n",
              "\n",
              "    .dataframe tbody tr th {\n",
              "        vertical-align: top;\n",
              "    }\n",
              "\n",
              "    .dataframe thead th {\n",
              "        text-align: right;\n",
              "    }\n",
              "</style>\n",
              "<table border=\"1\" class=\"dataframe\">\n",
              "  <thead>\n",
              "    <tr style=\"text-align: right;\">\n",
              "      <th></th>\n",
              "      <th>median_house_value</th>\n",
              "    </tr>\n",
              "  </thead>\n",
              "  <tbody>\n",
              "    <tr>\n",
              "      <th>count</th>\n",
              "      <td>17000.000000</td>\n",
              "    </tr>\n",
              "    <tr>\n",
              "      <th>mean</th>\n",
              "      <td>207.300912</td>\n",
              "    </tr>\n",
              "    <tr>\n",
              "      <th>std</th>\n",
              "      <td>115.983764</td>\n",
              "    </tr>\n",
              "    <tr>\n",
              "      <th>min</th>\n",
              "      <td>14.999000</td>\n",
              "    </tr>\n",
              "    <tr>\n",
              "      <th>25%</th>\n",
              "      <td>119.400000</td>\n",
              "    </tr>\n",
              "    <tr>\n",
              "      <th>50%</th>\n",
              "      <td>180.400000</td>\n",
              "    </tr>\n",
              "    <tr>\n",
              "      <th>75%</th>\n",
              "      <td>265.000000</td>\n",
              "    </tr>\n",
              "    <tr>\n",
              "      <th>max</th>\n",
              "      <td>500.001000</td>\n",
              "    </tr>\n",
              "  </tbody>\n",
              "</table>\n",
              "</div>"
            ],
            "text/plain": [
              "       median_house_value\n",
              "count        17000.000000\n",
              "mean           207.300912\n",
              "std            115.983764\n",
              "min             14.999000\n",
              "25%            119.400000\n",
              "50%            180.400000\n",
              "75%            265.000000\n",
              "max            500.001000"
            ]
          },
          "execution_count": 13,
          "metadata": {},
          "output_type": "execute_result"
        }
      ],
      "source": [
        "california_housing_dataframe[['median_house_value']].describe()"
      ]
    },
    {
      "cell_type": "code",
      "execution_count": null,
      "metadata": {
        "colab": {
          "base_uri": "https://localhost:8080/",
          "height": 295
        },
        "id": "y8yfl64rxTK8",
        "outputId": "c43b1354-73ed-46a9-b186-b4494925ec4b"
      },
      "outputs": [
        {
          "data": {
            "image/png": "[encoded data removed]",
            "text/plain": [
              "<Figure size 432x288 with 1 Axes>"
            ]
          },
          "metadata": {
            "needs_background": "light"
          },
          "output_type": "display_data"
        }
      ],
      "source": [
        "plt.scatter(X_train['total_rooms'], y_train)\n",
        "plt.xlabel('Total Rooms')\n",
        "plt.ylabel('Hoursing Price')\n",
        "plt.title('Relationship between Total Rooms and housing price')\n",
        "plt.plot(X_train['total_rooms'], lm.predict(X_train[['total_rooms']]), color='red')\n",
        "plt.show()"
      ]
    },
    {
      "cell_type": "markdown",
      "metadata": {
        "id": "fuZZtPTgGDvG"
      },
      "source": [
        "## Let's try using income"
      ]
    },
    {
      "cell_type": "code",
      "execution_count": null,
      "metadata": {
        "colab": {
          "base_uri": "https://localhost:8080/",
          "height": 295
        },
        "id": "--hn4WQH0hEh",
        "outputId": "1a386597-4915-473e-9823-f71770f66af9"
      },
      "outputs": [
        {
          "data": {
            "image/png": "[encoded data removed]",
            "text/plain": [
              "<Figure size 432x288 with 1 Axes>"
            ]
          },
          "metadata": {
            "needs_background": "light"
          },
          "output_type": "display_data"
        }
      ],
      "source": [
        "lm.fit(X_train[['median_income']], y_train)\n",
        "\n",
        "plt.scatter(X_train['median_income'], y_train)\n",
        "plt.xlabel('Income')\n",
        "plt.ylabel('Hoursing Price')\n",
        "plt.title('Relationship between median income and housing price')\n",
        "plt.plot(X_train['median_income'], lm.predict(X_train[['median_income']]), color='red')\n",
        "plt.show()"
      ]
    },
    {
      "cell_type": "code",
      "execution_count": null,
      "metadata": {
        "colab": {
          "base_uri": "https://localhost:8080/",
          "height": 51
        },
        "id": "e_miK4Cf0mEu",
        "outputId": "b33afb09-b174-4890-b44d-a0e382cdf1e1"
      },
      "outputs": [
        {
          "name": "stdout",
          "output_type": "stream",
          "text": [
            "training mse: 6996.902802319143, testing mse: 7153.9342711298605\n",
            "training rmse: 83.6474913091788, testing rmse: 84.58093325998395\n"
          ]
        }
      ],
      "source": [
        "mse_training = mse(lm.predict(X_train[['median_income']]), y_train)\n",
        "mse_testing = mse(lm.predict(X_test[['median_income']]), y_test)\n",
        "\n",
        "print(\"training mse: {}, testing mse: {}\".format(mse_training, mse_testing))\n",
        "print(\"training rmse: {}, testing rmse: {}\".format(np.sqrt(mse_training), np.sqrt(mse_testing)))"
      ]
    },
    {
      "cell_type": "markdown",
      "metadata": {
        "id": "pvJiqzo3zWVM"
      },
      "source": [
        "## Let's try using more features"
      ]
    },
    {
      "cell_type": "code",
      "execution_count": null,
      "metadata": {
        "colab": {
          "base_uri": "https://localhost:8080/",
          "height": 86
        },
        "id": "j5PdPbdqzwBo",
        "outputId": "f6cdcc01-ca20-4d71-dd32-f535dbec1900"
      },
      "outputs": [
        {
          "data": {
            "text/plain": [
              "Index(['longitude', 'latitude', 'housing_median_age', 'total_rooms',\n",
              "       'total_bedrooms', 'population', 'households', 'median_income',\n",
              "       'median_house_value'],\n",
              "      dtype='object')"
            ]
          },
          "execution_count": 17,
          "metadata": {},
          "output_type": "execute_result"
        }
      ],
      "source": [
        "california_housing_dataframe.columns"
      ]
    },
    {
      "cell_type": "code",
      "execution_count": null,
      "metadata": {
        "colab": {
          "base_uri": "https://localhost:8080/",
          "height": 51
        },
        "id": "YmVecRxlzabM",
        "outputId": "08914ce0-5196-4f3c-f847-7ba9e47efd5f"
      },
      "outputs": [
        {
          "name": "stdout",
          "output_type": "stream",
          "text": [
            "training mse: 4756.6268677586895, testing mse: 5518.548602193328\n",
            "training rmse: 68.96830335566251, testing rmse: 74.28693426298685\n"
          ]
        }
      ],
      "source": [
        "features = ['housing_median_age', 'total_rooms',\n",
        "       'total_bedrooms', 'population', 'households', 'median_income', 'latitude', 'longitude']\n",
        "\n",
        "lm.fit(X_train[features], y_train)\n",
        "\n",
        "mse_training = mse(lm.predict(X_train[features]), y_train)\n",
        "mse_testing = mse(lm.predict(X_test[features]), y_test)\n",
        "\n",
        "print(\"training mse: {}, testing mse: {}\".format(mse_training, mse_testing))\n",
        "print(\"training rmse: {}, testing rmse: {}\".format(np.sqrt(mse_training), np.sqrt(mse_testing)))"
      ]
    },
    {
      "cell_type": "code",
      "execution_count": null,
      "metadata": {
        "colab": {
          "base_uri": "https://localhost:8080/",
          "height": 295
        },
        "id": "FIMVGs-7zmn_",
        "outputId": "d35401f2-abcb-4f24-c71f-5c54a0bb0d79"
      },
      "outputs": [
        {
          "data": {
            "text/html": [
              "<div>\n",
              "<style scoped>\n",
              "    .dataframe tbody tr th:only-of-type {\n",
              "        vertical-align: middle;\n",
              "    }\n",
              "\n",
              "    .dataframe tbody tr th {\n",
              "        vertical-align: top;\n",
              "    }\n",
              "\n",
              "    .dataframe thead th {\n",
              "        text-align: right;\n",
              "    }\n",
              "</style>\n",
              "<table border=\"1\" class=\"dataframe\">\n",
              "  <thead>\n",
              "    <tr style=\"text-align: right;\">\n",
              "      <th></th>\n",
              "      <th>features</th>\n",
              "      <th>coefficients</th>\n",
              "    </tr>\n",
              "  </thead>\n",
              "  <tbody>\n",
              "    <tr>\n",
              "      <th>0</th>\n",
              "      <td>housing_median_age</td>\n",
              "      <td>1.140062</td>\n",
              "    </tr>\n",
              "    <tr>\n",
              "      <th>1</th>\n",
              "      <td>total_rooms</td>\n",
              "      <td>-0.007421</td>\n",
              "    </tr>\n",
              "    <tr>\n",
              "      <th>2</th>\n",
              "      <td>total_bedrooms</td>\n",
              "      <td>0.111769</td>\n",
              "    </tr>\n",
              "    <tr>\n",
              "      <th>3</th>\n",
              "      <td>population</td>\n",
              "      <td>-0.044762</td>\n",
              "    </tr>\n",
              "    <tr>\n",
              "      <th>4</th>\n",
              "      <td>households</td>\n",
              "      <td>0.063085</td>\n",
              "    </tr>\n",
              "    <tr>\n",
              "      <th>5</th>\n",
              "      <td>median_income</td>\n",
              "      <td>40.410947</td>\n",
              "    </tr>\n",
              "    <tr>\n",
              "      <th>6</th>\n",
              "      <td>latitude</td>\n",
              "      <td>-42.951257</td>\n",
              "    </tr>\n",
              "    <tr>\n",
              "      <th>7</th>\n",
              "      <td>longitude</td>\n",
              "      <td>-43.046707</td>\n",
              "    </tr>\n",
              "  </tbody>\n",
              "</table>\n",
              "</div>"
            ],
            "text/plain": [
              "             features  coefficients\n",
              "0  housing_median_age      1.140062\n",
              "1         total_rooms     -0.007421\n",
              "2      total_bedrooms      0.111769\n",
              "3          population     -0.044762\n",
              "4          households      0.063085\n",
              "5       median_income     40.410947\n",
              "6            latitude    -42.951257\n",
              "7           longitude    -43.046707"
            ]
          },
          "execution_count": 19,
          "metadata": {},
          "output_type": "execute_result"
        }
      ],
      "source": [
        "pd.DataFrame([x for x in zip(features, lm.coef_)], columns=['features', 'coefficients'])"
      ]
    },
    {
      "cell_type": "markdown",
      "metadata": {
        "id": "OmLH-iH32rTJ"
      },
      "source": [
        "## Let's try to do some feature engineering"
      ]
    },
    {
      "cell_type": "code",
      "execution_count": null,
      "metadata": {
        "colab": {
          "base_uri": "https://localhost:8080/",
          "height": 203
        },
        "id": "HV-d5ftc2HDp",
        "outputId": "d8ef9e9a-5f98-4efc-d1d9-07318f0e54e6"
      },
      "outputs": [
        {
          "data": {
            "text/html": [
              "<div>\n",
              "<style scoped>\n",
              "    .dataframe tbody tr th:only-of-type {\n",
              "        vertical-align: middle;\n",
              "    }\n",
              "\n",
              "    .dataframe tbody tr th {\n",
              "        vertical-align: top;\n",
              "    }\n",
              "\n",
              "    .dataframe thead th {\n",
              "        text-align: right;\n",
              "    }\n",
              "</style>\n",
              "<table border=\"1\" class=\"dataframe\">\n",
              "  <thead>\n",
              "    <tr style=\"text-align: right;\">\n",
              "      <th></th>\n",
              "      <th>longitude</th>\n",
              "      <th>latitude</th>\n",
              "      <th>housing_median_age</th>\n",
              "      <th>total_rooms</th>\n",
              "      <th>total_bedrooms</th>\n",
              "      <th>population</th>\n",
              "      <th>households</th>\n",
              "      <th>median_income</th>\n",
              "    </tr>\n",
              "  </thead>\n",
              "  <tbody>\n",
              "    <tr>\n",
              "      <th>14525</th>\n",
              "      <td>-122.15</td>\n",
              "      <td>37.74</td>\n",
              "      <td>41.0</td>\n",
              "      <td>856.0</td>\n",
              "      <td>178.0</td>\n",
              "      <td>571.0</td>\n",
              "      <td>191.0</td>\n",
              "      <td>3.1458</td>\n",
              "    </tr>\n",
              "    <tr>\n",
              "      <th>2765</th>\n",
              "      <td>-117.70</td>\n",
              "      <td>33.59</td>\n",
              "      <td>11.0</td>\n",
              "      <td>8039.0</td>\n",
              "      <td>1717.0</td>\n",
              "      <td>3445.0</td>\n",
              "      <td>1571.0</td>\n",
              "      <td>4.1678</td>\n",
              "    </tr>\n",
              "    <tr>\n",
              "      <th>5201</th>\n",
              "      <td>-118.13</td>\n",
              "      <td>33.82</td>\n",
              "      <td>37.0</td>\n",
              "      <td>1530.0</td>\n",
              "      <td>290.0</td>\n",
              "      <td>711.0</td>\n",
              "      <td>283.0</td>\n",
              "      <td>5.1795</td>\n",
              "    </tr>\n",
              "    <tr>\n",
              "      <th>10237</th>\n",
              "      <td>-119.94</td>\n",
              "      <td>37.04</td>\n",
              "      <td>14.0</td>\n",
              "      <td>1636.0</td>\n",
              "      <td>253.0</td>\n",
              "      <td>766.0</td>\n",
              "      <td>225.0</td>\n",
              "      <td>3.1250</td>\n",
              "    </tr>\n",
              "    <tr>\n",
              "      <th>7106</th>\n",
              "      <td>-118.32</td>\n",
              "      <td>33.99</td>\n",
              "      <td>43.0</td>\n",
              "      <td>1257.0</td>\n",
              "      <td>232.0</td>\n",
              "      <td>735.0</td>\n",
              "      <td>232.0</td>\n",
              "      <td>3.7167</td>\n",
              "    </tr>\n",
              "  </tbody>\n",
              "</table>\n",
              "</div>"
            ],
            "text/plain": [
              "       longitude  latitude  housing_median_age  total_rooms  total_bedrooms  \\\n",
              "14525    -122.15     37.74                41.0        856.0           178.0   \n",
              "2765     -117.70     33.59                11.0       8039.0          1717.0   \n",
              "5201     -118.13     33.82                37.0       1530.0           290.0   \n",
              "10237    -119.94     37.04                14.0       1636.0           253.0   \n",
              "7106     -118.32     33.99                43.0       1257.0           232.0   \n",
              "\n",
              "       population  households  median_income  \n",
              "14525       571.0       191.0         3.1458  \n",
              "2765       3445.0      1571.0         4.1678  \n",
              "5201        711.0       283.0         5.1795  \n",
              "10237       766.0       225.0         3.1250  \n",
              "7106        735.0       232.0         3.7167  "
            ]
          },
          "execution_count": 20,
          "metadata": {},
          "output_type": "execute_result"
        }
      ],
      "source": [
        "X_train.head()"
      ]
    },
    {
      "cell_type": "markdown",
      "metadata": {
        "id": "fnjKxnaQ8Bbj"
      },
      "source": [
        "Generate categorical features that split longitude and latitude values into 10 categories (default value 10)"
      ]
    },
    {
      "cell_type": "code",
      "execution_count": null,
      "metadata": {
        "id": "z4V3NErH2qGT"
      },
      "outputs": [],
      "source": [
        "# Compute the histogram for longitude and latitude\n",
        "_, longitude_boundaries = np.histogram(X_train['longitude'])\n",
        "_, latitude_boundaries = np.histogram(X_train['latitude'])"
      ]
    },
    {
      "cell_type": "code",
      "execution_count": null,
      "metadata": {
        "colab": {
          "base_uri": "https://localhost:8080/",
          "height": 206
        },
        "id": "AOTgaT_S32cG",
        "outputId": "4c803047-ead2-4a7a-c248-abc7c73a8f23"
      },
      "outputs": [
        {
          "name": "stdout",
          "output_type": "stream",
          "text": [
            "0 32.54\n",
            "1 33.481\n",
            "2 34.422\n",
            "3 35.363\n",
            "4 36.304\n",
            "5 37.245000000000005\n",
            "6 38.186\n",
            "7 39.127\n",
            "8 40.068000000000005\n",
            "9 41.009\n",
            "10 41.95\n"
          ]
        }
      ],
      "source": [
        "# display the boundaries in splitting letitude data\n",
        "for idx, item in enumerate(latitude_boundaries):\n",
        "  print (idx, item)"
      ]
    },
    {
      "cell_type": "code",
      "execution_count": null,
      "metadata": {
        "colab": {
          "base_uri": "https://localhost:8080/",
          "height": 69
        },
        "id": "2prEfGsFIGX_",
        "outputId": "e8b2733e-60e6-4d22-9850-30d9eebd3e29"
      },
      "outputs": [
        {
          "data": {
            "text/plain": [
              "min    32.54\n",
              "max    41.95\n",
              "Name: latitude, dtype: float64"
            ]
          },
          "execution_count": 23,
          "metadata": {},
          "output_type": "execute_result"
        }
      ],
      "source": [
        "X_train.describe()['latitude'].loc[['min', 'max']]"
      ]
    },
    {
      "cell_type": "code",
      "execution_count": null,
      "metadata": {
        "id": "FzC7Kqth3Zzn"
      },
      "outputs": [],
      "source": [
        "def assign_bucket(x, ranges):\n",
        "  if x <= ranges[0]:\n",
        "    return 0\n",
        "\n",
        "  for i in range(1, len(ranges) - 1):\n",
        "    if x <= ranges[i]:\n",
        "      return i - 1\n",
        "\n",
        "  return len(ranges) - 2\n",
        "\n",
        "X_train['lgt_discrete'] = X_train['longitude'].apply(lambda x: assign_bucket(x, longitude_boundaries))\n",
        "X_train['lat_discrete'] = X_train['latitude'].apply(lambda x: assign_bucket(x, latitude_boundaries))\n",
        "X_test['lgt_discrete'] = X_test['longitude'].apply(lambda x: assign_bucket(x, longitude_boundaries))\n",
        "X_test['lat_discrete'] = X_test['latitude'].apply(lambda x: assign_bucket(x, latitude_boundaries))"
      ]
    },
    {
      "cell_type": "code",
      "execution_count": null,
      "metadata": {
        "colab": {
          "base_uri": "https://localhost:8080/",
          "height": 206
        },
        "id": "QDF8Fm1-G26O",
        "outputId": "1689855b-e565-4200-d77a-52a9e7429cd9"
      },
      "outputs": [
        {
          "data": {
            "text/plain": [
              "0    1342\n",
              "1    6690\n",
              "2     542\n",
              "3     343\n",
              "4     951\n",
              "5    3493\n",
              "6    1280\n",
              "7     369\n",
              "8     235\n",
              "9      55\n",
              "Name: lat_discrete, dtype: int64"
            ]
          },
          "execution_count": 25,
          "metadata": {},
          "output_type": "execute_result"
        }
      ],
      "source": [
        "X_train['lat_discrete'].value_counts().sort_index()"
      ]
    },
    {
      "cell_type": "code",
      "execution_count": null,
      "metadata": {
        "colab": {
          "base_uri": "https://localhost:8080/",
          "height": 206
        },
        "id": "XpUTnQL5xi0N",
        "outputId": "2e67786c-cc37-4eb6-9564-bc3eacd53fd3"
      },
      "outputs": [
        {
          "data": {
            "text/plain": [
              "0    156\n",
              "1    729\n",
              "2     70\n",
              "3     39\n",
              "4     98\n",
              "5    385\n",
              "6    150\n",
              "7     34\n",
              "8     29\n",
              "9     10\n",
              "Name: lat_discrete, dtype: int64"
            ]
          },
          "execution_count": 26,
          "metadata": {},
          "output_type": "execute_result"
        }
      ],
      "source": [
        "X_test['lat_discrete'].value_counts().sort_index()"
      ]
    },
    {
      "cell_type": "code",
      "execution_count": null,
      "metadata": {
        "colab": {
          "base_uri": "https://localhost:8080/",
          "height": 34
        },
        "id": "9HTc1mRgdo0-",
        "outputId": "1f42ba3e-a056-4dcf-bacc-be09f4b8525d"
      },
      "outputs": [
        {
          "data": {
            "text/html": [
              "<div>\n",
              "<style scoped>\n",
              "    .dataframe tbody tr th:only-of-type {\n",
              "        vertical-align: middle;\n",
              "    }\n",
              "\n",
              "    .dataframe tbody tr th {\n",
              "        vertical-align: top;\n",
              "    }\n",
              "\n",
              "    .dataframe thead th {\n",
              "        text-align: right;\n",
              "    }\n",
              "</style>\n",
              "<table border=\"1\" class=\"dataframe\">\n",
              "  <thead>\n",
              "    <tr style=\"text-align: right;\">\n",
              "      <th></th>\n",
              "      <th>longitude</th>\n",
              "      <th>latitude</th>\n",
              "      <th>housing_median_age</th>\n",
              "      <th>total_rooms</th>\n",
              "      <th>total_bedrooms</th>\n",
              "      <th>population</th>\n",
              "      <th>households</th>\n",
              "      <th>median_income</th>\n",
              "      <th>lgt_discrete</th>\n",
              "      <th>lat_discrete</th>\n",
              "    </tr>\n",
              "  </thead>\n",
              "  <tbody>\n",
              "    <tr>\n",
              "      <th>count</th>\n",
              "      <td>15300.000000</td>\n",
              "      <td>15300.000000</td>\n",
              "      <td>15300.000000</td>\n",
              "      <td>15300.000000</td>\n",
              "      <td>15300.000000</td>\n",
              "      <td>15300.000000</td>\n",
              "      <td>15300.000000</td>\n",
              "      <td>15300.000000</td>\n",
              "      <td>15300.000000</td>\n",
              "      <td>15300.000000</td>\n",
              "    </tr>\n",
              "    <tr>\n",
              "      <th>mean</th>\n",
              "      <td>-119.560190</td>\n",
              "      <td>35.624952</td>\n",
              "      <td>28.597712</td>\n",
              "      <td>2644.604052</td>\n",
              "      <td>539.401699</td>\n",
              "      <td>1428.343529</td>\n",
              "      <td>501.354183</td>\n",
              "      <td>3.886031</td>\n",
              "      <td>4.337516</td>\n",
              "      <td>2.791503</td>\n",
              "    </tr>\n",
              "    <tr>\n",
              "      <th>std</th>\n",
              "      <td>2.003308</td>\n",
              "      <td>2.135410</td>\n",
              "      <td>12.599039</td>\n",
              "      <td>2187.062475</td>\n",
              "      <td>421.823617</td>\n",
              "      <td>1124.439242</td>\n",
              "      <td>385.131081</td>\n",
              "      <td>1.914295</td>\n",
              "      <td>2.044908</td>\n",
              "      <td>2.271190</td>\n",
              "    </tr>\n",
              "    <tr>\n",
              "      <th>min</th>\n",
              "      <td>-124.350000</td>\n",
              "      <td>32.540000</td>\n",
              "      <td>1.000000</td>\n",
              "      <td>2.000000</td>\n",
              "      <td>1.000000</td>\n",
              "      <td>6.000000</td>\n",
              "      <td>1.000000</td>\n",
              "      <td>0.499900</td>\n",
              "      <td>0.000000</td>\n",
              "      <td>0.000000</td>\n",
              "    </tr>\n",
              "    <tr>\n",
              "      <th>25%</th>\n",
              "      <td>-121.780000</td>\n",
              "      <td>33.930000</td>\n",
              "      <td>18.000000</td>\n",
              "      <td>1459.750000</td>\n",
              "      <td>296.000000</td>\n",
              "      <td>790.000000</td>\n",
              "      <td>281.000000</td>\n",
              "      <td>2.563850</td>\n",
              "      <td>2.000000</td>\n",
              "      <td>1.000000</td>\n",
              "    </tr>\n",
              "    <tr>\n",
              "      <th>50%</th>\n",
              "      <td>-118.490000</td>\n",
              "      <td>34.250000</td>\n",
              "      <td>29.000000</td>\n",
              "      <td>2125.000000</td>\n",
              "      <td>433.000000</td>\n",
              "      <td>1165.000000</td>\n",
              "      <td>408.000000</td>\n",
              "      <td>3.549250</td>\n",
              "      <td>5.000000</td>\n",
              "      <td>1.000000</td>\n",
              "    </tr>\n",
              "    <tr>\n",
              "      <th>75%</th>\n",
              "      <td>-118.000000</td>\n",
              "      <td>37.720000</td>\n",
              "      <td>37.000000</td>\n",
              "      <td>3153.000000</td>\n",
              "      <td>650.000000</td>\n",
              "      <td>1721.000000</td>\n",
              "      <td>606.000000</td>\n",
              "      <td>4.772150</td>\n",
              "      <td>6.000000</td>\n",
              "      <td>5.000000</td>\n",
              "    </tr>\n",
              "    <tr>\n",
              "      <th>max</th>\n",
              "      <td>-114.310000</td>\n",
              "      <td>41.950000</td>\n",
              "      <td>52.000000</td>\n",
              "      <td>37937.000000</td>\n",
              "      <td>6445.000000</td>\n",
              "      <td>28566.000000</td>\n",
              "      <td>6082.000000</td>\n",
              "      <td>15.000100</td>\n",
              "      <td>9.000000</td>\n",
              "      <td>9.000000</td>\n",
              "    </tr>\n",
              "  </tbody>\n",
              "</table>\n",
              "</div>"
            ],
            "text/plain": [
              "          longitude      latitude  housing_median_age   total_rooms  \\\n",
              "count  15300.000000  15300.000000        15300.000000  15300.000000   \n",
              "mean    -119.560190     35.624952           28.597712   2644.604052   \n",
              "std        2.003308      2.135410           12.599039   2187.062475   \n",
              "min     -124.350000     32.540000            1.000000      2.000000   \n",
              "25%     -121.780000     33.930000           18.000000   1459.750000   \n",
              "50%     -118.490000     34.250000           29.000000   2125.000000   \n",
              "75%     -118.000000     37.720000           37.000000   3153.000000   \n",
              "max     -114.310000     41.950000           52.000000  37937.000000   \n",
              "\n",
              "       total_bedrooms    population    households  median_income  \\\n",
              "count    15300.000000  15300.000000  15300.000000   15300.000000   \n",
              "mean       539.401699   1428.343529    501.354183       3.886031   \n",
              "std        421.823617   1124.439242    385.131081       1.914295   \n",
              "min          1.000000      6.000000      1.000000       0.499900   \n",
              "25%        296.000000    790.000000    281.000000       2.563850   \n",
              "50%        433.000000   1165.000000    408.000000       3.549250   \n",
              "75%        650.000000   1721.000000    606.000000       4.772150   \n",
              "max       6445.000000  28566.000000   6082.000000      15.000100   \n",
              "\n",
              "       lgt_discrete  lat_discrete  \n",
              "count  15300.000000  15300.000000  \n",
              "mean       4.337516      2.791503  \n",
              "std        2.044908      2.271190  \n",
              "min        0.000000      0.000000  \n",
              "25%        2.000000      1.000000  \n",
              "50%        5.000000      1.000000  \n",
              "75%        6.000000      5.000000  \n",
              "max        9.000000      9.000000  "
            ]
          },
          "execution_count": 27,
          "metadata": {},
          "output_type": "execute_result"
        }
      ],
      "source": [
        "X_train.describe()"
      ]
    },
    {
      "cell_type": "code",
      "execution_count": null,
      "metadata": {
        "id": "CJojr34DZY7m"
      },
      "outputs": [],
      "source": [
        "from sklearn.preprocessing import OneHotEncoder\n",
        "enc = OneHotEncoder(categories='auto')\n",
        "features_lat_lgn_train = enc.fit_transform(X_train[['lgt_discrete', 'lat_discrete']])\n",
        "features_lat_lgn_test = enc.transform(X_test[['lgt_discrete', 'lat_discrete']])"
      ]
    },
    {
      "cell_type": "code",
      "execution_count": null,
      "metadata": {
        "colab": {
          "base_uri": "https://localhost:8080/",
          "height": 34
        },
        "id": "njHZHV1jamDh",
        "outputId": "ebb99d6f-5dc9-4577-a61d-bab53cbd1e21"
      },
      "outputs": [
        {
          "data": {
            "text/plain": [
              "((15300, 20), (1700, 20))"
            ]
          },
          "execution_count": 29,
          "metadata": {},
          "output_type": "execute_result"
        }
      ],
      "source": [
        "features_lat_lgn_train.shape, features_lat_lgn_test.shape"
      ]
    },
    {
      "cell_type": "code",
      "execution_count": null,
      "metadata": {
        "id": "yRQFhkQf8Bbk",
        "outputId": "4920177b-7dbd-40cd-ae95-0ee6b30e953c"
      },
      "outputs": [
        {
          "name": "stdout",
          "output_type": "stream",
          "text": [
            "  (0, 5)\t1.0\n",
            "  (0, 11)\t1.0\n"
          ]
        }
      ],
      "source": [
        "print(features_lat_lgn_test[1699])"
      ]
    },
    {
      "cell_type": "code",
      "execution_count": null,
      "metadata": {
        "id": "GhwMIcpqbYLi"
      },
      "outputs": [],
      "source": [
        "features_to_drop = ['longitude', 'latitude', 'lgt_discrete', 'lat_discrete']\n",
        "OHE_train = np.hstack((X_train.drop(features_to_drop, axis=1).values, features_lat_lgn_train.toarray()))\n",
        "OHE_test = np.hstack((X_test.drop(features_to_drop, axis=1).values, features_lat_lgn_test.toarray()))"
      ]
    },
    {
      "cell_type": "code",
      "execution_count": null,
      "metadata": {
        "id": "KK94G6RU8Bbl",
        "outputId": "da764c8e-78c9-417c-e658-609db1701e77"
      },
      "outputs": [
        {
          "data": {
            "text/plain": [
              "(15300, 26)"
            ]
          },
          "execution_count": 32,
          "metadata": {},
          "output_type": "execute_result"
        }
      ],
      "source": [
        "OHE_train.shape"
      ]
    },
    {
      "cell_type": "code",
      "execution_count": null,
      "metadata": {
        "colab": {
          "base_uri": "https://localhost:8080/",
          "height": 51
        },
        "id": "0oorhVQfdvG6",
        "outputId": "f3c5ee72-cb6c-4127-bfad-e8f1c5aec220"
      },
      "outputs": [
        {
          "name": "stdout",
          "output_type": "stream",
          "text": [
            "training mse: 4548.21268135489, testing mse: 5068.73890056489\n",
            "training rmse: 67.44043802760248, testing rmse: 71.19507637867166\n"
          ]
        }
      ],
      "source": [
        "lm.fit(OHE_train, y_train)\n",
        "\n",
        "mse_training = mse(lm.predict(OHE_train), y_train)\n",
        "mse_testing = mse(lm.predict(OHE_test), y_test)\n",
        "\n",
        "print(\"training mse: {}, testing mse: {}\".format(mse_training, mse_testing))\n",
        "print(\"training rmse: {}, testing rmse: {}\".format(np.sqrt(mse_training), np.sqrt(mse_testing)))"
      ]
    },
    {
      "cell_type": "code",
      "execution_count": null,
      "metadata": {
        "id": "BVGGVe-QiAPI",
        "outputId": "eaafa419-d274-4dde-b80d-e57b91eaa0e1"
      },
      "outputs": [
        {
          "data": {
            "text/html": [
              "<div>\n",
              "<style scoped>\n",
              "    .dataframe tbody tr th:only-of-type {\n",
              "        vertical-align: middle;\n",
              "    }\n",
              "\n",
              "    .dataframe tbody tr th {\n",
              "        vertical-align: top;\n",
              "    }\n",
              "\n",
              "    .dataframe thead th {\n",
              "        text-align: right;\n",
              "    }\n",
              "</style>\n",
              "<table border=\"1\" class=\"dataframe\">\n",
              "  <thead>\n",
              "    <tr style=\"text-align: right;\">\n",
              "      <th></th>\n",
              "      <th>features</th>\n",
              "      <th>coefficients</th>\n",
              "    </tr>\n",
              "  </thead>\n",
              "  <tbody>\n",
              "    <tr>\n",
              "      <th>0</th>\n",
              "      <td>housing_median_age</td>\n",
              "      <td>0.875070</td>\n",
              "    </tr>\n",
              "    <tr>\n",
              "      <th>1</th>\n",
              "      <td>total_rooms</td>\n",
              "      <td>-0.005201</td>\n",
              "    </tr>\n",
              "    <tr>\n",
              "      <th>2</th>\n",
              "      <td>total_bedrooms</td>\n",
              "      <td>0.089284</td>\n",
              "    </tr>\n",
              "    <tr>\n",
              "      <th>3</th>\n",
              "      <td>population</td>\n",
              "      <td>-0.042559</td>\n",
              "    </tr>\n",
              "    <tr>\n",
              "      <th>4</th>\n",
              "      <td>households</td>\n",
              "      <td>0.065535</td>\n",
              "    </tr>\n",
              "    <tr>\n",
              "      <th>5</th>\n",
              "      <td>median_income</td>\n",
              "      <td>38.678596</td>\n",
              "    </tr>\n",
              "    <tr>\n",
              "      <th>6</th>\n",
              "      <td>0</td>\n",
              "      <td>107.224415</td>\n",
              "    </tr>\n",
              "    <tr>\n",
              "      <th>7</th>\n",
              "      <td>1</td>\n",
              "      <td>147.947329</td>\n",
              "    </tr>\n",
              "    <tr>\n",
              "      <th>8</th>\n",
              "      <td>2</td>\n",
              "      <td>90.918828</td>\n",
              "    </tr>\n",
              "    <tr>\n",
              "      <th>9</th>\n",
              "      <td>3</td>\n",
              "      <td>50.780307</td>\n",
              "    </tr>\n",
              "    <tr>\n",
              "      <th>10</th>\n",
              "      <td>4</td>\n",
              "      <td>26.754831</td>\n",
              "    </tr>\n",
              "    <tr>\n",
              "      <th>11</th>\n",
              "      <td>5</td>\n",
              "      <td>-3.123719</td>\n",
              "    </tr>\n",
              "    <tr>\n",
              "      <th>12</th>\n",
              "      <td>6</td>\n",
              "      <td>-48.259795</td>\n",
              "    </tr>\n",
              "    <tr>\n",
              "      <th>13</th>\n",
              "      <td>7</td>\n",
              "      <td>-105.573025</td>\n",
              "    </tr>\n",
              "    <tr>\n",
              "      <th>14</th>\n",
              "      <td>8</td>\n",
              "      <td>-148.101727</td>\n",
              "    </tr>\n",
              "    <tr>\n",
              "      <th>15</th>\n",
              "      <td>9</td>\n",
              "      <td>-118.567444</td>\n",
              "    </tr>\n",
              "    <tr>\n",
              "      <th>16</th>\n",
              "      <td>10</td>\n",
              "      <td>169.919121</td>\n",
              "    </tr>\n",
              "    <tr>\n",
              "      <th>17</th>\n",
              "      <td>11</td>\n",
              "      <td>127.214427</td>\n",
              "    </tr>\n",
              "    <tr>\n",
              "      <th>18</th>\n",
              "      <td>12</td>\n",
              "      <td>60.786777</td>\n",
              "    </tr>\n",
              "    <tr>\n",
              "      <th>19</th>\n",
              "      <td>13</td>\n",
              "      <td>0.592666</td>\n",
              "    </tr>\n",
              "    <tr>\n",
              "      <th>20</th>\n",
              "      <td>14</td>\n",
              "      <td>-7.649083</td>\n",
              "    </tr>\n",
              "    <tr>\n",
              "      <th>21</th>\n",
              "      <td>15</td>\n",
              "      <td>-7.590994</td>\n",
              "    </tr>\n",
              "    <tr>\n",
              "      <th>22</th>\n",
              "      <td>16</td>\n",
              "      <td>-60.629131</td>\n",
              "    </tr>\n",
              "    <tr>\n",
              "      <th>23</th>\n",
              "      <td>17</td>\n",
              "      <td>-66.073609</td>\n",
              "    </tr>\n",
              "    <tr>\n",
              "      <th>24</th>\n",
              "      <td>18</td>\n",
              "      <td>-104.179676</td>\n",
              "    </tr>\n",
              "    <tr>\n",
              "      <th>25</th>\n",
              "      <td>19</td>\n",
              "      <td>-112.390498</td>\n",
              "    </tr>\n",
              "  </tbody>\n",
              "</table>\n",
              "</div>"
            ],
            "text/plain": [
              "              features  coefficients\n",
              "0   housing_median_age      0.875070\n",
              "1          total_rooms     -0.005201\n",
              "2       total_bedrooms      0.089284\n",
              "3           population     -0.042559\n",
              "4           households      0.065535\n",
              "5        median_income     38.678596\n",
              "6                    0    107.224415\n",
              "7                    1    147.947329\n",
              "8                    2     90.918828\n",
              "9                    3     50.780307\n",
              "10                   4     26.754831\n",
              "11                   5     -3.123719\n",
              "12                   6    -48.259795\n",
              "13                   7   -105.573025\n",
              "14                   8   -148.101727\n",
              "15                   9   -118.567444\n",
              "16                  10    169.919121\n",
              "17                  11    127.214427\n",
              "18                  12     60.786777\n",
              "19                  13      0.592666\n",
              "20                  14     -7.649083\n",
              "21                  15     -7.590994\n",
              "22                  16    -60.629131\n",
              "23                  17    -66.073609\n",
              "24                  18   -104.179676\n",
              "25                  19   -112.390498"
            ]
          },
          "execution_count": 34,
          "metadata": {},
          "output_type": "execute_result"
        }
      ],
      "source": [
        "pd.DataFrame([x for x in zip(list(X_train.drop(features_to_drop, axis=1).columns) \\\n",
        "              + [str(x) for x in range(20)], lm.coef_)], columns=['features', 'coefficients'])"
      ]
    },
    {
      "cell_type": "code",
      "execution_count": null,
      "metadata": {
        "id": "zjnNFoE1ijYA"
      },
      "outputs": [],
      "source": [
        "# Reduce the number of buckets to 5\n",
        "\n",
        "bins_considered = range(5, 50)\n",
        "train_rmse, test_rmse = [], []\n",
        "\n",
        "for number_bin in bins_considered:\n",
        "  # print ('# of bins: %d' %number_bin)\n",
        "  _, longitude_boundaries = np.histogram(X_train['longitude'], bins=number_bin)\n",
        "  _, latitude_boundaries = np.histogram(X_train['latitude'], bins=number_bin)\n",
        "\n",
        "  X_train['lgt_discrete'] = X_train['longitude'].apply(lambda x: assign_bucket(x, longitude_boundaries))\n",
        "  X_train['lat_discrete'] = X_train['latitude'].apply(lambda x: assign_bucket(x, latitude_boundaries))\n",
        "  X_test['lgt_discrete'] = X_test['longitude'].apply(lambda x: assign_bucket(x, longitude_boundaries))\n",
        "  X_test['lat_discrete'] = X_test['latitude'].apply(lambda x: assign_bucket(x, latitude_boundaries))\n",
        "\n",
        "  # One hot encoding\n",
        "  features_lat_lgn_train = enc.fit_transform(X_train[['lgt_discrete', 'lat_discrete']])\n",
        "  features_lat_lgn_test = enc.transform(X_test[['lgt_discrete', 'lat_discrete']])\n",
        "\n",
        "  # Concatenate features\n",
        "  OHE_train = np.hstack((X_train.drop(features_to_drop, axis=1).values, features_lat_lgn_train.toarray()))\n",
        "  OHE_test = np.hstack((X_test.drop(features_to_drop, axis=1).values, features_lat_lgn_test.toarray()))\n",
        "\n",
        "  lm.fit(OHE_train, y_train)\n",
        "\n",
        "  mse_training = mse(lm.predict(OHE_train), y_train)\n",
        "  mse_testing = mse(lm.predict(OHE_test), y_test)\n",
        "\n",
        "  train_rmse.append(np.sqrt(mse_training))\n",
        "  test_rmse.append(np.sqrt(mse_testing))"
      ]
    },
    {
      "cell_type": "code",
      "execution_count": null,
      "metadata": {
        "colab": {
          "base_uri": "https://localhost:8080/",
          "height": 312
        },
        "id": "Yfgj7nGJkUqY",
        "outputId": "75a54389-9157-4f8c-aa67-e085266efbec"
      },
      "outputs": [
        {
          "data": {
            "text/plain": [
              "Text(0.5, 1.0, 'Relationship between RMSE and number of bins')"
            ]
          },
          "execution_count": 36,
          "metadata": {},
          "output_type": "execute_result"
        },
        {
          "data": {
            "image/png": "[encoded data removed]",
            "text/plain": [
              "<Figure size 432x288 with 1 Axes>"
            ]
          },
          "metadata": {
            "needs_background": "light"
          },
          "output_type": "display_data"
        }
      ],
      "source": [
        "plt.plot(bins_considered, train_rmse)\n",
        "plt.plot(bins_considered, test_rmse)\n",
        "plt.legend(['train rmse', 'test rmse'])\n",
        "plt.xlabel('Number of bins')\n",
        "plt.ylabel('RMSE')\n",
        "plt.title('Relationship between RMSE and number of bins')"
      ]
    },
    {
      "cell_type": "markdown",
      "metadata": {
        "id": "XrwNppheh43v"
      },
      "source": [
        "## Add feature cross"
      ]
    },
    {
      "cell_type": "code",
      "execution_count": null,
      "metadata": {
        "id": "ioZZL2X2k0gV",
        "outputId": "58e46016-b549-43a5-d316-8baf4e2425a2"
      },
      "outputs": [
        {
          "data": {
            "text/plain": [
              "4     0.205621\n",
              "12    0.398562\n",
              "9     0.039085\n",
              "0     0.045359\n",
              "7     0.115882\n",
              "13    0.012092\n",
              "5     0.077582\n",
              "6     0.006667\n",
              "1     0.024706\n",
              "2     0.012092\n",
              "8     0.031895\n",
              "15    0.010523\n",
              "3     0.013268\n",
              "10    0.005490\n",
              "14    0.000392\n",
              "16    0.000588\n",
              "11    0.000196\n",
              "Name: cross_lgt_lat_discrete, dtype: float64"
            ]
          },
          "execution_count": 37,
          "metadata": {},
          "output_type": "execute_result"
        }
      ],
      "source": [
        "no_bins=5\n",
        "\n",
        "_, longitude_boundaries = np.histogram(X_train['longitude'], bins=no_bins)\n",
        "_, latitude_boundaries = np.histogram(X_train['latitude'], bins=no_bins)\n",
        "\n",
        "X_train['lgt_discrete'] = X_train['longitude'].apply(lambda x: assign_bucket(x, longitude_boundaries))\n",
        "X_train['lat_discrete'] = X_train['latitude'].apply(lambda x: assign_bucket(x, latitude_boundaries))\n",
        "X_test['lgt_discrete'] = X_test['longitude'].apply(lambda x: assign_bucket(x, longitude_boundaries))\n",
        "X_test['lat_discrete'] = X_test['latitude'].apply(lambda x: assign_bucket(x, latitude_boundaries))\n",
        "\n",
        "#the number of combinations of lgt_discrete and lat_discrete would be no_bins*no_bins=25\n",
        "\n",
        "X_train['cross_lgt_lat_discrete'] = X_train['lgt_discrete'] * no_bins + X_train['lat_discrete']\n",
        "X_test['cross_lgt_lat_discrete'] = X_test['lgt_discrete'] * no_bins + X_test['lat_discrete']\n",
        "\n",
        "# Use the label encoder to convert the values to zero-based\n",
        "from sklearn.preprocessing import LabelEncoder\n",
        "le = LabelEncoder()\n",
        "\n",
        "# fit_transform() is used on the training data so that we can scale the training data\n",
        "# and also learn the scaling parameters of that data.\n",
        "X_train['cross_lgt_lat_discrete'] = le.fit_transform(X_train['cross_lgt_lat_discrete'])\n",
        "# Using the transform method we can use the same mean and variance as it is calculated from our training data to transform our test data.\n",
        "X_test['cross_lgt_lat_discrete'] = le.transform(X_test['cross_lgt_lat_discrete'])\n",
        "#X_train['lgt_lat_discrete'].describe()\n",
        "X_train['cross_lgt_lat_discrete'].value_counts(sort=False,ascending=True)/len(X_train['cross_lgt_lat_discrete'])"
      ]
    },
    {
      "cell_type": "code",
      "execution_count": null,
      "metadata": {
        "colab": {
          "base_uri": "https://localhost:8080/",
          "height": 86
        },
        "id": "Wa6AOjivlfWH",
        "outputId": "69a52d87-24bc-4e7b-e99c-4ce022a0336b"
      },
      "outputs": [
        {
          "name": "stdout",
          "output_type": "stream",
          "text": [
            "training mse: 4698.299237679502, testing mse: 5257.2112048419085\n",
            "training rmse: 68.54414079758752, testing rmse: 72.50662869587792\n",
            "\n"
          ]
        },
        {
          "data": {
            "text/plain": [
              "array([ 9.85420040e-01, -8.22631165e-03,  5.53960077e-02, -4.03492910e-02,\n",
              "        1.12455806e-01,  4.02422465e+01,  1.16040580e+02,  2.43313841e+01,\n",
              "       -3.29294856e+01,  3.95166340e+01,  3.53364390e+01, -1.76705170e+01,\n",
              "       -3.33203919e+01,  8.73913496e+01, -3.43012361e+00, -3.84762505e+01,\n",
              "        4.80363632e+00, -7.18388298e+01,  3.29480274e+01, -2.55155030e+01,\n",
              "       -3.64532864e+01, -2.88106255e+01, -5.19230368e+01])"
            ]
          },
          "execution_count": 38,
          "metadata": {},
          "output_type": "execute_result"
        }
      ],
      "source": [
        "# One hot encoding\n",
        "features_cross_lat_lgn_train = enc.fit_transform(X_train[['cross_lgt_lat_discrete']])\n",
        "features_cross_lat_lgn_test = enc.transform(X_test[['cross_lgt_lat_discrete']])\n",
        "\n",
        "features = ['housing_median_age', 'total_rooms', 'total_bedrooms', 'population', 'households', 'median_income']\n",
        "# Concatenate features\n",
        "OHE_train = np.hstack((X_train[features].values, features_cross_lat_lgn_train.toarray()))\n",
        "OHE_test = np.hstack((X_test[features].values, features_cross_lat_lgn_test.toarray()))\n",
        "\n",
        "lm.fit(OHE_train, y_train)\n",
        "\n",
        "mse_training = mse(lm.predict(OHE_train), y_train)\n",
        "mse_testing = mse(lm.predict(OHE_test), y_test)\n",
        "\n",
        "print(\"training mse: {}, testing mse: {}\".format(mse_training, mse_testing))\n",
        "print(\"training rmse: {}, testing rmse: {}\\n\".format(np.sqrt(mse_training), np.sqrt(mse_testing)))\n",
        "\n",
        "# check the number of features generated by one hot encoding\n",
        "features_lat_lgn_train.shape\n",
        "# check the number of features fed into the model\n",
        "lm.coef_"
      ]
    },
    {
      "cell_type": "code",
      "execution_count": null,
      "metadata": {
        "colab": {
          "base_uri": "https://localhost:8080/",
          "height": 34
        },
        "id": "LkT0TCxEK4po",
        "outputId": "c118dc4b-389d-4044-cd96-30999579af03"
      },
      "outputs": [
        {
          "data": {
            "text/plain": [
              "(69.27215415614049, 73.25288413248248)"
            ]
          },
          "execution_count": 39,
          "metadata": {},
          "output_type": "execute_result"
        }
      ],
      "source": [
        "train_rmse[0], test_rmse[0]"
      ]
    },
    {
      "cell_type": "code",
      "execution_count": null,
      "metadata": {
        "colab": {
          "base_uri": "https://localhost:8080/",
          "height": 34
        },
        "id": "rNQm4Y94LPou",
        "outputId": "ef151249-fcec-41f5-e786-a92c9c209f3e"
      },
      "outputs": [
        {
          "name": "stdout",
          "output_type": "stream",
          "text": [
            "Number of bins: 49\n"
          ]
        },
        {
          "data": {
            "text/plain": [
              "(63.18729183464807, 67.43804891979282)"
            ]
          },
          "execution_count": 40,
          "metadata": {},
          "output_type": "execute_result"
        }
      ],
      "source": [
        "# The best performance so far:\n",
        "print (\"Number of bins: {}\".format(number_bin))\n",
        "train_rmse[-1], test_rmse[-1]"
      ]
    },
    {
      "cell_type": "code",
      "execution_count": null,
      "metadata": {
        "id": "DSl4StnN8Bbm",
        "outputId": "b5fdf8e7-d261-42f9-f083-8d6bf3044b75"
      },
      "outputs": [
        {
          "data": {
            "text/html": [
              "<details>\n",
              "<summary>Click to view session information</summary>\n",
              "<pre>\n",
              "-----\n",
              "matplotlib          3.5.1\n",
              "numpy               1.21.5\n",
              "pandas              1.4.2\n",
              "scipy               1.7.3\n",
              "session_info        1.0.0\n",
              "sklearn             1.0.2\n",
              "-----\n",
              "</pre>\n",
              "<details>\n",
              "<summary>Click to view modules imported as dependencies</summary>\n",
              "<pre>\n",
              "PIL                         9.0.1\n",
              "appnope                     0.1.2\n",
              "asttokens                   NA\n",
              "backcall                    0.2.0\n",
              "beta_ufunc                  NA\n",
              "binom_ufunc                 NA\n",
              "bottleneck                  1.3.4\n",
              "cffi                        1.15.0\n",
              "colorama                    0.4.4\n",
              "cycler                      0.10.0\n",
              "cython_runtime              NA\n",
              "dateutil                    2.8.2\n",
              "debugpy                     1.5.1\n",
              "decorator                   5.1.1\n",
              "defusedxml                  0.7.1\n",
              "executing                   0.8.3\n",
              "google                      NA\n",
              "importlib_metadata          NA\n",
              "ipykernel                   6.9.1\n",
              "ipython_genutils            0.2.0\n",
              "jedi                        0.18.1\n",
              "joblib                      1.1.0\n",
              "jupyter_server              1.13.5\n",
              "kiwisolver                  1.3.2\n",
              "matplotlib_inline           NA\n",
              "mkl                         2.4.0\n",
              "mpl_toolkits                NA\n",
              "nbinom_ufunc                NA\n",
              "numexpr                     2.8.1\n",
              "packaging                   21.3\n",
              "parso                       0.8.3\n",
              "pexpect                     4.8.0\n",
              "pickleshare                 0.7.5\n",
              "pkg_resources               NA\n",
              "prompt_toolkit              3.0.20\n",
              "psutil                      5.8.0\n",
              "ptyprocess                  0.7.0\n",
              "pure_eval                   0.2.2\n",
              "pydev_ipython               NA\n",
              "pydevconsole                NA\n",
              "pydevd                      2.6.0\n",
              "pydevd_concurrency_analyser NA\n",
              "pydevd_file_utils           NA\n",
              "pydevd_plugins              NA\n",
              "pydevd_tracing              NA\n",
              "pygments                    2.11.2\n",
              "pyparsing                   3.0.4\n",
              "pytz                        2021.3\n",
              "setuptools                  61.2.0\n",
              "six                         1.16.0\n",
              "sphinxcontrib               NA\n",
              "stack_data                  0.2.0\n",
              "threadpoolctl               2.2.0\n",
              "tornado                     6.1\n",
              "traitlets                   5.1.1\n",
              "typing_extensions           NA\n",
              "wcwidth                     0.2.5\n",
              "zipp                        NA\n",
              "zmq                         22.3.0\n",
              "zope                        NA\n",
              "</pre>\n",
              "</details> <!-- seems like this ends pre, so might as well be explicit -->\n",
              "<pre>\n",
              "-----\n",
              "IPython             8.2.0\n",
              "jupyter_client      6.1.12\n",
              "jupyter_core        4.9.2\n",
              "jupyterlab          3.3.2\n",
              "notebook            6.4.8\n",
              "-----\n",
              "Python 3.9.12 (main, Apr  5 2022, 01:53:17) [Clang 12.0.0 ]\n",
              "macOS-10.16-x86_64-i386-64bit\n",
              "-----\n",
              "Session information updated at 2022-08-17 09:38\n",
              "</pre>\n",
              "</details>"
            ],
            "text/plain": [
              "<IPython.core.display.HTML object>"
            ]
          },
          "execution_count": 41,
          "metadata": {},
          "output_type": "execute_result"
        }
      ],
      "source": [
        "\"\"\"\n",
        "Revision Timestamp:  8:02:05 SGT Thursday, 17 August 2022\n",
        "Revision by: Yu Ta\n",
        "Notes: package version checks\n",
        "\"\"\"\n",
        "import session_info\n",
        "session_info.show()"
      ]
    },
    {
      "cell_type": "code",
      "source": [
        "from sklearn import svm, datasets\n",
        "from sklearn.model_selection import GridSearchCV\n",
        "iris = datasets.load_iris()\n",
        "parameters = {'kernel':('linear', 'rbf'), 'C':[1, 10]}\n",
        "svc = svm.SVC()\n",
        "clf = GridSearchCV(svc, parameters)\n",
        "clf.fit(iris.data, iris.target)\n",
        "sorted(clf.cv_results_.keys())"
      ],
      "metadata": {
        "colab": {
          "base_uri": "https://localhost:8080/"
        },
        "id": "I3jcVZgf8EN2",
        "outputId": "f966c054-6539-457d-943e-39e9332b4504"
      },
      "execution_count": null,
      "outputs": [
        {
          "output_type": "execute_result",
          "data": {
            "text/plain": [
              "['mean_fit_time',\n",
              " 'mean_score_time',\n",
              " 'mean_test_score',\n",
              " 'param_C',\n",
              " 'param_kernel',\n",
              " 'params',\n",
              " 'rank_test_score',\n",
              " 'split0_test_score',\n",
              " 'split1_test_score',\n",
              " 'split2_test_score',\n",
              " 'split3_test_score',\n",
              " 'split4_test_score',\n",
              " 'std_fit_time',\n",
              " 'std_score_time',\n",
              " 'std_test_score']"
            ]
          },
          "metadata": {},
          "execution_count": 4
        }
      ]
    }
  ],
  "metadata": {
    "colab": {
      "provenance": []
    },
    "kernelspec": {
      "display_name": "Python 3 (ipykernel)",
      "language": "python",
      "name": "python3"
    },
    "language_info": {
      "codemirror_mode": {
        "name": "ipython",
        "version": 3
      },
      "file_extension": ".py",
      "mimetype": "text/x-python",
      "name": "python",
      "nbconvert_exporter": "python",
      "pygments_lexer": "ipython3",
      "version": "3.8.12"
    }
  },
  "nbformat": 4,
  "nbformat_minor": 0
}