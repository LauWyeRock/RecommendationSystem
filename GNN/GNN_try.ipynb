{
 "cells": [
  {
   "cell_type": "markdown",
   "metadata": {},
   "source": [
    " Graph Neural Network (GNN) based model that models user-song preferences based on data collected from Last.fm"
   ]
  },
  {
   "cell_type": "markdown",
   "metadata": {},
   "source": [
    "# load data"
   ]
  },
  {
   "cell_type": "code",
   "execution_count": 1,
   "metadata": {},
   "outputs": [],
   "source": [
    "# import required modules\n",
    "import pandas as pd\n",
    "import matplotlib.pyplot as plt\n",
    "import numpy as np\n",
    "import random\n",
    "from tqdm.notebook import tqdm\n",
    "import matplotlib.pyplot as plt\n",
    "from sklearn.model_selection import train_test_split\n",
    "from sklearn import model_selection, metrics, preprocessing\n",
    "import copy\n",
    "from torch_geometric.utils import degree\n",
    "import time\n",
    "import torch\n",
    "from torch import nn, optim, Tensor\n",
    "from tqdm.notebook import tqdm"
   ]
  },
  {
   "cell_type": "code",
   "execution_count": 2,
   "metadata": {},
   "outputs": [],
   "source": [
    "data = pd.read_excel('/Users/yaoyi/Desktop/4222 project/lastfm_users_songs.xlsx')"
   ]
  },
  {
   "cell_type": "code",
   "execution_count": 3,
   "metadata": {},
   "outputs": [],
   "source": [
    "from ast import literal_eval\n",
    "data_liked = data.copy(deep = True)\n",
    "data_liked = data_liked[['User', 'Liked Songs']]\n",
    "data_liked['Liked Songs'] = data_liked['Liked Songs'].apply(literal_eval)"
   ]
  },
  {
   "cell_type": "markdown",
   "metadata": {},
   "source": [
    "a naive approach to elimimate the more obvious non-english songs "
   ]
  },
  {
   "cell_type": "code",
   "execution_count": 4,
   "metadata": {},
   "outputs": [],
   "source": [
    "def isEnglish(s):\n",
    "    try:\n",
    "        s.encode(encoding='utf-8').decode('ascii')\n",
    "    except UnicodeDecodeError:\n",
    "        return False\n",
    "    else:\n",
    "        return True\n",
    "    \n",
    "# alternative spacy, but might not be very accurate also"
   ]
  },
  {
   "cell_type": "code",
   "execution_count": 5,
   "metadata": {},
   "outputs": [],
   "source": [
    "data_liked = data_liked.explode('Liked Songs')\n",
    "data_liked['languages'] = data_liked['Liked Songs'].apply(lambda x: isEnglish(str(x)))\n",
    "data_liked = data_liked.loc[data_liked['languages'] == True]\n",
    "data_liked = data_liked.drop(columns = 'languages')"
   ]
  },
  {
   "cell_type": "code",
   "execution_count": 6,
   "metadata": {},
   "outputs": [
    {
     "data": {
      "text/plain": [
       "Index(['!!!', '!!Noble Stabbings!!', '!liaF cipE', '!ntro', '\"40\"', '\"45\"',\n",
       "       '\"5150\"', '\"Boom\"',\n",
       "       '\"Btw, that untitled song on your mixtape was for you. i wrote it when i missed you.\"',\n",
       "       '\"But there's only one you need to hear from tonight...\"',\n",
       "       ...\n",
       "       'zzyzx_rd.', '{ encounter: naiad_guardian.xiv }', '{ }', '{idle}',\n",
       "       '|Believer|', '|||', '|||171||| So Hiiigh |||171|||', '~',\n",
       "       '~Electric De Chocobo~', '~lonely birds~'],\n",
       "      dtype='object', name='Liked Songs', length=127240)"
      ]
     },
     "execution_count": 6,
     "metadata": {},
     "output_type": "execute_result"
    }
   ],
   "source": [
    "data_liked['Liked Songs'].value_counts().index.sort_values()"
   ]
  },
  {
   "cell_type": "code",
   "execution_count": 7,
   "metadata": {},
   "outputs": [
    {
     "data": {
      "text/plain": [
       "127241"
      ]
     },
     "execution_count": 7,
     "metadata": {},
     "output_type": "execute_result"
    }
   ],
   "source": [
    "unique_songs = data_liked['Liked Songs'].unique()\n",
    "len(unique_songs)"
   ]
  },
  {
   "cell_type": "code",
   "execution_count": 8,
   "metadata": {},
   "outputs": [
    {
     "data": {
      "text/html": [
       "<div>\n",
       "<style scoped>\n",
       "    .dataframe tbody tr th:only-of-type {\n",
       "        vertical-align: middle;\n",
       "    }\n",
       "\n",
       "    .dataframe tbody tr th {\n",
       "        vertical-align: top;\n",
       "    }\n",
       "\n",
       "    .dataframe thead th {\n",
       "        text-align: right;\n",
       "    }\n",
       "</style>\n",
       "<table border=\"1\" class=\"dataframe\">\n",
       "  <thead>\n",
       "    <tr style=\"text-align: right;\">\n",
       "      <th>Liked Songs</th>\n",
       "      <th>!!!</th>\n",
       "      <th>!!Noble Stabbings!!</th>\n",
       "      <th>!liaF cipE</th>\n",
       "      <th>!ntro</th>\n",
       "      <th>\"40\"</th>\n",
       "      <th>\"45\"</th>\n",
       "      <th>\"5150\"</th>\n",
       "      <th>\"Boom\"</th>\n",
       "      <th>\"Btw, that untitled song on your mixtape was for you. i wrote it when i missed you.\"</th>\n",
       "      <th>\"But there's only one you need to hear from tonight...\"</th>\n",
       "      <th>...</th>\n",
       "      <th>zzyzx_rd.</th>\n",
       "      <th>{ encounter: naiad_guardian.xiv }</th>\n",
       "      <th>{ }</th>\n",
       "      <th>{idle}</th>\n",
       "      <th>|Believer|</th>\n",
       "      <th>|||</th>\n",
       "      <th>|||171||| So Hiiigh |||171|||</th>\n",
       "      <th>~</th>\n",
       "      <th>~Electric De Chocobo~</th>\n",
       "      <th>~lonely birds~</th>\n",
       "    </tr>\n",
       "    <tr>\n",
       "      <th>User</th>\n",
       "      <th></th>\n",
       "      <th></th>\n",
       "      <th></th>\n",
       "      <th></th>\n",
       "      <th></th>\n",
       "      <th></th>\n",
       "      <th></th>\n",
       "      <th></th>\n",
       "      <th></th>\n",
       "      <th></th>\n",
       "      <th></th>\n",
       "      <th></th>\n",
       "      <th></th>\n",
       "      <th></th>\n",
       "      <th></th>\n",
       "      <th></th>\n",
       "      <th></th>\n",
       "      <th></th>\n",
       "      <th></th>\n",
       "      <th></th>\n",
       "      <th></th>\n",
       "    </tr>\n",
       "  </thead>\n",
       "  <tbody>\n",
       "    <tr>\n",
       "      <th>-GS-</th>\n",
       "      <td>0</td>\n",
       "      <td>0</td>\n",
       "      <td>0</td>\n",
       "      <td>0</td>\n",
       "      <td>0</td>\n",
       "      <td>0</td>\n",
       "      <td>0</td>\n",
       "      <td>0</td>\n",
       "      <td>0</td>\n",
       "      <td>0</td>\n",
       "      <td>...</td>\n",
       "      <td>0</td>\n",
       "      <td>0</td>\n",
       "      <td>0</td>\n",
       "      <td>0</td>\n",
       "      <td>0</td>\n",
       "      <td>0</td>\n",
       "      <td>0</td>\n",
       "      <td>0</td>\n",
       "      <td>0</td>\n",
       "      <td>0</td>\n",
       "    </tr>\n",
       "    <tr>\n",
       "      <th>0-172</th>\n",
       "      <td>0</td>\n",
       "      <td>0</td>\n",
       "      <td>0</td>\n",
       "      <td>0</td>\n",
       "      <td>0</td>\n",
       "      <td>0</td>\n",
       "      <td>0</td>\n",
       "      <td>0</td>\n",
       "      <td>0</td>\n",
       "      <td>0</td>\n",
       "      <td>...</td>\n",
       "      <td>0</td>\n",
       "      <td>0</td>\n",
       "      <td>0</td>\n",
       "      <td>0</td>\n",
       "      <td>0</td>\n",
       "      <td>0</td>\n",
       "      <td>0</td>\n",
       "      <td>0</td>\n",
       "      <td>0</td>\n",
       "      <td>0</td>\n",
       "    </tr>\n",
       "    <tr>\n",
       "      <th>001</th>\n",
       "      <td>0</td>\n",
       "      <td>0</td>\n",
       "      <td>0</td>\n",
       "      <td>0</td>\n",
       "      <td>0</td>\n",
       "      <td>0</td>\n",
       "      <td>0</td>\n",
       "      <td>0</td>\n",
       "      <td>0</td>\n",
       "      <td>0</td>\n",
       "      <td>...</td>\n",
       "      <td>0</td>\n",
       "      <td>0</td>\n",
       "      <td>0</td>\n",
       "      <td>0</td>\n",
       "      <td>0</td>\n",
       "      <td>0</td>\n",
       "      <td>0</td>\n",
       "      <td>0</td>\n",
       "      <td>0</td>\n",
       "      <td>0</td>\n",
       "    </tr>\n",
       "    <tr>\n",
       "      <th>31</th>\n",
       "      <td>0</td>\n",
       "      <td>0</td>\n",
       "      <td>0</td>\n",
       "      <td>0</td>\n",
       "      <td>0</td>\n",
       "      <td>0</td>\n",
       "      <td>0</td>\n",
       "      <td>0</td>\n",
       "      <td>0</td>\n",
       "      <td>0</td>\n",
       "      <td>...</td>\n",
       "      <td>0</td>\n",
       "      <td>0</td>\n",
       "      <td>0</td>\n",
       "      <td>0</td>\n",
       "      <td>0</td>\n",
       "      <td>0</td>\n",
       "      <td>0</td>\n",
       "      <td>0</td>\n",
       "      <td>0</td>\n",
       "      <td>0</td>\n",
       "    </tr>\n",
       "    <tr>\n",
       "      <th>40belowsummer</th>\n",
       "      <td>0</td>\n",
       "      <td>0</td>\n",
       "      <td>0</td>\n",
       "      <td>0</td>\n",
       "      <td>0</td>\n",
       "      <td>0</td>\n",
       "      <td>0</td>\n",
       "      <td>0</td>\n",
       "      <td>0</td>\n",
       "      <td>0</td>\n",
       "      <td>...</td>\n",
       "      <td>0</td>\n",
       "      <td>0</td>\n",
       "      <td>0</td>\n",
       "      <td>0</td>\n",
       "      <td>0</td>\n",
       "      <td>0</td>\n",
       "      <td>0</td>\n",
       "      <td>0</td>\n",
       "      <td>0</td>\n",
       "      <td>0</td>\n",
       "    </tr>\n",
       "    <tr>\n",
       "      <th>...</th>\n",
       "      <td>...</td>\n",
       "      <td>...</td>\n",
       "      <td>...</td>\n",
       "      <td>...</td>\n",
       "      <td>...</td>\n",
       "      <td>...</td>\n",
       "      <td>...</td>\n",
       "      <td>...</td>\n",
       "      <td>...</td>\n",
       "      <td>...</td>\n",
       "      <td>...</td>\n",
       "      <td>...</td>\n",
       "      <td>...</td>\n",
       "      <td>...</td>\n",
       "      <td>...</td>\n",
       "      <td>...</td>\n",
       "      <td>...</td>\n",
       "      <td>...</td>\n",
       "      <td>...</td>\n",
       "      <td>...</td>\n",
       "      <td>...</td>\n",
       "    </tr>\n",
       "    <tr>\n",
       "      <th>zyluzza</th>\n",
       "      <td>0</td>\n",
       "      <td>0</td>\n",
       "      <td>0</td>\n",
       "      <td>0</td>\n",
       "      <td>0</td>\n",
       "      <td>0</td>\n",
       "      <td>0</td>\n",
       "      <td>0</td>\n",
       "      <td>0</td>\n",
       "      <td>0</td>\n",
       "      <td>...</td>\n",
       "      <td>0</td>\n",
       "      <td>0</td>\n",
       "      <td>0</td>\n",
       "      <td>0</td>\n",
       "      <td>0</td>\n",
       "      <td>0</td>\n",
       "      <td>0</td>\n",
       "      <td>0</td>\n",
       "      <td>0</td>\n",
       "      <td>0</td>\n",
       "    </tr>\n",
       "    <tr>\n",
       "      <th>zymad</th>\n",
       "      <td>0</td>\n",
       "      <td>0</td>\n",
       "      <td>0</td>\n",
       "      <td>0</td>\n",
       "      <td>0</td>\n",
       "      <td>0</td>\n",
       "      <td>0</td>\n",
       "      <td>0</td>\n",
       "      <td>0</td>\n",
       "      <td>0</td>\n",
       "      <td>...</td>\n",
       "      <td>0</td>\n",
       "      <td>0</td>\n",
       "      <td>0</td>\n",
       "      <td>0</td>\n",
       "      <td>0</td>\n",
       "      <td>0</td>\n",
       "      <td>0</td>\n",
       "      <td>0</td>\n",
       "      <td>0</td>\n",
       "      <td>0</td>\n",
       "    </tr>\n",
       "    <tr>\n",
       "      <th>zyomra</th>\n",
       "      <td>0</td>\n",
       "      <td>0</td>\n",
       "      <td>0</td>\n",
       "      <td>0</td>\n",
       "      <td>0</td>\n",
       "      <td>0</td>\n",
       "      <td>0</td>\n",
       "      <td>0</td>\n",
       "      <td>0</td>\n",
       "      <td>0</td>\n",
       "      <td>...</td>\n",
       "      <td>0</td>\n",
       "      <td>0</td>\n",
       "      <td>0</td>\n",
       "      <td>0</td>\n",
       "      <td>0</td>\n",
       "      <td>0</td>\n",
       "      <td>0</td>\n",
       "      <td>0</td>\n",
       "      <td>0</td>\n",
       "      <td>0</td>\n",
       "    </tr>\n",
       "    <tr>\n",
       "      <th>zyxsu</th>\n",
       "      <td>0</td>\n",
       "      <td>0</td>\n",
       "      <td>0</td>\n",
       "      <td>0</td>\n",
       "      <td>0</td>\n",
       "      <td>0</td>\n",
       "      <td>0</td>\n",
       "      <td>0</td>\n",
       "      <td>0</td>\n",
       "      <td>0</td>\n",
       "      <td>...</td>\n",
       "      <td>0</td>\n",
       "      <td>0</td>\n",
       "      <td>0</td>\n",
       "      <td>0</td>\n",
       "      <td>0</td>\n",
       "      <td>0</td>\n",
       "      <td>0</td>\n",
       "      <td>0</td>\n",
       "      <td>0</td>\n",
       "      <td>0</td>\n",
       "    </tr>\n",
       "    <tr>\n",
       "      <th>zzzbruno</th>\n",
       "      <td>0</td>\n",
       "      <td>0</td>\n",
       "      <td>0</td>\n",
       "      <td>0</td>\n",
       "      <td>0</td>\n",
       "      <td>0</td>\n",
       "      <td>0</td>\n",
       "      <td>0</td>\n",
       "      <td>0</td>\n",
       "      <td>0</td>\n",
       "      <td>...</td>\n",
       "      <td>0</td>\n",
       "      <td>0</td>\n",
       "      <td>0</td>\n",
       "      <td>0</td>\n",
       "      <td>0</td>\n",
       "      <td>0</td>\n",
       "      <td>0</td>\n",
       "      <td>0</td>\n",
       "      <td>0</td>\n",
       "      <td>0</td>\n",
       "    </tr>\n",
       "  </tbody>\n",
       "</table>\n",
       "<p>7818 rows × 127240 columns</p>\n",
       "</div>"
      ],
      "text/plain": [
       "Liked Songs    !!!  !!Noble Stabbings!!  !liaF cipE  !ntro  \"40\"  \"45\"  \\\n",
       "User                                                                     \n",
       "-GS-             0                    0           0      0     0     0   \n",
       "0-172            0                    0           0      0     0     0   \n",
       "001              0                    0           0      0     0     0   \n",
       "31               0                    0           0      0     0     0   \n",
       "40belowsummer    0                    0           0      0     0     0   \n",
       "...            ...                  ...         ...    ...   ...   ...   \n",
       "zyluzza          0                    0           0      0     0     0   \n",
       "zymad            0                    0           0      0     0     0   \n",
       "zyomra           0                    0           0      0     0     0   \n",
       "zyxsu            0                    0           0      0     0     0   \n",
       "zzzbruno         0                    0           0      0     0     0   \n",
       "\n",
       "Liked Songs    \"5150\"  \"Boom\"  \\\n",
       "User                            \n",
       "-GS-                0       0   \n",
       "0-172               0       0   \n",
       "001                 0       0   \n",
       "31                  0       0   \n",
       "40belowsummer       0       0   \n",
       "...               ...     ...   \n",
       "zyluzza             0       0   \n",
       "zymad               0       0   \n",
       "zyomra              0       0   \n",
       "zyxsu               0       0   \n",
       "zzzbruno            0       0   \n",
       "\n",
       "Liked Songs    \"Btw, that untitled song on your mixtape was for you. i wrote it when i missed you.\"  \\\n",
       "User                                                                                                  \n",
       "-GS-                                                           0                                      \n",
       "0-172                                                          0                                      \n",
       "001                                                            0                                      \n",
       "31                                                             0                                      \n",
       "40belowsummer                                                  0                                      \n",
       "...                                                          ...                                      \n",
       "zyluzza                                                        0                                      \n",
       "zymad                                                          0                                      \n",
       "zyomra                                                         0                                      \n",
       "zyxsu                                                          0                                      \n",
       "zzzbruno                                                       0                                      \n",
       "\n",
       "Liked Songs    \"But there's only one you need to hear from tonight...\"  ...  \\\n",
       "User                                                                    ...   \n",
       "-GS-                                                           0        ...   \n",
       "0-172                                                          0        ...   \n",
       "001                                                            0        ...   \n",
       "31                                                             0        ...   \n",
       "40belowsummer                                                  0        ...   \n",
       "...                                                          ...        ...   \n",
       "zyluzza                                                        0        ...   \n",
       "zymad                                                          0        ...   \n",
       "zyomra                                                         0        ...   \n",
       "zyxsu                                                          0        ...   \n",
       "zzzbruno                                                       0        ...   \n",
       "\n",
       "Liked Songs    zzyzx_rd.  { encounter: naiad_guardian.xiv }  { }  {idle}  \\\n",
       "User                                                                       \n",
       "-GS-                   0                                  0    0       0   \n",
       "0-172                  0                                  0    0       0   \n",
       "001                    0                                  0    0       0   \n",
       "31                     0                                  0    0       0   \n",
       "40belowsummer          0                                  0    0       0   \n",
       "...                  ...                                ...  ...     ...   \n",
       "zyluzza                0                                  0    0       0   \n",
       "zymad                  0                                  0    0       0   \n",
       "zyomra                 0                                  0    0       0   \n",
       "zyxsu                  0                                  0    0       0   \n",
       "zzzbruno               0                                  0    0       0   \n",
       "\n",
       "Liked Songs    |Believer|  |||  |||171||| So Hiiigh |||171|||  ~  \\\n",
       "User                                                               \n",
       "-GS-                    0    0                              0  0   \n",
       "0-172                   0    0                              0  0   \n",
       "001                     0    0                              0  0   \n",
       "31                      0    0                              0  0   \n",
       "40belowsummer           0    0                              0  0   \n",
       "...                   ...  ...                            ... ..   \n",
       "zyluzza                 0    0                              0  0   \n",
       "zymad                   0    0                              0  0   \n",
       "zyomra                  0    0                              0  0   \n",
       "zyxsu                   0    0                              0  0   \n",
       "zzzbruno                0    0                              0  0   \n",
       "\n",
       "Liked Songs    ~Electric De Chocobo~  ~lonely birds~  \n",
       "User                                                  \n",
       "-GS-                               0               0  \n",
       "0-172                              0               0  \n",
       "001                                0               0  \n",
       "31                                 0               0  \n",
       "40belowsummer                      0               0  \n",
       "...                              ...             ...  \n",
       "zyluzza                            0               0  \n",
       "zymad                              0               0  \n",
       "zyomra                             0               0  \n",
       "zyxsu                              0               0  \n",
       "zzzbruno                           0               0  \n",
       "\n",
       "[7818 rows x 127240 columns]"
      ]
     },
     "execution_count": 8,
     "metadata": {},
     "output_type": "execute_result"
    }
   ],
   "source": [
    "# interaction_matrix = pd.crosstab(data_liked['User'], data_liked['Liked Songs'])\n",
    "# interaction_matrix"
   ]
  },
  {
   "cell_type": "code",
   "execution_count": 9,
   "metadata": {},
   "outputs": [
    {
     "name": "stdout",
     "output_type": "stream",
     "text": [
      "[   0    0    0 ... 7817 7817 7817]\n",
      "[  1889   2053   6229 ... 118085 120528 123684]\n",
      "[[0 0 0 ... 0 0 0]\n",
      " [0 0 0 ... 0 0 0]\n",
      " [0 0 0 ... 0 0 0]\n",
      " ...\n",
      " [0 0 0 ... 0 0 0]\n",
      " [0 0 0 ... 0 0 0]\n",
      " [0 0 0 ... 0 0 0]]\n"
     ]
    }
   ],
   "source": [
    "# interaction_matrix = pd.crosstab(data_liked['User'], data_liked['Liked Songs'])\n",
    "# interaction_matrix\n",
    "# interaction_matrix_sparse = interaction_matrix.to_numpy()\n",
    "# interaction_matrix_sparse\n",
    "# from scipy import sparse\n",
    "# interaction_matrix_coo = sparse.coo_matrix(interaction_matrix_sparse)\n",
    "# interaction_matrix_coo\n",
    "# # edge_index is just [row, col] from COO format\n",
    "# edge_index =  [interaction_matrix_coo.row, interaction_matrix_coo.col]\n",
    "\n",
    "# print(edge_index[0])\n",
    "# print(edge_index[1])\n",
    "\n",
    "# print(interaction_matrix_coo.todense())"
   ]
  },
  {
   "cell_type": "code",
   "execution_count": 8,
   "metadata": {},
   "outputs": [
    {
     "name": "stdout",
     "output_type": "stream",
     "text": [
      "10017 127241\n"
     ]
    }
   ],
   "source": [
    "num_users = len(data_liked['User'].unique())\n",
    "num_songs = len(data_liked['Liked Songs'].unique())\n",
    "print(num_users, num_songs)"
   ]
  },
  {
   "cell_type": "markdown",
   "metadata": {},
   "source": [
    "## train test split"
   ]
  },
  {
   "cell_type": "code",
   "execution_count": 9,
   "metadata": {},
   "outputs": [
    {
     "name": "stdout",
     "output_type": "stream",
     "text": [
      "Train Size  :  237800\n",
      "Test Size :  59450\n",
      "9515 108609\n",
      "39576\n",
      "Number of Unique Users:  9515\n",
      "Number of unique songs :  108609\n"
     ]
    }
   ],
   "source": [
    "# label both users and loved songs\n",
    "from sklearn import preprocessing\n",
    "from sklearn.model_selection import train_test_split\n",
    "\n",
    "lbl_user = preprocessing.LabelEncoder()\n",
    "lbl_songs = preprocessing.LabelEncoder()\n",
    "\n",
    "train, test = train_test_split(data_liked.values, test_size=0.2, random_state = 0)\n",
    "train = pd.DataFrame(train, columns = data_liked.columns)\n",
    "test = pd.DataFrame(test, columns = data_liked.columns)\n",
    "print(\"Train Size  : \", len(train))\n",
    "print(\"Test Size : \", len (test))\n",
    "\n",
    "train['User idx'] = lbl_user.fit_transform(train['User'].values)\n",
    "train['Liked Songs idx'] = lbl_songs.fit_transform(train['Liked Songs'].values)\n",
    "train_user_ids = train['User'].unique()\n",
    "train_song_ids = train['Liked Songs'].unique()\n",
    "print(len(train_user_ids), len(train_song_ids))\n",
    "\n",
    "# Ensure that the test set only contains users and liked songs that also appear in the training set\n",
    "test = test[(test['User'].isin(train_user_ids)) & (test['Liked Songs'].isin(train_song_ids))]\n",
    "print(len(test))\n",
    "\n",
    "# Transform user and liked songs in the test set using the label encoders fitted on the training set\n",
    "test['User idx'] = lbl_user.transform(test['User'].values)\n",
    "test['Liked Songs idx'] = lbl_songs.transform(test['Liked Songs'].values)\n",
    "# Calculate the number of unique users and songs in the training set\n",
    "n_users = train['User idx'].nunique()\n",
    "n_songs = train['Liked Songs idx'].nunique()\n",
    "print(\"Number of Unique Users: \", n_users)\n",
    "print(\"Number of unique songs : \", n_songs)\n"
   ]
  },
  {
   "cell_type": "code",
   "execution_count": 10,
   "metadata": {},
   "outputs": [
    {
     "data": {
      "text/html": [
       "<div>\n",
       "<style scoped>\n",
       "    .dataframe tbody tr th:only-of-type {\n",
       "        vertical-align: middle;\n",
       "    }\n",
       "\n",
       "    .dataframe tbody tr th {\n",
       "        vertical-align: top;\n",
       "    }\n",
       "\n",
       "    .dataframe thead th {\n",
       "        text-align: right;\n",
       "    }\n",
       "</style>\n",
       "<table border=\"1\" class=\"dataframe\">\n",
       "  <thead>\n",
       "    <tr style=\"text-align: right;\">\n",
       "      <th></th>\n",
       "      <th>User</th>\n",
       "      <th>Liked Songs</th>\n",
       "      <th>User idx</th>\n",
       "      <th>Liked Songs idx</th>\n",
       "    </tr>\n",
       "  </thead>\n",
       "  <tbody>\n",
       "    <tr>\n",
       "      <th>0</th>\n",
       "      <td>lastlings</td>\n",
       "      <td>P()L4R</td>\n",
       "      <td>6280</td>\n",
       "      <td>65641</td>\n",
       "    </tr>\n",
       "    <tr>\n",
       "      <th>1</th>\n",
       "      <td>mihanoid</td>\n",
       "      <td>Superplus</td>\n",
       "      <td>6872</td>\n",
       "      <td>83540</td>\n",
       "    </tr>\n",
       "    <tr>\n",
       "      <th>2</th>\n",
       "      <td>gagaanddiamonds</td>\n",
       "      <td>Your Love (9PM)</td>\n",
       "      <td>5044</td>\n",
       "      <td>102994</td>\n",
       "    </tr>\n",
       "    <tr>\n",
       "      <th>3</th>\n",
       "      <td>Chrilu</td>\n",
       "      <td>The Blind Man</td>\n",
       "      <td>480</td>\n",
       "      <td>86633</td>\n",
       "    </tr>\n",
       "    <tr>\n",
       "      <th>4</th>\n",
       "      <td>kritiknokta</td>\n",
       "      <td>HEY DOUGLAS Live in Europe Set 2013</td>\n",
       "      <td>6184</td>\n",
       "      <td>36316</td>\n",
       "    </tr>\n",
       "    <tr>\n",
       "      <th>...</th>\n",
       "      <td>...</td>\n",
       "      <td>...</td>\n",
       "      <td>...</td>\n",
       "      <td>...</td>\n",
       "    </tr>\n",
       "    <tr>\n",
       "      <th>237795</th>\n",
       "      <td>Schnaeck</td>\n",
       "      <td>Slam the box</td>\n",
       "      <td>2426</td>\n",
       "      <td>78561</td>\n",
       "    </tr>\n",
       "    <tr>\n",
       "      <th>237796</th>\n",
       "      <td>junsus</td>\n",
       "      <td>Cool With You</td>\n",
       "      <td>5984</td>\n",
       "      <td>18961</td>\n",
       "    </tr>\n",
       "    <tr>\n",
       "      <th>237797</th>\n",
       "      <td>Teenagedirtbag8</td>\n",
       "      <td>Morning Theft</td>\n",
       "      <td>2685</td>\n",
       "      <td>58335</td>\n",
       "    </tr>\n",
       "    <tr>\n",
       "      <th>237798</th>\n",
       "      <td>Caleb_musicgood</td>\n",
       "      <td>Rakata</td>\n",
       "      <td>426</td>\n",
       "      <td>70943</td>\n",
       "    </tr>\n",
       "    <tr>\n",
       "      <th>237799</th>\n",
       "      <td>ycosty</td>\n",
       "      <td>Obedient</td>\n",
       "      <td>9393</td>\n",
       "      <td>63393</td>\n",
       "    </tr>\n",
       "  </tbody>\n",
       "</table>\n",
       "<p>237800 rows × 4 columns</p>\n",
       "</div>"
      ],
      "text/plain": [
       "                   User                          Liked Songs  User idx  \\\n",
       "0             lastlings                               P()L4R      6280   \n",
       "1              mihanoid                            Superplus      6872   \n",
       "2       gagaanddiamonds                      Your Love (9PM)      5044   \n",
       "3                Chrilu                        The Blind Man       480   \n",
       "4           kritiknokta  HEY DOUGLAS Live in Europe Set 2013      6184   \n",
       "...                 ...                                  ...       ...   \n",
       "237795         Schnaeck                         Slam the box      2426   \n",
       "237796           junsus                        Cool With You      5984   \n",
       "237797  Teenagedirtbag8                        Morning Theft      2685   \n",
       "237798  Caleb_musicgood                               Rakata       426   \n",
       "237799           ycosty                             Obedient      9393   \n",
       "\n",
       "        Liked Songs idx  \n",
       "0                 65641  \n",
       "1                 83540  \n",
       "2                102994  \n",
       "3                 86633  \n",
       "4                 36316  \n",
       "...                 ...  \n",
       "237795            78561  \n",
       "237796            18961  \n",
       "237797            58335  \n",
       "237798            70943  \n",
       "237799            63393  \n",
       "\n",
       "[237800 rows x 4 columns]"
      ]
     },
     "execution_count": 10,
     "metadata": {},
     "output_type": "execute_result"
    }
   ],
   "source": [
    "train"
   ]
  },
  {
   "cell_type": "markdown",
   "metadata": {},
   "source": [
    "### Matrix transformation\n"
   ]
  },
  {
   "cell_type": "markdown",
   "metadata": {},
   "source": [
    "Function `relevance_score_matrix_dense` to form the interaction matrix between users and songs for train and test set in later parts "
   ]
  },
  {
   "cell_type": "code",
   "execution_count": 11,
   "metadata": {},
   "outputs": [],
   "source": [
    "import torch\n",
    "import scipy.sparse as sp\n",
    "\n",
    "# Define a function to construct a relevance interaction matrix\n",
    "# combining the output from function convert_to_sparse_tensor in lightGCN.ipynb and following manipulation\n",
    "def relevance_score_matrix_dense(n_users, n_songs, data, user_col, song_col):\n",
    "    dok_mtrx = sp.dok_matrix((n_users, n_songs), dtype = np.float32)\n",
    "    dok_mtrx[data[user_col], data[song_col]] = 1.0\n",
    "\n",
    "    dok_mtrx_coo = dok_mtrx.tocoo().astype(np.float32)  # Convert DOK matrix to COO format and ensure data type\n",
    "    values = dok_mtrx_coo.data  # Extract non-zero values\n",
    "    indices = np.vstack((dok_mtrx_coo.row, dok_mtrx_coo.col))\n",
    "\n",
    "    i = torch.LongTensor(indices)\n",
    "    v = torch.FloatTensor(values)\n",
    "    shape = dok_mtrx_coo.shape\n",
    "\n",
    "    dok_mtrx_sparse_tensor = torch.sparse.FloatTensor(i, v, torch.Size(shape))\n",
    "\n",
    "    dok_mtrx_dense_tensor = dok_mtrx_sparse_tensor.to_dense()\n",
    "\n",
    "    # Set non-interacted items in the relevance score matrix to negative infinity\n",
    "    dok_mtrx_dense_tensor = dok_mtrx_dense_tensor*(-np.inf)\n",
    "    dok_mtrx_dense_tensor = torch.nan_to_num(dok_mtrx_dense_tensor, nan=0.0)\n",
    "    return dok_mtrx_dense_tensor"
   ]
  },
  {
   "cell_type": "code",
   "execution_count": 12,
   "metadata": {},
   "outputs": [
    {
     "name": "stderr",
     "output_type": "stream",
     "text": [
      "/var/folders/2b/x4_dglq94mggvcmfjft1qw380000gn/T/ipykernel_68551/996459183.py:18: UserWarning: torch.sparse.SparseTensor(indices, values, shape, *, device=) is deprecated.  Please use torch.sparse_coo_tensor(indices, values, shape, dtype=, device=). (Triggered internally at /Users/runner/work/pytorch/pytorch/pytorch/torch/csrc/utils/tensor_new.cpp:620.)\n",
      "  dok_mtrx_sparse_tensor = torch.sparse.FloatTensor(i, v, torch.Size(shape))\n"
     ]
    },
    {
     "data": {
      "text/plain": [
       "tensor([[ 0.0000e+00,  0.0000e+00,  0.0000e+00,  ...,  0.0000e+00,\n",
       "          0.0000e+00, -3.4028e+38],\n",
       "        [ 0.0000e+00,  0.0000e+00,  0.0000e+00,  ...,  0.0000e+00,\n",
       "          0.0000e+00, -3.4028e+38],\n",
       "        [ 0.0000e+00,  0.0000e+00,  0.0000e+00,  ...,  0.0000e+00,\n",
       "          0.0000e+00,  0.0000e+00],\n",
       "        ...,\n",
       "        [ 0.0000e+00,  0.0000e+00,  0.0000e+00,  ...,  0.0000e+00,\n",
       "          0.0000e+00,  0.0000e+00],\n",
       "        [ 0.0000e+00,  0.0000e+00,  0.0000e+00,  ...,  0.0000e+00,\n",
       "          0.0000e+00,  0.0000e+00],\n",
       "        [ 0.0000e+00,  0.0000e+00,  0.0000e+00,  ...,  0.0000e+00,\n",
       "          0.0000e+00, -3.4028e+38]])"
      ]
     },
     "execution_count": 12,
     "metadata": {},
     "output_type": "execute_result"
    }
   ],
   "source": [
    "R_tensor_dense = relevance_score_matrix_dense(n_users, n_songs, train, 'User idx', 'Liked Songs idx')\n",
    "R_tensor_dense"
   ]
  },
  {
   "cell_type": "markdown",
   "metadata": {},
   "source": [
    "\n",
    "- `latent_dim` is the length of the user/item embedding.\n",
    "\n",
    "- `n_layers` is the number of times we want to propagate our initial user/item embedding through the graph"
   ]
  },
  {
   "cell_type": "code",
   "execution_count": 13,
   "metadata": {},
   "outputs": [],
   "source": [
    "# Set model hyperparameters: latent dimension and number of layers\n",
    "latent_dim = 64  # Dimensionality of the latent feature space\n",
    "n_layers = 3  # Number of layers in the neural network\n"
   ]
  },
  {
   "cell_type": "markdown",
   "metadata": {},
   "source": [
    "## Metrics"
   ]
  },
  {
   "cell_type": "markdown",
   "metadata": {},
   "source": [
    "# Evaluation Metrics\n",
    "\n",
    "We evalaluate our model using the following metrics\n",
    "\n",
    "\\begin{equation}\n",
    "\\text{Recall} = \\frac{TP}{TP + FP}\n",
    "\\end{equation}\n",
    "\n",
    "\\begin{equation}\n",
    "\\text{Precision} = \\frac{TP}{TP + FN}\n",
    "\\end{equation}\n",
    "\n",
    "Recall@k and Precision@k is just applying only the topK recommended items and then for the overall\n",
    "Recall@k and Precision@k, it's just averaged by the number of users\n",
    "\n",
    "**Dicounted Cumulative Gain (DCG)** at rank position p is defined as:\n",
    "\n",
    "\\begin{equation}\n",
    "\\text{DCG}_\\text{p} = \\sum_{i = 1}^p \\frac{2^{rel_i} - 1}{\\log_2{(i + 1)}}\n",
    "\\end{equation}\n",
    "\n",
    "p: a particular rank position\n",
    "\n",
    "$rel_i \\in \\{0, 1\\}$ : graded relevance of the result at position $i$\n",
    "\n",
    "**Idealised Dicounted Cumulative Gain (IDCG)**, namely the maximum possible DCG, at rank position $p$ is defined as:\n",
    "\n",
    "\\begin{equation}\n",
    "\\text{IDCG}_\\text{p} = \\sum_{i = 1}^{|REL_p|} \\frac{2^{rel_i} - 1}{\\log_2{(i + 1)}}\n",
    "\\end{equation}\n",
    "\n",
    "$|REL_p|$ : list of items ordered by their relevance up to position p\n",
    "\n",
    "**Normalized Dicounted Cumulative Gain (NDCG)** at rank position $p$ is defined as:\n",
    "\n",
    "\\begin{equation}\n",
    "\\text{nDCG}_\\text{p} = \\frac{\\text{DCG}_p}{\\text{nDCG}_p}\n",
    "\\end{equation}\n",
    "\n",
    "Specifically, we use the metrics recall@K, precision@K, and NDCG@K. @K indicates that these metrics are computed on the top K recommendations."
   ]
  },
  {
   "cell_type": "code",
   "execution_count": 14,
   "metadata": {},
   "outputs": [],
   "source": [
    "import torch.nn as nn\n",
    "\n",
    "#  Function to compute evaluation metrics for a recommendation system model\n",
    "def get_metrics(user_Embed_wts, item_Embed_wts, n_users, n_songs, train_data, test_data, K):\n",
    "\n",
    "    # Initialize user and item embeddings using pre-trained weights\n",
    "    user_Embedding = nn.Embedding(user_Embed_wts.size()[0], user_Embed_wts.size()[1], _weight = user_Embed_wts)\n",
    "    item_Embedding = nn.Embedding(item_Embed_wts.size()[0], item_Embed_wts.size()[1], _weight = item_Embed_wts)\n",
    "\n",
    "    # Get unique user IDs in the test set\n",
    "    test_user_ids = torch.LongTensor(test_data['User idx'].unique())\n",
    "\n",
    "    # Compute relevance score matrix based on user and item embeddings\n",
    "    relevance_score = torch.matmul(user_Embed_wts, torch.transpose(item_Embed_wts,0, 1))\n",
    "    \n",
    "    R_tensor_dense = relevance_score_matrix_dense(n_users, n_songs, train_data, 'User idx', 'Liked Songs idx')\n",
    "\n",
    "    # Add the relevance score matrix and the non-interacted items matrix\n",
    "    relevance_score = relevance_score + R_tensor_dense\n",
    "\n",
    "    # Retrieve the top-K relevance scores and their corresponding indices\n",
    "    topk_relevance_score = torch.topk(relevance_score, K).values\n",
    "    topk_relevance_indices = torch.topk(relevance_score, K).indices\n",
    "\n",
    "    # Convert top-K relevance indices to a DataFrame\n",
    "    topk_relevance_indices_df = pd.DataFrame(topk_relevance_indices.numpy(),columns =['top_indx_'+str(x+1) for x in range(K)])\n",
    "    topk_relevance_indices_df['user_ID'] = topk_relevance_indices_df.index\n",
    "    topk_relevance_indices_df['top_rlvnt_itm'] = topk_relevance_indices_df[['top_indx_'+str(x+1) for x in range(K)]].values.tolist()\n",
    "    topk_relevance_indices_df = topk_relevance_indices_df[['user_ID','top_rlvnt_itm']]\n",
    "\n",
    "    # Group the test set by user ID and retrieve the list of interacted items\n",
    "    test_interacted_items = test_data.groupby('User idx')['Liked Songs idx'].apply(list).reset_index()\n",
    "\n",
    "    # Merge the interacted items list with the top-K relevance indices DataFrame\n",
    "    metrics_df = pd.merge(test_interacted_items,topk_relevance_indices_df, how= 'left', left_on = 'User idx',right_on = ['user_ID'])\n",
    "    metrics_df['intrsctn_itm'] = [list(set(a).intersection(b)) for a, b in zip(metrics_df['Liked Songs idx'], metrics_df.top_rlvnt_itm)]\n",
    "\n",
    "    # Compute recall, precision, and hit list metrics\n",
    "    metrics_df['recall'] = metrics_df.apply(lambda x : len(x['intrsctn_itm'])/len(x['Liked Songs idx']), axis = 1)\n",
    "    metrics_df['precision'] = metrics_df.apply(lambda x : len(x['intrsctn_itm'])/K, axis = 1)\n",
    "\n",
    "    # Check if each recommended item is in the interacted item list\n",
    "    def get_hit_list(item_id_idx, top_rlvnt_itm):\n",
    "        return [1 if x in set(item_id_idx) else 0 for x in top_rlvnt_itm ]\n",
    "    metrics_df['hit_list'] = metrics_df.apply(lambda x : get_hit_list(x['Liked Songs idx'], x['top_rlvnt_itm']), axis = 1)\n",
    "\n",
    "    # Calculate the ideal DCG (IDCG) based on the number of interacted items and the hit list\n",
    "    def get_dcg_idcg(item_id_idx, hit_list):\n",
    "        idcg  = sum([1 / np.log1p(idx+1) for idx in range(min(len(item_id_idx),len(hit_list)))])\n",
    "        dcg =  sum([hit / np.log1p(idx+1) for idx, hit in enumerate(hit_list)])\n",
    "        return dcg/idcg\n",
    "    # normalized discounted cumulative gain\n",
    "    metrics_df['ndcg'] = metrics_df.apply(lambda x : get_dcg_idcg(x['Liked Songs idx'], x['hit_list']), axis = 1)\n",
    "\n",
    "    # Calculate the cumulative sum of hits in the hit list\n",
    "    def get_cumsum(hit_list):\n",
    "        return np.cumsum(hit_list)\n",
    "    metrics_df['hit_list_cumsum'] = metrics_df.apply(lambda x : get_cumsum(x['hit_list']), axis = 1)\n",
    "\n",
    "    # Calculate the mean average precision (MAP) for a user\n",
    "    def get_map(item_id_idx, hit_list, hit_list_cumsum):\n",
    "        return sum([hit_cumsum*hit/(idx+1) for idx, (hit, hit_cumsum) in enumerate(zip(hit_list, hit_list_cumsum))])/len(item_id_idx)\n",
    "    metrics_df['map'] = metrics_df.apply(lambda x : get_map(x['Liked Songs idx'], x['hit_list'], x['hit_list_cumsum']), axis = 1)\n",
    "\n",
    "    return metrics_df['recall'].mean(), metrics_df['precision'].mean(), metrics_df['ndcg'].mean(), metrics_df['map'].mean()"
   ]
  },
  {
   "cell_type": "markdown",
   "metadata": {},
   "source": [
    "## Model"
   ]
  },
  {
   "cell_type": "markdown",
   "metadata": {},
   "source": [
    "if j has a lot of neighbours, the message the node i gets should be weaker"
   ]
  },
  {
   "cell_type": "markdown",
   "metadata": {},
   "source": [
    "# Implementing LightGCN\n",
    "\n",
    "## Light Graph Convolution\n",
    "Between each layer, LightGCN uses the following propagation rule for user and item embeddings.\n",
    "\n",
    "**symmetric normalization: considers nerighbour count & target neighbour count**\n",
    "\n",
    "\\begin{equation}\n",
    "e_u^{(k+1)} = \\sum_{i \\in N_u} \\frac{1}{\\sqrt{|N_u|}\\sqrt{|N_i|}} e_i^{(k)} \\quad e_i^{(k+1)} = \\sum_{u \\in N_i} \\frac{1}{\\sqrt{|N_i|}\\sqrt{|N_u|}} e_u^{(k)}\n",
    "\\end{equation}\n",
    "\n",
    "$N_u$: the set of all neighbors of user $u$ (items liked by $u$)\n",
    "\n",
    "$N_i$: the set of all neighbors of item $i$ (users who liked $i$)\n",
    "\n",
    "$e_u^{(k)}$ : k-th layer user embedding\n",
    "\n",
    "$e_i^{(k)}$ : k-th layer item embedding\n",
    "\n",
    "\n",
    "\n",
    "## Layer Combination and Model Prediction\n",
    "The only trainable parameters of LightGCN are the 0-th layer embeddings $e_u^{(0)}$ and $e_i^{(0)}$ for each user and item. We combine the embeddings obtained at each layer of propagation to form the final embeddings for all user and item, $e_u$ and $e_i$ via the follwing equation.\n",
    "**sometimes, for alpha, we can just use 1/number of layers**\n",
    "an element wised average for final embedding\n",
    "\n",
    "\\begin{equation}\n",
    "e_u = \\sum_{k = 0}^K \\alpha_k e_u^{(k)} \\quad e_i = \\sum_{k = 0}^K \\alpha_k e_i^{(k)}\n",
    "\\end{equation}\n",
    "\n",
    "$\\alpha_k$ : hyperparameter which weights the contribution of the k-th layer embedding to the final embedding\n",
    "\n",
    "The model prediction is obtained by taking the inner product of the final user and item embeddings.\n",
    "\n",
    "\\begin{equation}\n",
    "\\hat{y}_{ui} = e_u^Te_i\n",
    "\\end{equation}\n",
    "\n",
    "## Matrix Form\n",
    "In our implementation, we utilize the matrix form of LightGCN. We perform multi-scale diffusion to obtain the final embedding, which sums embeddings diffused across multi-hop scales. \n",
    "\n",
    "\\begin{equation}\n",
    "E^{(K)} = \\alpha_0 E^{(0)} + \\alpha_1 \\tilde{A}^1 E^{(0)} + \\alpha_2 \\tilde{A}^2 E^{(0)} + \\cdot \\cdot \\cdot + \\alpha_K \\tilde{A}^K \\tilde{A} E^{(0)}\n",
    "\\end{equation}\n",
    "\n",
    "$E^{(0)} \\in \\mathcal{R}^{(M + N)} \\times T$ : stacked initial item and user embeddings where $M$, $N$, and $T$ denote the number of users, number of items, and the dimension of each embedding respectively\n",
    "\n",
    "$\\tilde{A} = D^{-\\frac{1}{2}}AD^{-\\frac{1}{2}}$ : symmetrically normalized adjacency matrix\n",
    "\n",
    "D: diagonal matrix\n",
    "A: adjacency matrix"
   ]
  },
  {
   "cell_type": "code",
   "execution_count": 15,
   "metadata": {},
   "outputs": [],
   "source": [
    "class LightGCN(nn.Module):\n",
    "    def __init__(self, data, n_users, n_songs, n_layers = 3, latent_dim = 64):\n",
    "        super(LightGCN, self).__init__()\n",
    "        self.data = data\n",
    "        self.n_users = n_users\n",
    "        self.n_songs = n_songs\n",
    "        self.n_layers = n_layers\n",
    "        self.latent_dim = latent_dim\n",
    "        self.init_embedding()\n",
    "        #normalized adj matrix\n",
    "        self.norm_adj_mat_sparse_tensor = self.get_A_tilda()\n",
    "\n",
    "    def init_embedding(self):\n",
    "        # embedding dimension: num_user/num_songs * embedding_dim\n",
    "        # self.users_emb = nn.Embedding(self.n_users, self.latent_dim)\n",
    "        # self.songs_emb = nn.Embedding(self.n_songs, self.latent_dim)\n",
    "        ## fills the input tensor with values from normal distribution, and according to paper, this gives better performance\n",
    "        # nn.init.normal_(self.users_emb.weight, std = 0.1)\n",
    "        # nn.init.normal_(self.songs_emb.weight, std = 0.1)\n",
    "        self.E0 = nn.Embedding(self.n_users + self.n_songs, self.latent_dim)\n",
    "        nn.init.xavier_uniform_(self.E0.weight)\n",
    "        self.E0.weight = nn.Parameter(self.E0.weight)\n",
    "\n",
    "    # the normalized adajency matrix in a sparse tensor\n",
    "    def get_A_tilda(self):\n",
    "        R = sp.dok_matrix((self.n_users, self.n_songs), dtype = np.float32)\n",
    "        R[self.data['User idx'], self.data['Liked Songs idx']] = 1.0\n",
    "\n",
    "        # Create adjacency matrix for the user-item graph\n",
    "        adj_mat = sp.dok_matrix(\n",
    "                (self.n_users + self.n_songs, self.n_users + self.n_songs), dtype=np.float32\n",
    "            )\n",
    "        adj_mat = adj_mat.tolil()\n",
    "        R = R.tolil()\n",
    "\n",
    "        adj_mat[: n_users, n_users :] = R\n",
    "        adj_mat[n_users :, : n_users] = R.T\n",
    "        adj_mat = adj_mat.todok()\n",
    "\n",
    "        # Normalize the adjacency matrix\n",
    "        rowsum = np.array(adj_mat.sum(1))\n",
    "        d_inv = np.power(rowsum + 1e-9, -0.5).flatten()\n",
    "        d_inv[np.isinf(d_inv)] = 0.0\n",
    "        d_mat_inv = sp.diags(d_inv)\n",
    "        norm_adj_mat = d_mat_inv.dot(adj_mat)\n",
    "        norm_adj_mat = norm_adj_mat.dot(d_mat_inv)\n",
    "\n",
    "        # Convert the dok_matrix to sparse tensor.\n",
    "\n",
    "        norm_adj_mat_coo = norm_adj_mat.tocoo().astype(np.float32)\n",
    "        values = norm_adj_mat_coo.data\n",
    "        indices = np.vstack((norm_adj_mat_coo.row, norm_adj_mat_coo.col))\n",
    "\n",
    "        i = torch.LongTensor(indices)\n",
    "        v = torch.FloatTensor(values)\n",
    "        shape = norm_adj_mat_coo.shape\n",
    "\n",
    "        norm_adj_mat_sparse_tensor = torch.sparse.FloatTensor(i, v, torch.Size(shape))\n",
    "\n",
    "        return norm_adj_mat_sparse_tensor\n",
    "\n",
    "    # propagate user and item embeddings through the network for a specified number of layers\n",
    "    def propagate_through_layers(self):\n",
    "        all_layer_embedding = [self.E0.weight]\n",
    "        E_lyr = self.E0.weight\n",
    "\n",
    "        for layer in range(self.n_layers):\n",
    "            # matrix multiplication of sparse matrix and layer weights\n",
    "            E_lyr = torch.sparse.mm(self.norm_adj_mat_sparse_tensor, E_lyr)\n",
    "            all_layer_embedding.append(E_lyr)\n",
    "\n",
    "        # shape n_nodes * (n_layers + 1) * emb_vector_len\n",
    "        all_layer_embedding = torch.stack(all_layer_embedding, dim = 1)\n",
    "        # setting a_k uniformly as 1/(K+1) \n",
    "        mean_layer_embedding = torch.mean(all_layer_embedding, dim = 1)\n",
    "\n",
    "        # split into e_u^k and e_i^k \n",
    "        final_user_Embed, final_song_Embed = torch.split(mean_layer_embedding, [n_users, n_songs])\n",
    "        initial_user_Embed, initial_song_Embed = torch.split(self.E0.weight, [n_users, n_songs])\n",
    "\n",
    "        return final_user_Embed, final_song_Embed, initial_user_Embed, initial_song_Embed\n",
    "\n",
    "    # define the forward pass of the model, compute the final embeddings for given users and items\n",
    "    def forward(self, users, pos_items, neg_items):\n",
    "        final_user_Embed, final_song_Embed, initial_user_Embed, initial_song_Embed = self.propagate_through_layers()\n",
    "\n",
    "        users_emb, pos_emb, neg_emb = final_user_Embed[users], final_song_Embed[pos_items], final_song_Embed[neg_items]\n",
    "        userEmb0,  posEmb0, negEmb0 = initial_user_Embed[users], initial_song_Embed[pos_items], initial_song_Embed[neg_items]\n",
    "\n",
    "        return users_emb, pos_emb, neg_emb, userEmb0,  posEmb0, negEmb0"
   ]
  },
  {
   "cell_type": "code",
   "execution_count": 16,
   "metadata": {},
   "outputs": [
    {
     "name": "stdout",
     "output_type": "stream",
     "text": [
      "Size of Learnable Embedding :  torch.Size([118124, 64])\n"
     ]
    }
   ],
   "source": [
    "lightGCN = LightGCN(train, n_users, n_songs, 3, 64)\n",
    "print(\"Size of Learnable Embedding : \", list(lightGCN.parameters())[0].size())"
   ]
  },
  {
   "cell_type": "markdown",
   "metadata": {},
   "source": [
    "Aggregation: To combine information from neighbor nodes, different techniques like mean-pooling, attention mechanism, and others can be used.\n",
    "\n",
    "Update: To combine aggregated information with the representation of a node, there are several techniques that can be used, such as using a GRU (Gated Recurrent Unit) or simply summing up the information.\n",
    "\n",
    "Prediction: The last updated representation of either the user or item, known as the node representation, is utilized as input for the intended prediction task."
   ]
  },
  {
   "cell_type": "markdown",
   "metadata": {},
   "source": [
    "**user item bipartite graph**\n",
    "\n",
    "'''\n",
    "In bipartite graph, interaction matrix is not the same as adjacency matrix, because adjacency matrix\n",
    "expecteds row index and col index to refer to the same node\n",
    "\n",
    "perform the conversion between interaction matrix (r_mat) and adjacency matrix (adj_mat)\n",
    "    ( 0    R )\n",
    "A = ( R_T  0 )\n",
    "\n",
    "so if dimension of R is  n_user x n_item\n",
    "then dimension of A is (n_user+n_item) x (n_user+n_item)\n",
    "\n",
    "'''\n",
    "\n",
    "\n",
    "self-supervised learning \n",
    "\n",
    "(signals come from the graph themselves)\n",
    "\n",
    "we treat all unobserved interactions as the negative instances when reporting performance.\n",
    "\n",
    "For example, a user will be linked to song they liked, to song they ranked as top song.\n",
    "\n",
    "\n"
   ]
  },
  {
   "cell_type": "markdown",
   "metadata": {},
   "source": [
    "Construct the graph"
   ]
  },
  {
   "cell_type": "code",
   "execution_count": 17,
   "metadata": {},
   "outputs": [],
   "source": [
    "import random\n",
    "\n",
    "# helper function for training and compute BPR loss\n",
    "# since this is a self-supervised learning, we are relying on the graph structure itself and \n",
    "# we don't have label other than the graph structure so we need to the folloing function\n",
    "# which random samples a mini-batch of positive and negative samples\n",
    "def data_loader(data, user_col, song_col, batch_size, n_usr, n_itm):\n",
    "    # Group interactions by user ID and sample negative items\n",
    "    interected_items_df = data.groupby(user_col)[song_col].apply(list).reset_index()\n",
    "\n",
    "    def sample_neg(x):\n",
    "        while True:\n",
    "            neg_id = random.randint(0, n_itm - 1)\n",
    "            if neg_id not in x:\n",
    "                return neg_id\n",
    "\n",
    "    indices = [x for x in range(n_usr)]\n",
    "\n",
    "    # Randomly select users for batch training\n",
    "    if n_usr < batch_size:\n",
    "        users = [random.choice(indices) for _ in range(batch_size)]\n",
    "    else:\n",
    "        users = random.sample(indices, batch_size)\n",
    "\n",
    "    users.sort()\n",
    "\n",
    "    users_df = pd.DataFrame(users,columns = ['users'])\n",
    "\n",
    "    interected_items_df = pd.merge(interected_items_df, users_df, how = 'right', left_on = user_col, right_on = 'users')\n",
    "\n",
    "    # Select positive and negative items for each user\n",
    "    pos_items = interected_items_df[song_col].apply(lambda x : random.choice(x)).values\n",
    "    neg_items = interected_items_df[song_col].apply(lambda x: sample_neg(x)).values\n",
    "\n",
    "    return list(users), list(pos_items), list(neg_items)"
   ]
  },
  {
   "cell_type": "markdown",
   "metadata": {},
   "source": [
    "**Loss function** \n",
    "https://www.youtube.com/watch?v=h1zxhx815Fk \n",
    "\n",
    "cannot use RMSE as this self-supervised learning cannot rely on rating labels to compute loss\n",
    "\n",
    "Bayesian personalized ranking loss \n",
    "-- forces the positive score to be higher and the negative score to be lower\n",
    "\n",
    "$L_{BPR} = - \\sum _{u=1}^M \\sum_{i \\in N_u} \\sum_{j\\notin N_u} \\ln \\sigma(\\hat{y_{ui}}- \\hat{y_{uj}}) + \\lambda ||E^{(0)}||^2$\n",
    "\n",
    "and $\\hat{y_{ui}}$ is predicted score of positive interaction of two nodes\n",
    "\n",
    " $\\hat{y_{uj}}$ is predicted score of negative interaction of two nodes\n",
    "\n",
    " $\\lambda$ is the hyperparameter that controls the L2 regularization strength\n",
    "\n",
    " $E^{(0)}$ is the embedding at layer 0 for all nodes\n",
    "\n",
    "\n",
    "In our project, positive samples are: user liked songs\n",
    "\n",
    "negative samples are: songs user did not like"
   ]
  },
  {
   "cell_type": "markdown",
   "metadata": {},
   "source": [
    "from paper https://arxiv.org/pdf/2002.02126.pdf, the performance drops drastically when lambda is larger than 1e^-3\n",
    "\n",
    "for the lambda used in prof's code: (1/2)/float(len(users))"
   ]
  },
  {
   "cell_type": "code",
   "execution_count": 18,
   "metadata": {},
   "outputs": [],
   "source": [
    "# parameters: user embedding finals, user embedding initial, \n",
    "def bpr_loss(users, users_emb_final, pos_emb, neg_emb, userEmb0,  posEmb0, negEmb0, lam = 1/2):\n",
    "    # Compute regularization loss\n",
    "    reg_loss = lam * (userEmb0.norm().pow(2) +\n",
    "                    posEmb0.norm().pow(2)  +\n",
    "                    negEmb0.norm().pow(2))\n",
    "\n",
    "    # Compute scores for positive and negative items\n",
    "    pos_scores = torch.mul(users_emb_final, pos_emb)\n",
    "    pos_scores = torch.sum(pos_scores, dim=1)\n",
    "    neg_scores = torch.mul(users_emb_final, neg_emb)\n",
    "    neg_scores = torch.sum(neg_scores, dim=1)\n",
    "\n",
    "    # Compute BPR loss using softplus function\n",
    "    loss = torch.mean(torch.nn.functional.softplus(neg_scores - pos_scores))\n",
    "    return loss, reg_loss"
   ]
  },
  {
   "cell_type": "markdown",
   "metadata": {},
   "source": [
    "## Model Training"
   ]
  },
  {
   "cell_type": "code",
   "execution_count": 25,
   "metadata": {},
   "outputs": [],
   "source": [
    "LR = 1e-2\n",
    "# define contants\n",
    "ITERATIONS = 10000\n",
    "EPOCHS = 10\n",
    "BATCH_SIZE = 1024\n",
    "ITERS_PER_EVAL = 200\n",
    "ITERS_PER_LR_DECAY = 200\n",
    "K = 20\n",
    "LAMBDA = 1e-3\n",
    "DECAY = 0.001\n",
    "# LAMBDA = 1/2\n",
    "user_col = 'User idx'\n",
    "song_col = 'Liked Songs idx'"
   ]
  },
  {
   "cell_type": "code",
   "execution_count": 26,
   "metadata": {},
   "outputs": [],
   "source": [
    "optimizer = torch.optim.Adam(lightGCN.parameters(), lr = LR)\n"
   ]
  },
  {
   "cell_type": "code",
   "execution_count": null,
   "metadata": {},
   "outputs": [],
   "source": [
    "from tqdm.notebook import tqdm"
   ]
  },
  {
   "cell_type": "code",
   "execution_count": 32,
   "metadata": {},
   "outputs": [
    {
     "data": {
      "application/vnd.jupyter.widget-view+json": {
       "model_id": "fb65fd352d6647d79f82a15d61df91d3",
       "version_major": 2,
       "version_minor": 0
      },
      "text/plain": [
       "  0%|          | 0/10 [00:00<?, ?it/s]"
      ]
     },
     "metadata": {},
     "output_type": "display_data"
    }
   ],
   "source": [
    "loss_list_epoch = []\n",
    "MF_loss_list_epoch = []\n",
    "reg_loss_list_epoch = []\n",
    "\n",
    "recall_list = []\n",
    "precision_list = []\n",
    "ndcg_list = []\n",
    "map_list = []\n",
    "\n",
    "train_time_list = []\n",
    "eval_time_list = []\n",
    "\n",
    "for epoch in tqdm(range(EPOCHS)):\n",
    "    # Calculate the number of batches per epoch\n",
    "    n_batch = int(len(train)/BATCH_SIZE)\n",
    "\n",
    "    # Initialization\n",
    "    final_loss_list = []\n",
    "    MF_loss_list = []\n",
    "    reg_loss_list = []\n",
    "    best_ndcg = -1\n",
    "    train_start_time = time.time()\n",
    "\n",
    "    # Set the model in training mode\n",
    "    lightGCN.train()\n",
    "\n",
    "    # Iterate over each batch in the training dataset\n",
    "    for batch_idx in range(n_batch):\n",
    "        # Reset gradients\n",
    "        optimizer.zero_grad()\n",
    "        # Load data for the current batch\n",
    "        users, pos_items, neg_items = data_loader(train, user_col, song_col, BATCH_SIZE, n_users, n_songs)\n",
    "        # Perform forward pass through the model\n",
    "        users_emb, pos_emb, neg_emb, userEmb0,  posEmb0, negEmb0 = lightGCN.forward(users, pos_items, neg_items)\n",
    "        # Compute BPR loss and regularization loss\n",
    "        mf_loss, reg_loss = bpr_loss(users, users_emb, pos_emb, neg_emb, userEmb0,  posEmb0, negEmb0, LAMBDA)\n",
    "        reg_loss = DECAY * reg_loss  # Apply weight decay\n",
    "        # Combine losses to get the final loss\n",
    "        final_loss = mf_loss + reg_loss\n",
    "        # Perform backward pass and update model parameters\n",
    "        final_loss.backward()\n",
    "        optimizer.step()\n",
    "        # Record losses for monitoring\n",
    "        final_loss_list.append(final_loss.item())\n",
    "        MF_loss_list.append(mf_loss.item())\n",
    "        reg_loss_list.append(reg_loss.item())\n",
    "\n",
    "\n",
    "    train_end_time = time.time()\n",
    "    train_time = train_end_time - train_start_time\n",
    "\n",
    "    # model evaluation\n",
    "    lightGCN.eval()\n",
    "    with torch.no_grad():\n",
    "        final_user_Embed, final_item_Embed, initial_user_Embed,initial_item_Embed = lightGCN.propagate_through_layers()\n",
    "        test_topK_recall,  test_topK_precision, test_topK_ndcg, test_topK_map  = get_metrics(final_user_Embed, final_item_Embed, n_users, n_songs, train, test, K)\n",
    "\n",
    "\n",
    "    eval_time = time.time() - train_end_time\n",
    "\n",
    "    # calculate and append the mean values of various loss and evaluation metrics for each epoch to their respective lists.\n",
    "    loss_list_epoch.append(round(np.mean(final_loss_list),4))\n",
    "    MF_loss_list_epoch.append(round(np.mean(MF_loss_list),4))\n",
    "    reg_loss_list_epoch.append(round(np.mean(reg_loss_list),4))\n",
    "\n",
    "    recall_list.append(round(test_topK_recall,4))\n",
    "    precision_list.append(round(test_topK_precision,4))\n",
    "    ndcg_list.append(round(test_topK_ndcg,4))\n",
    "    map_list.append(round(test_topK_map,4))\n",
    "\n",
    "    train_time_list.append(train_time)\n",
    "    eval_time_list.append(eval_time)"
   ]
  },
  {
   "cell_type": "code",
   "execution_count": 33,
   "metadata": {},
   "outputs": [
    {
     "data": {
      "text/plain": [
       "<matplotlib.legend.Legend at 0x132d08700>"
      ]
     },
     "execution_count": 33,
     "metadata": {},
     "output_type": "execute_result"
    },
    {
     "data": {
      "image/png": "[encoded data removed]",
      "text/plain": [
       "<Figure size 640x480 with 1 Axes>"
      ]
     },
     "metadata": {},
     "output_type": "display_data"
    }
   ],
   "source": [
    "epoch_list = [(i+1) for i in range(EPOCHS)]\n",
    "plt.plot(epoch_list, recall_list, label='Recall')\n",
    "plt.plot(epoch_list, precision_list, label='Precision')\n",
    "plt.plot(epoch_list, ndcg_list, label='NDCG')\n",
    "plt.plot(epoch_list, map_list, label='MAP')\n",
    "plt.xlabel('Epoch')\n",
    "plt.ylabel('Metrics')\n",
    "plt.legend()"
   ]
  },
  {
   "cell_type": "code",
   "execution_count": 34,
   "metadata": {},
   "outputs": [
    {
     "data": {
      "text/plain": [
       "<matplotlib.legend.Legend at 0x12fc1ab00>"
      ]
     },
     "execution_count": 34,
     "metadata": {},
     "output_type": "execute_result"
    },
    {
     "data": {
      "image/png": "[encoded data removed]",
      "text/plain": [
       "<Figure size 640x480 with 1 Axes>"
      ]
     },
     "metadata": {},
     "output_type": "display_data"
    }
   ],
   "source": [
    "plt.plot(epoch_list, loss_list_epoch, label='Total Training Loss')\n",
    "plt.plot(epoch_list, MF_loss_list_epoch, label='MF Training Loss')\n",
    "plt.plot(epoch_list, reg_loss_list_epoch, label='Reg Training Loss')\n",
    "\n",
    "plt.xlabel('Epoch')\n",
    "plt.ylabel('Loss')\n",
    "plt.legend()"
   ]
  },
  {
   "cell_type": "code",
   "execution_count": 20,
   "metadata": {},
   "outputs": [],
   "source": [
    "LR = 1e-3\n",
    "# define contants\n",
    "ITERATIONS = 10000\n",
    "EPOCHS = 30\n",
    "BATCH_SIZE = 1024\n",
    "ITERS_PER_EVAL = 200\n",
    "ITERS_PER_LR_DECAY = 200\n",
    "K = 10\n",
    "LAMBDA = 1/2 / float((n_users))\n",
    "DECAY = 0.001\n",
    "# LAMBDA = 1/2\n",
    "user_col = 'User idx'\n",
    "song_col = 'Liked Songs idx'"
   ]
  },
  {
   "cell_type": "code",
   "execution_count": 21,
   "metadata": {},
   "outputs": [],
   "source": [
    "optimizer = torch.optim.Adam(lightGCN.parameters(), lr = LR)\n"
   ]
  },
  {
   "cell_type": "code",
   "execution_count": 22,
   "metadata": {},
   "outputs": [
    {
     "data": {
      "application/vnd.jupyter.widget-view+json": {
       "model_id": "6f732791f9cd474fad809d12f7b5b8af",
       "version_major": 2,
       "version_minor": 0
      },
      "text/plain": [
       "  0%|          | 0/30 [00:00<?, ?it/s]"
      ]
     },
     "metadata": {},
     "output_type": "display_data"
    }
   ],
   "source": [
    "loss_list_epoch = []\n",
    "MF_loss_list_epoch = []\n",
    "reg_loss_list_epoch = []\n",
    "\n",
    "recall_list = []\n",
    "precision_list = []\n",
    "ndcg_list = []\n",
    "map_list = []\n",
    "\n",
    "train_time_list = []\n",
    "eval_time_list = []\n",
    "\n",
    "for epoch in tqdm(range(EPOCHS)):\n",
    "    # Calculate the number of batches per epoch\n",
    "    n_batch = int(len(train)/BATCH_SIZE)\n",
    "\n",
    "    # Initialization\n",
    "    final_loss_list = []\n",
    "    MF_loss_list = []\n",
    "    reg_loss_list = []\n",
    "    best_ndcg = -1\n",
    "    train_start_time = time.time()\n",
    "\n",
    "    # Set the model in training mode\n",
    "    lightGCN.train()\n",
    "\n",
    "    # Iterate over each batch in the training dataset\n",
    "    for batch_idx in range(n_batch):\n",
    "        # Reset gradients\n",
    "        optimizer.zero_grad()\n",
    "        # Load data for the current batch\n",
    "        users, pos_items, neg_items = data_loader(train, user_col, song_col, BATCH_SIZE, n_users, n_songs)\n",
    "        # Perform forward pass through the model\n",
    "        users_emb, pos_emb, neg_emb, userEmb0,  posEmb0, negEmb0 = lightGCN.forward(users, pos_items, neg_items)\n",
    "        # Compute BPR loss and regularization loss\n",
    "        mf_loss, reg_loss = bpr_loss(users, users_emb, pos_emb, neg_emb, userEmb0,  posEmb0, negEmb0, LAMBDA)\n",
    "        reg_loss = DECAY * reg_loss  # Apply weight decay\n",
    "        # Combine losses to get the final loss\n",
    "        final_loss = mf_loss + reg_loss\n",
    "        # Perform backward pass and update model parameters\n",
    "        final_loss.backward()\n",
    "        optimizer.step()\n",
    "        # Record losses for monitoring\n",
    "        final_loss_list.append(final_loss.item())\n",
    "        MF_loss_list.append(mf_loss.item())\n",
    "        reg_loss_list.append(reg_loss.item())\n",
    "\n",
    "\n",
    "    train_end_time = time.time()\n",
    "    train_time = train_end_time - train_start_time\n",
    "\n",
    "    # model evaluation\n",
    "    lightGCN.eval()\n",
    "    with torch.no_grad():\n",
    "        final_user_Embed, final_item_Embed, initial_user_Embed,initial_item_Embed = lightGCN.propagate_through_layers()\n",
    "        test_topK_recall,  test_topK_precision, test_topK_ndcg, test_topK_map  = get_metrics(final_user_Embed, final_item_Embed, n_users, n_songs, train, test, K)\n",
    "\n",
    "\n",
    "    eval_time = time.time() - train_end_time\n",
    "\n",
    "    # calculate and append the mean values of various loss and evaluation metrics for each epoch to their respective lists.\n",
    "    loss_list_epoch.append(round(np.mean(final_loss_list),4))\n",
    "    MF_loss_list_epoch.append(round(np.mean(MF_loss_list),4))\n",
    "    reg_loss_list_epoch.append(round(np.mean(reg_loss_list),4))\n",
    "\n",
    "    recall_list.append(round(test_topK_recall,4))\n",
    "    precision_list.append(round(test_topK_precision,4))\n",
    "    ndcg_list.append(round(test_topK_ndcg,4))\n",
    "    map_list.append(round(test_topK_map,4))\n",
    "\n",
    "    train_time_list.append(train_time)\n",
    "    eval_time_list.append(eval_time)"
   ]
  },
  {
   "cell_type": "code",
   "execution_count": 23,
   "metadata": {},
   "outputs": [
    {
     "data": {
      "text/plain": [
       "<matplotlib.legend.Legend at 0x13ae026b0>"
      ]
     },
     "execution_count": 23,
     "metadata": {},
     "output_type": "execute_result"
    },
    {
     "data": {
      "image/png": "[encoded data removed]",
      "text/plain": [
       "<Figure size 640x480 with 1 Axes>"
      ]
     },
     "metadata": {},
     "output_type": "display_data"
    }
   ],
   "source": [
    "epoch_list = [(i+1) for i in range(EPOCHS)]\n",
    "plt.plot(epoch_list, recall_list, label='Recall')\n",
    "plt.plot(epoch_list, precision_list, label='Precision')\n",
    "plt.plot(epoch_list, ndcg_list, label='NDCG')\n",
    "plt.plot(epoch_list, map_list, label='MAP')\n",
    "plt.xlabel('Epoch')\n",
    "plt.ylabel('Metrics')\n",
    "plt.legend()"
   ]
  },
  {
   "cell_type": "code",
   "execution_count": 24,
   "metadata": {},
   "outputs": [
    {
     "data": {
      "text/plain": [
       "<matplotlib.legend.Legend at 0x13a7bad40>"
      ]
     },
     "execution_count": 24,
     "metadata": {},
     "output_type": "execute_result"
    },
    {
     "data": {
      "image/png": "[encoded data removed]",
      "text/plain": [
       "<Figure size 640x480 with 1 Axes>"
      ]
     },
     "metadata": {},
     "output_type": "display_data"
    }
   ],
   "source": [
    "plt.plot(epoch_list, loss_list_epoch, label='Total Training Loss')\n",
    "plt.plot(epoch_list, MF_loss_list_epoch, label='MF Training Loss')\n",
    "plt.plot(epoch_list, reg_loss_list_epoch, label='Reg Training Loss')\n",
    "\n",
    "plt.xlabel('Epoch')\n",
    "plt.ylabel('Loss')\n",
    "plt.legend()"
   ]
  },
  {
   "cell_type": "code",
   "execution_count": 25,
   "metadata": {},
   "outputs": [
    {
     "name": "stdout",
     "output_type": "stream",
     "text": [
      "Size of Learnable Embedding :  torch.Size([118124, 16])\n"
     ]
    }
   ],
   "source": [
    "lightGCN = LightGCN(train, n_users, n_songs, 3, 16)\n",
    "print(\"Size of Learnable Embedding : \", list(lightGCN.parameters())[0].size())"
   ]
  },
  {
   "cell_type": "code",
   "execution_count": 26,
   "metadata": {},
   "outputs": [],
   "source": [
    "LR = 1e-2\n",
    "# define contants\n",
    "ITERATIONS = 10000\n",
    "EPOCHS = 10\n",
    "BATCH_SIZE = 1024\n",
    "ITERS_PER_EVAL = 200\n",
    "ITERS_PER_LR_DECAY = 200\n",
    "K = 20\n",
    "LAMBDA = 1e-3\n",
    "DECAY = 0.001\n",
    "# LAMBDA = 1/2\n",
    "user_col = 'User idx'\n",
    "song_col = 'Liked Songs idx'"
   ]
  },
  {
   "cell_type": "code",
   "execution_count": 27,
   "metadata": {},
   "outputs": [],
   "source": [
    "optimizer = torch.optim.Adam(lightGCN.parameters(), lr = LR)\n"
   ]
  },
  {
   "cell_type": "code",
   "execution_count": 28,
   "metadata": {},
   "outputs": [
    {
     "data": {
      "application/vnd.jupyter.widget-view+json": {
       "model_id": "75b455c97f73418799aaa1ea31967a5b",
       "version_major": 2,
       "version_minor": 0
      },
      "text/plain": [
       "  0%|          | 0/10 [00:00<?, ?it/s]"
      ]
     },
     "metadata": {},
     "output_type": "display_data"
    }
   ],
   "source": [
    "loss_list_epoch = []\n",
    "MF_loss_list_epoch = []\n",
    "reg_loss_list_epoch = []\n",
    "\n",
    "recall_list = []\n",
    "precision_list = []\n",
    "ndcg_list = []\n",
    "map_list = []\n",
    "\n",
    "train_time_list = []\n",
    "eval_time_list = []\n",
    "\n",
    "for epoch in tqdm(range(EPOCHS)):\n",
    "    # Calculate the number of batches per epoch\n",
    "    n_batch = int(len(train)/BATCH_SIZE)\n",
    "\n",
    "    # Initialization\n",
    "    final_loss_list = []\n",
    "    MF_loss_list = []\n",
    "    reg_loss_list = []\n",
    "    best_ndcg = -1\n",
    "    train_start_time = time.time()\n",
    "\n",
    "    # Set the model in training mode\n",
    "    lightGCN.train()\n",
    "\n",
    "    # Iterate over each batch in the training dataset\n",
    "    for batch_idx in range(n_batch):\n",
    "        # Reset gradients\n",
    "        optimizer.zero_grad()\n",
    "        # Load data for the current batch\n",
    "        users, pos_items, neg_items = data_loader(train, user_col, song_col, BATCH_SIZE, n_users, n_songs)\n",
    "        # Perform forward pass through the model\n",
    "        users_emb, pos_emb, neg_emb, userEmb0,  posEmb0, negEmb0 = lightGCN.forward(users, pos_items, neg_items)\n",
    "        # Compute BPR loss and regularization loss\n",
    "        mf_loss, reg_loss = bpr_loss(users, users_emb, pos_emb, neg_emb, userEmb0,  posEmb0, negEmb0, LAMBDA)\n",
    "        reg_loss = DECAY * reg_loss  # Apply weight decay\n",
    "        # Combine losses to get the final loss\n",
    "        final_loss = mf_loss + reg_loss\n",
    "        # Perform backward pass and update model parameters\n",
    "        final_loss.backward()\n",
    "        optimizer.step()\n",
    "        # Record losses for monitoring\n",
    "        final_loss_list.append(final_loss.item())\n",
    "        MF_loss_list.append(mf_loss.item())\n",
    "        reg_loss_list.append(reg_loss.item())\n",
    "\n",
    "\n",
    "    train_end_time = time.time()\n",
    "    train_time = train_end_time - train_start_time\n",
    "\n",
    "    # model evaluation\n",
    "    lightGCN.eval()\n",
    "    with torch.no_grad():\n",
    "        final_user_Embed, final_item_Embed, initial_user_Embed,initial_item_Embed = lightGCN.propagate_through_layers()\n",
    "        test_topK_recall,  test_topK_precision, test_topK_ndcg, test_topK_map  = get_metrics(final_user_Embed, final_item_Embed, n_users, n_songs, train, test, K)\n",
    "\n",
    "\n",
    "    eval_time = time.time() - train_end_time\n",
    "\n",
    "    # calculate and append the mean values of various loss and evaluation metrics for each epoch to their respective lists.\n",
    "    loss_list_epoch.append(round(np.mean(final_loss_list),4))\n",
    "    MF_loss_list_epoch.append(round(np.mean(MF_loss_list),4))\n",
    "    reg_loss_list_epoch.append(round(np.mean(reg_loss_list),4))\n",
    "\n",
    "    recall_list.append(round(test_topK_recall,4))\n",
    "    precision_list.append(round(test_topK_precision,4))\n",
    "    ndcg_list.append(round(test_topK_ndcg,4))\n",
    "    map_list.append(round(test_topK_map,4))\n",
    "\n",
    "    train_time_list.append(train_time)\n",
    "    eval_time_list.append(eval_time)"
   ]
  },
  {
   "cell_type": "code",
   "execution_count": 29,
   "metadata": {},
   "outputs": [
    {
     "data": {
      "text/plain": [
       "<matplotlib.legend.Legend at 0x13a7baf80>"
      ]
     },
     "execution_count": 29,
     "metadata": {},
     "output_type": "execute_result"
    },
    {
     "data": {
      "image/png": "[encoded data removed]",
      "text/plain": [
       "<Figure size 640x480 with 1 Axes>"
      ]
     },
     "metadata": {},
     "output_type": "display_data"
    }
   ],
   "source": [
    "epoch_list = [(i+1) for i in range(EPOCHS)]\n",
    "plt.plot(epoch_list, recall_list, label='Recall')\n",
    "plt.plot(epoch_list, precision_list, label='Precision')\n",
    "plt.plot(epoch_list, ndcg_list, label='NDCG')\n",
    "plt.plot(epoch_list, map_list, label='MAP')\n",
    "plt.xlabel('Epoch')\n",
    "plt.ylabel('Metrics')\n",
    "plt.legend()"
   ]
  },
  {
   "cell_type": "code",
   "execution_count": 30,
   "metadata": {},
   "outputs": [
    {
     "data": {
      "text/plain": [
       "<matplotlib.legend.Legend at 0x140a23e50>"
      ]
     },
     "execution_count": 30,
     "metadata": {},
     "output_type": "execute_result"
    },
    {
     "data": {
      "image/png": "[encoded data removed]",
      "text/plain": [
       "<Figure size 640x480 with 1 Axes>"
      ]
     },
     "metadata": {},
     "output_type": "display_data"
    }
   ],
   "source": [
    "plt.plot(epoch_list, loss_list_epoch, label='Total Training Loss')\n",
    "plt.plot(epoch_list, MF_loss_list_epoch, label='MF Training Loss')\n",
    "plt.plot(epoch_list, reg_loss_list_epoch, label='Reg Training Loss')\n",
    "\n",
    "plt.xlabel('Epoch')\n",
    "plt.ylabel('Loss')\n",
    "plt.legend()"
   ]
  },
  {
   "cell_type": "code",
   "execution_count": 31,
   "metadata": {},
   "outputs": [
    {
     "name": "stdout",
     "output_type": "stream",
     "text": [
      "Size of Learnable Embedding :  torch.Size([118124, 128])\n"
     ]
    }
   ],
   "source": [
    "lightGCN = LightGCN(train, n_users, n_songs, 3, 128)\n",
    "print(\"Size of Learnable Embedding : \", list(lightGCN.parameters())[0].size())"
   ]
  },
  {
   "cell_type": "code",
   "execution_count": 32,
   "metadata": {},
   "outputs": [
    {
     "data": {
      "application/vnd.jupyter.widget-view+json": {
       "model_id": "64f628ace94f4b948beba67823695f5a",
       "version_major": 2,
       "version_minor": 0
      },
      "text/plain": [
       "  0%|          | 0/10 [00:00<?, ?it/s]"
      ]
     },
     "metadata": {},
     "output_type": "display_data"
    }
   ],
   "source": [
    "loss_list_epoch = []\n",
    "MF_loss_list_epoch = []\n",
    "reg_loss_list_epoch = []\n",
    "\n",
    "recall_list = []\n",
    "precision_list = []\n",
    "ndcg_list = []\n",
    "map_list = []\n",
    "\n",
    "train_time_list = []\n",
    "eval_time_list = []\n",
    "\n",
    "for epoch in tqdm(range(EPOCHS)):\n",
    "    # Calculate the number of batches per epoch\n",
    "    n_batch = int(len(train)/BATCH_SIZE)\n",
    "\n",
    "    # Initialization\n",
    "    final_loss_list = []\n",
    "    MF_loss_list = []\n",
    "    reg_loss_list = []\n",
    "    best_ndcg = -1\n",
    "    train_start_time = time.time()\n",
    "\n",
    "    # Set the model in training mode\n",
    "    lightGCN.train()\n",
    "\n",
    "    # Iterate over each batch in the training dataset\n",
    "    for batch_idx in range(n_batch):\n",
    "        # Reset gradients\n",
    "        optimizer.zero_grad()\n",
    "        # Load data for the current batch\n",
    "        users, pos_items, neg_items = data_loader(train, user_col, song_col, BATCH_SIZE, n_users, n_songs)\n",
    "        # Perform forward pass through the model\n",
    "        users_emb, pos_emb, neg_emb, userEmb0,  posEmb0, negEmb0 = lightGCN.forward(users, pos_items, neg_items)\n",
    "        # Compute BPR loss and regularization loss\n",
    "        mf_loss, reg_loss = bpr_loss(users, users_emb, pos_emb, neg_emb, userEmb0,  posEmb0, negEmb0, LAMBDA)\n",
    "        reg_loss = DECAY * reg_loss  # Apply weight decay\n",
    "        # Combine losses to get the final loss\n",
    "        final_loss = mf_loss + reg_loss\n",
    "        # Perform backward pass and update model parameters\n",
    "        final_loss.backward()\n",
    "        optimizer.step()\n",
    "        # Record losses for monitoring\n",
    "        final_loss_list.append(final_loss.item())\n",
    "        MF_loss_list.append(mf_loss.item())\n",
    "        reg_loss_list.append(reg_loss.item())\n",
    "\n",
    "\n",
    "    train_end_time = time.time()\n",
    "    train_time = train_end_time - train_start_time\n",
    "\n",
    "    # model evaluation\n",
    "    lightGCN.eval()\n",
    "    with torch.no_grad():\n",
    "        final_user_Embed, final_item_Embed, initial_user_Embed,initial_item_Embed = lightGCN.propagate_through_layers()\n",
    "        test_topK_recall,  test_topK_precision, test_topK_ndcg, test_topK_map  = get_metrics(final_user_Embed, final_item_Embed, n_users, n_songs, train, test, K)\n",
    "\n",
    "\n",
    "    eval_time = time.time() - train_end_time\n",
    "\n",
    "    # calculate and append the mean values of various loss and evaluation metrics for each epoch to their respective lists.\n",
    "    loss_list_epoch.append(round(np.mean(final_loss_list),4))\n",
    "    MF_loss_list_epoch.append(round(np.mean(MF_loss_list),4))\n",
    "    reg_loss_list_epoch.append(round(np.mean(reg_loss_list),4))\n",
    "\n",
    "    recall_list.append(round(test_topK_recall,4))\n",
    "    precision_list.append(round(test_topK_precision,4))\n",
    "    ndcg_list.append(round(test_topK_ndcg,4))\n",
    "    map_list.append(round(test_topK_map,4))\n",
    "\n",
    "    train_time_list.append(train_time)\n",
    "    eval_time_list.append(eval_time)"
   ]
  },
  {
   "cell_type": "code",
   "execution_count": 33,
   "metadata": {},
   "outputs": [
    {
     "data": {
      "text/plain": [
       "<matplotlib.legend.Legend at 0x140a20910>"
      ]
     },
     "execution_count": 33,
     "metadata": {},
     "output_type": "execute_result"
    },
    {
     "data": {
      "image/png": "[encoded data removed]",
      "text/plain": [
       "<Figure size 640x480 with 1 Axes>"
      ]
     },
     "metadata": {},
     "output_type": "display_data"
    }
   ],
   "source": [
    "epoch_list = [(i+1) for i in range(EPOCHS)]\n",
    "plt.plot(epoch_list, recall_list, label='Recall')\n",
    "plt.plot(epoch_list, precision_list, label='Precision')\n",
    "plt.plot(epoch_list, ndcg_list, label='NDCG')\n",
    "plt.plot(epoch_list, map_list, label='MAP')\n",
    "plt.xlabel('Epoch')\n",
    "plt.ylabel('Metrics')\n",
    "plt.legend()"
   ]
  },
  {
   "cell_type": "code",
   "execution_count": 34,
   "metadata": {},
   "outputs": [
    {
     "data": {
      "text/plain": [
       "<matplotlib.legend.Legend at 0x13d191240>"
      ]
     },
     "execution_count": 34,
     "metadata": {},
     "output_type": "execute_result"
    },
    {
     "data": {
      "image/png": "[encoded data removed]",
      "text/plain": [
       "<Figure size 640x480 with 1 Axes>"
      ]
     },
     "metadata": {},
     "output_type": "display_data"
    }
   ],
   "source": [
    "plt.plot(epoch_list, loss_list_epoch, label='Total Training Loss')\n",
    "plt.plot(epoch_list, MF_loss_list_epoch, label='MF Training Loss')\n",
    "plt.plot(epoch_list, reg_loss_list_epoch, label='Reg Training Loss')\n",
    "\n",
    "plt.xlabel('Epoch')\n",
    "plt.ylabel('Loss')\n",
    "plt.legend()"
   ]
  },
  {
   "cell_type": "code",
   "execution_count": 35,
   "metadata": {},
   "outputs": [
    {
     "name": "stdout",
     "output_type": "stream",
     "text": [
      "Size of Learnable Embedding :  torch.Size([118124, 64])\n"
     ]
    }
   ],
   "source": [
    "lightGCN = LightGCN(train, n_users, n_songs, 4, 64)\n",
    "print(\"Size of Learnable Embedding : \", list(lightGCN.parameters())[0].size())"
   ]
  },
  {
   "cell_type": "code",
   "execution_count": 36,
   "metadata": {},
   "outputs": [],
   "source": [
    "optimizer = torch.optim.Adam(lightGCN.parameters(), lr = LR)\n"
   ]
  },
  {
   "cell_type": "code",
   "execution_count": 37,
   "metadata": {},
   "outputs": [],
   "source": [
    "EPOCHS = 20"
   ]
  },
  {
   "cell_type": "code",
   "execution_count": 38,
   "metadata": {},
   "outputs": [
    {
     "data": {
      "application/vnd.jupyter.widget-view+json": {
       "model_id": "a82bdeb5fd2749a699b2ffb7acf13e71",
       "version_major": 2,
       "version_minor": 0
      },
      "text/plain": [
       "  0%|          | 0/20 [00:00<?, ?it/s]"
      ]
     },
     "metadata": {},
     "output_type": "display_data"
    }
   ],
   "source": [
    "loss_list_epoch = []\n",
    "MF_loss_list_epoch = []\n",
    "reg_loss_list_epoch = []\n",
    "\n",
    "recall_list = []\n",
    "precision_list = []\n",
    "ndcg_list = []\n",
    "map_list = []\n",
    "\n",
    "train_time_list = []\n",
    "eval_time_list = []\n",
    "\n",
    "for epoch in tqdm(range(EPOCHS)):\n",
    "    # Calculate the number of batches per epoch\n",
    "    n_batch = int(len(train)/BATCH_SIZE)\n",
    "\n",
    "    # Initialization\n",
    "    final_loss_list = []\n",
    "    MF_loss_list = []\n",
    "    reg_loss_list = []\n",
    "    best_ndcg = -1\n",
    "    train_start_time = time.time()\n",
    "\n",
    "    # Set the model in training mode\n",
    "    lightGCN.train()\n",
    "\n",
    "    # Iterate over each batch in the training dataset\n",
    "    for batch_idx in range(n_batch):\n",
    "        # Reset gradients\n",
    "        optimizer.zero_grad()\n",
    "        # Load data for the current batch\n",
    "        users, pos_items, neg_items = data_loader(train, user_col, song_col, BATCH_SIZE, n_users, n_songs)\n",
    "        # Perform forward pass through the model\n",
    "        users_emb, pos_emb, neg_emb, userEmb0,  posEmb0, negEmb0 = lightGCN.forward(users, pos_items, neg_items)\n",
    "        # Compute BPR loss and regularization loss\n",
    "        mf_loss, reg_loss = bpr_loss(users, users_emb, pos_emb, neg_emb, userEmb0,  posEmb0, negEmb0, LAMBDA)\n",
    "        reg_loss = DECAY * reg_loss  # Apply weight decay\n",
    "        # Combine losses to get the final loss\n",
    "        final_loss = mf_loss + reg_loss\n",
    "        # Perform backward pass and update model parameters\n",
    "        final_loss.backward()\n",
    "        optimizer.step()\n",
    "        # Record losses for monitoring\n",
    "        final_loss_list.append(final_loss.item())\n",
    "        MF_loss_list.append(mf_loss.item())\n",
    "        reg_loss_list.append(reg_loss.item())\n",
    "\n",
    "\n",
    "    train_end_time = time.time()\n",
    "    train_time = train_end_time - train_start_time\n",
    "\n",
    "    # model evaluation\n",
    "    lightGCN.eval()\n",
    "    with torch.no_grad():\n",
    "        final_user_Embed, final_item_Embed, initial_user_Embed,initial_item_Embed = lightGCN.propagate_through_layers()\n",
    "        test_topK_recall,  test_topK_precision, test_topK_ndcg, test_topK_map  = get_metrics(final_user_Embed, final_item_Embed, n_users, n_songs, train, test, K)\n",
    "\n",
    "\n",
    "    eval_time = time.time() - train_end_time\n",
    "\n",
    "    # calculate and append the mean values of various loss and evaluation metrics for each epoch to their respective lists.\n",
    "    loss_list_epoch.append(round(np.mean(final_loss_list),4))\n",
    "    MF_loss_list_epoch.append(round(np.mean(MF_loss_list),4))\n",
    "    reg_loss_list_epoch.append(round(np.mean(reg_loss_list),4))\n",
    "\n",
    "    recall_list.append(round(test_topK_recall,4))\n",
    "    precision_list.append(round(test_topK_precision,4))\n",
    "    ndcg_list.append(round(test_topK_ndcg,4))\n",
    "    map_list.append(round(test_topK_map,4))\n",
    "\n",
    "    train_time_list.append(train_time)\n",
    "    eval_time_list.append(eval_time)"
   ]
  },
  {
   "cell_type": "code",
   "execution_count": 39,
   "metadata": {},
   "outputs": [
    {
     "data": {
      "text/plain": [
       "<matplotlib.legend.Legend at 0x13c61c640>"
      ]
     },
     "execution_count": 39,
     "metadata": {},
     "output_type": "execute_result"
    },
    {
     "data": {
      "image/png": "[encoded data removed]",
      "text/plain": [
       "<Figure size 640x480 with 1 Axes>"
      ]
     },
     "metadata": {},
     "output_type": "display_data"
    }
   ],
   "source": [
    "epoch_list = [(i+1) for i in range(EPOCHS)]\n",
    "plt.plot(epoch_list, recall_list, label='Recall')\n",
    "plt.plot(epoch_list, precision_list, label='Precision')\n",
    "plt.plot(epoch_list, ndcg_list, label='NDCG')\n",
    "plt.plot(epoch_list, map_list, label='MAP')\n",
    "plt.xlabel('Epoch')\n",
    "plt.ylabel('Metrics')\n",
    "plt.legend()"
   ]
  },
  {
   "cell_type": "code",
   "execution_count": 40,
   "metadata": {},
   "outputs": [
    {
     "data": {
      "text/plain": [
       "<matplotlib.legend.Legend at 0x13d193b80>"
      ]
     },
     "execution_count": 40,
     "metadata": {},
     "output_type": "execute_result"
    },
    {
     "data": {
      "image/png": "[encoded data removed]",
      "text/plain": [
       "<Figure size 640x480 with 1 Axes>"
      ]
     },
     "metadata": {},
     "output_type": "display_data"
    }
   ],
   "source": [
    "plt.plot(epoch_list, loss_list_epoch, label='Total Training Loss')\n",
    "plt.plot(epoch_list, MF_loss_list_epoch, label='MF Training Loss')\n",
    "plt.plot(epoch_list, reg_loss_list_epoch, label='Reg Training Loss')\n",
    "\n",
    "plt.xlabel('Epoch')\n",
    "plt.ylabel('Loss')\n",
    "plt.legend()"
   ]
  },
  {
   "cell_type": "markdown",
   "metadata": {},
   "source": []
  }
 ],
 "metadata": {
  "kernelspec": {
   "display_name": "Python 3",
   "language": "python",
   "name": "python3"
  },
  "language_info": {
   "codemirror_mode": {
    "name": "ipython",
    "version": 3
   },
   "file_extension": ".py",
   "mimetype": "text/x-python",
   "name": "python",
   "nbconvert_exporter": "python",
   "pygments_lexer": "ipython3",
   "version": "3.10.10"
  }
 },
 "nbformat": 4,
 "nbformat_minor": 2
}
