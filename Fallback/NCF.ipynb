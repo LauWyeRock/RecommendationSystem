{
  "cells": [
    {
      "cell_type": "markdown",
      "metadata": {
        "id": "BaxCmFL1iq_O"
      },
      "source": [
        "## Neural Collaborative Filtering"
      ]
    },
    {
      "cell_type": "markdown",
      "metadata": {
        "id": "xDNS_hi9itoI"
      },
      "source": [
        "Neural Collaborative Filtering (NCF), which is an innovative algorithm based on deep neural networks to tackle the key problem in recommendation — collaborative filtering — on the basis of implicit feedback. Since we are using neural networks to find relation between users and items, we can easily scale the solution to large datasets. Thus making this method better than Item based collaborative filtering.\n",
        "\n",
        "NCF works by first representing users and items as vectors in a latent space. These vectors are then used to calculate a score for each user-item pair. The score is then used to predict whether the user will interact with the item. NCF is useful because it can learn non-linear relationships between users and items. This makes it a more powerful model than traditional matrix factorization methods."
      ]
    },
    {
      "cell_type": "markdown",
      "metadata": {
        "id": "xSJsEA9ZNduh"
      },
      "source": [
        "### Setting up the environment\n"
      ]
    },
    {
      "cell_type": "code",
      "execution_count": 1,
      "metadata": {
        "colab": {
          "base_uri": "https://localhost:8080/"
        },
        "id": "DczE5pqyNSe9",
        "outputId": "1e233b65-b38d-450a-a40a-9dc6c67e60c6"
      },
      "outputs": [
        {
          "name": "stdout",
          "output_type": "stream",
          "text": [
            "--2024-04-02 09:03:15--  https://repo.anaconda.com/miniconda/Miniconda3-py39_23.5.2-0-Linux-x86_64.sh\n",
            "Resolving repo.anaconda.com (repo.anaconda.com)... 104.16.130.3, 104.16.131.3, 2606:4700::6810:8203, ...\n",
            "Connecting to repo.anaconda.com (repo.anaconda.com)|104.16.130.3|:443... connected.\n",
            "HTTP request sent, awaiting response... 200 OK\n",
            "Length: 93409434 (89M) [application/x-sh]\n",
            "Saving to: ‘Miniconda3-py39_23.5.2-0-Linux-x86_64.sh.6’\n",
            "\n",
            "Miniconda3-py39_23. 100%[===================>]  89.08M   168MB/s    in 0.5s    \n",
            "\n",
            "2024-04-02 09:03:16 (168 MB/s) - ‘Miniconda3-py39_23.5.2-0-Linux-x86_64.sh.6’ saved [93409434/93409434]\n",
            "\n",
            "PREFIX=/usr/local\n",
            "Unpacking payload ...\n",
            "                                                                                                   \n",
            "Installing base environment...\n",
            "\n",
            "\n",
            "Downloading and Extracting Packages\n",
            "\n",
            "Preparing transaction: - \b\bdone\n",
            "Executing transaction: | \b\bdone\n",
            "installation finished.\n",
            "WARNING:\n",
            "    You currently have a PYTHONPATH environment variable set. This may cause\n",
            "    unexpected behavior when running the Python interpreter in Miniconda3.\n",
            "    For best results, please verify that your PYTHONPATH only points to\n",
            "    directories of packages that are compatible with the Python interpreter\n",
            "    in Miniconda3: /usr/local\n",
            "Requirement already satisfied: pyOpenSSL==22.0.0 in /usr/local/lib/python3.9/site-packages (22.0.0)\n",
            "Requirement already satisfied: cryptography>=35.0 in /usr/local/lib/python3.9/site-packages (from pyOpenSSL==22.0.0) (39.0.1)\n",
            "Requirement already satisfied: cffi>=1.12 in /usr/local/lib/python3.9/site-packages (from cryptography>=35.0->pyOpenSSL==22.0.0) (1.15.1)\n",
            "Requirement already satisfied: pycparser in /usr/local/lib/python3.9/site-packages (from cffi>=1.12->cryptography>=35.0->pyOpenSSL==22.0.0) (2.21)\n",
            "\u001b[33mWARNING: Running pip as the 'root' user can result in broken permissions and conflicting behaviour with the system package manager. It is recommended to use a virtual environment instead: https://pip.pypa.io/warnings/venv\u001b[0m\u001b[33m\n",
            "\u001b[0mRequirement already satisfied: recommenders[examples] in /usr/local/lib/python3.9/site-packages (1.1.1)\n",
            "Requirement already satisfied: numpy>=1.19 in /usr/local/lib/python3.9/site-packages (from recommenders[examples]) (1.26.4)\n",
            "Requirement already satisfied: pandas<2,>1.0.3 in /usr/local/lib/python3.9/site-packages (from recommenders[examples]) (1.5.3)\n",
            "Requirement already satisfied: scipy<2,>=1.0.0 in /usr/local/lib/python3.9/site-packages (from recommenders[examples]) (1.12.0)\n",
            "Requirement already satisfied: tqdm<5,>=4.31.1 in /usr/local/lib/python3.9/site-packages (from recommenders[examples]) (4.65.0)\n",
            "Requirement already satisfied: matplotlib<4,>=2.2.2 in /usr/local/lib/python3.9/site-packages (from recommenders[examples]) (3.8.3)\n",
            "Requirement already satisfied: scikit-learn<1.0.3,>=0.22.1 in /usr/local/lib/python3.9/site-packages (from recommenders[examples]) (1.0.2)\n",
            "Requirement already satisfied: numba<1,>=0.38.1 in /usr/local/lib/python3.9/site-packages (from recommenders[examples]) (0.59.1)\n",
            "Requirement already satisfied: lightfm<2,>=1.15 in /usr/local/lib/python3.9/site-packages (from recommenders[examples]) (1.17)\n",
            "Requirement already satisfied: lightgbm>=2.2.1 in /usr/local/lib/python3.9/site-packages (from recommenders[examples]) (4.3.0)\n",
            "Requirement already satisfied: memory-profiler<1,>=0.54.0 in /usr/local/lib/python3.9/site-packages (from recommenders[examples]) (0.61.0)\n",
            "Requirement already satisfied: nltk<4,>=3.4 in /usr/local/lib/python3.9/site-packages (from recommenders[examples]) (3.8.1)\n",
            "Requirement already satisfied: seaborn<1,>=0.8.1 in /usr/local/lib/python3.9/site-packages (from recommenders[examples]) (0.13.2)\n",
            "Requirement already satisfied: transformers<5,>=2.5.0 in /usr/local/lib/python3.9/site-packages (from recommenders[examples]) (4.39.2)\n",
            "Requirement already satisfied: bottleneck<2,>=1.2.1 in /usr/local/lib/python3.9/site-packages (from recommenders[examples]) (1.3.8)\n",
            "Requirement already satisfied: category-encoders<2,>=1.3.0 in /usr/local/lib/python3.9/site-packages (from recommenders[examples]) (1.3.0)\n",
            "Requirement already satisfied: jinja2<3.1,>=2 in /usr/local/lib/python3.9/site-packages (from recommenders[examples]) (3.0.3)\n",
            "Requirement already satisfied: pyyaml<6,>=5.4.1 in /usr/local/lib/python3.9/site-packages (from recommenders[examples]) (5.4.1)\n",
            "Requirement already satisfied: requests<3,>=2.0.0 in /usr/local/lib/python3.9/site-packages (from recommenders[examples]) (2.31.0)\n",
            "Requirement already satisfied: cornac<2,>=1.1.2 in /usr/local/lib/python3.9/site-packages (from recommenders[examples]) (1.18.0)\n",
            "Requirement already satisfied: retrying>=1.3.3 in /usr/local/lib/python3.9/site-packages (from recommenders[examples]) (1.3.4)\n",
            "Requirement already satisfied: pandera[strategies]>=0.6.5 in /usr/local/lib/python3.9/site-packages (from recommenders[examples]) (0.18.3)\n",
            "Requirement already satisfied: scikit-surprise>=1.0.6 in /usr/local/lib/python3.9/site-packages (from recommenders[examples]) (1.1.3)\n",
            "Requirement already satisfied: azure.mgmt.cosmosdb<1,>=0.8.0 in /usr/local/lib/python3.9/site-packages (from recommenders[examples]) (0.16.0)\n",
            "Requirement already satisfied: hyperopt<1,>=0.1.2 in /usr/local/lib/python3.9/site-packages (from recommenders[examples]) (0.2.7)\n",
            "Requirement already satisfied: ipykernel<7,>=4.6.1 in /usr/local/lib/python3.9/site-packages (from recommenders[examples]) (6.29.4)\n",
            "Requirement already satisfied: jupyter<2,>=1 in /usr/local/lib/python3.9/site-packages (from recommenders[examples]) (1.0.0)\n",
            "Requirement already satisfied: locust<2,>=1 in /usr/local/lib/python3.9/site-packages (from recommenders[examples]) (1.6.0)\n",
            "Requirement already satisfied: papermill<3,>=2.1.2 in /usr/local/lib/python3.9/site-packages (from recommenders[examples]) (2.5.0)\n",
            "Requirement already satisfied: scrapbook<1.0.0,>=0.5.0 in /usr/local/lib/python3.9/site-packages (from recommenders[examples]) (0.5.0)\n",
            "Requirement already satisfied: msrest>=0.5.0 in /usr/local/lib/python3.9/site-packages (from azure.mgmt.cosmosdb<1,>=0.8.0->recommenders[examples]) (0.7.1)\n",
            "Requirement already satisfied: msrestazure<2.0.0,>=0.4.32 in /usr/local/lib/python3.9/site-packages (from azure.mgmt.cosmosdb<1,>=0.8.0->recommenders[examples]) (0.6.4)\n",
            "Requirement already satisfied: azure-common~=1.1 in /usr/local/lib/python3.9/site-packages (from azure.mgmt.cosmosdb<1,>=0.8.0->recommenders[examples]) (1.1.28)\n",
            "Requirement already satisfied: statsmodels>=0.6.1 in /usr/local/lib/python3.9/site-packages (from category-encoders<2,>=1.3.0->recommenders[examples]) (0.14.1)\n",
            "Requirement already satisfied: patsy>=0.4.1 in /usr/local/lib/python3.9/site-packages (from category-encoders<2,>=1.3.0->recommenders[examples]) (0.5.6)\n",
            "Requirement already satisfied: powerlaw in /usr/local/lib/python3.9/site-packages (from cornac<2,>=1.1.2->recommenders[examples]) (1.5)\n",
            "Requirement already satisfied: six in /usr/local/lib/python3.9/site-packages (from hyperopt<1,>=0.1.2->recommenders[examples]) (1.16.0)\n",
            "Requirement already satisfied: networkx>=2.2 in /usr/local/lib/python3.9/site-packages (from hyperopt<1,>=0.1.2->recommenders[examples]) (3.2.1)\n",
            "Requirement already satisfied: future in /usr/local/lib/python3.9/site-packages (from hyperopt<1,>=0.1.2->recommenders[examples]) (1.0.0)\n",
            "Requirement already satisfied: cloudpickle in /usr/local/lib/python3.9/site-packages (from hyperopt<1,>=0.1.2->recommenders[examples]) (3.0.0)\n",
            "Requirement already satisfied: py4j in /usr/local/lib/python3.9/site-packages (from hyperopt<1,>=0.1.2->recommenders[examples]) (0.10.9.7)\n",
            "Requirement already satisfied: comm>=0.1.1 in /usr/local/lib/python3.9/site-packages (from ipykernel<7,>=4.6.1->recommenders[examples]) (0.2.2)\n",
            "Requirement already satisfied: debugpy>=1.6.5 in /usr/local/lib/python3.9/site-packages (from ipykernel<7,>=4.6.1->recommenders[examples]) (1.8.1)\n",
            "Requirement already satisfied: ipython>=7.23.1 in /usr/local/lib/python3.9/site-packages (from ipykernel<7,>=4.6.1->recommenders[examples]) (8.18.1)\n",
            "Requirement already satisfied: jupyter-client>=6.1.12 in /usr/local/lib/python3.9/site-packages (from ipykernel<7,>=4.6.1->recommenders[examples]) (8.6.1)\n",
            "Requirement already satisfied: jupyter-core!=5.0.*,>=4.12 in /usr/local/lib/python3.9/site-packages (from ipykernel<7,>=4.6.1->recommenders[examples]) (5.7.2)\n",
            "Requirement already satisfied: matplotlib-inline>=0.1 in /usr/local/lib/python3.9/site-packages (from ipykernel<7,>=4.6.1->recommenders[examples]) (0.1.6)\n",
            "Requirement already satisfied: nest-asyncio in /usr/local/lib/python3.9/site-packages (from ipykernel<7,>=4.6.1->recommenders[examples]) (1.6.0)\n",
            "Requirement already satisfied: packaging in /usr/local/lib/python3.9/site-packages (from ipykernel<7,>=4.6.1->recommenders[examples]) (23.0)\n",
            "Requirement already satisfied: psutil in /usr/local/lib/python3.9/site-packages (from ipykernel<7,>=4.6.1->recommenders[examples]) (5.9.8)\n",
            "Requirement already satisfied: pyzmq>=24 in /usr/local/lib/python3.9/site-packages (from ipykernel<7,>=4.6.1->recommenders[examples]) (25.1.2)\n",
            "Requirement already satisfied: tornado>=6.1 in /usr/local/lib/python3.9/site-packages (from ipykernel<7,>=4.6.1->recommenders[examples]) (6.4)\n",
            "Requirement already satisfied: traitlets>=5.4.0 in /usr/local/lib/python3.9/site-packages (from ipykernel<7,>=4.6.1->recommenders[examples]) (5.14.2)\n",
            "Requirement already satisfied: MarkupSafe>=2.0 in /usr/local/lib/python3.9/site-packages (from jinja2<3.1,>=2->recommenders[examples]) (2.1.5)\n",
            "Requirement already satisfied: notebook in /usr/local/lib/python3.9/site-packages (from jupyter<2,>=1->recommenders[examples]) (7.1.2)\n",
            "Requirement already satisfied: qtconsole in /usr/local/lib/python3.9/site-packages (from jupyter<2,>=1->recommenders[examples]) (5.5.1)\n",
            "Requirement already satisfied: jupyter-console in /usr/local/lib/python3.9/site-packages (from jupyter<2,>=1->recommenders[examples]) (6.6.3)\n",
            "Requirement already satisfied: nbconvert in /usr/local/lib/python3.9/site-packages (from jupyter<2,>=1->recommenders[examples]) (7.16.3)\n",
            "Requirement already satisfied: ipywidgets in /usr/local/lib/python3.9/site-packages (from jupyter<2,>=1->recommenders[examples]) (8.1.2)\n",
            "Requirement already satisfied: gevent>=20.9.0 in /usr/local/lib/python3.9/site-packages (from locust<2,>=1->recommenders[examples]) (24.2.1)\n",
            "Requirement already satisfied: flask==1.1.2 in /usr/local/lib/python3.9/site-packages (from locust<2,>=1->recommenders[examples]) (1.1.2)\n",
            "Requirement already satisfied: Werkzeug>=1.0.1 in /usr/local/lib/python3.9/site-packages (from locust<2,>=1->recommenders[examples]) (3.0.2)\n",
            "Requirement already satisfied: msgpack>=0.6.2 in /usr/local/lib/python3.9/site-packages (from locust<2,>=1->recommenders[examples]) (1.0.8)\n",
            "Requirement already satisfied: geventhttpclient>=1.4.4 in /usr/local/lib/python3.9/site-packages (from locust<2,>=1->recommenders[examples]) (2.0.12)\n",
            "Requirement already satisfied: ConfigArgParse>=1.0 in /usr/local/lib/python3.9/site-packages (from locust<2,>=1->recommenders[examples]) (1.7)\n",
            "Requirement already satisfied: Flask-BasicAuth>=0.2.0 in /usr/local/lib/python3.9/site-packages (from locust<2,>=1->recommenders[examples]) (0.2.0)\n",
            "Requirement already satisfied: Flask-Cors>=3.0.10 in /usr/local/lib/python3.9/site-packages (from locust<2,>=1->recommenders[examples]) (4.0.0)\n",
            "Requirement already satisfied: itsdangerous>=0.24 in /usr/local/lib/python3.9/site-packages (from flask==1.1.2->locust<2,>=1->recommenders[examples]) (2.1.2)\n",
            "Requirement already satisfied: click>=5.1 in /usr/local/lib/python3.9/site-packages (from flask==1.1.2->locust<2,>=1->recommenders[examples]) (8.1.7)\n",
            "Requirement already satisfied: contourpy>=1.0.1 in /usr/local/lib/python3.9/site-packages (from matplotlib<4,>=2.2.2->recommenders[examples]) (1.2.0)\n",
            "Requirement already satisfied: cycler>=0.10 in /usr/local/lib/python3.9/site-packages (from matplotlib<4,>=2.2.2->recommenders[examples]) (0.12.1)\n",
            "Requirement already satisfied: fonttools>=4.22.0 in /usr/local/lib/python3.9/site-packages (from matplotlib<4,>=2.2.2->recommenders[examples]) (4.50.0)\n",
            "Requirement already satisfied: kiwisolver>=1.3.1 in /usr/local/lib/python3.9/site-packages (from matplotlib<4,>=2.2.2->recommenders[examples]) (1.4.5)\n",
            "Requirement already satisfied: pillow>=8 in /usr/local/lib/python3.9/site-packages (from matplotlib<4,>=2.2.2->recommenders[examples]) (10.3.0)\n",
            "Requirement already satisfied: pyparsing>=2.3.1 in /usr/local/lib/python3.9/site-packages (from matplotlib<4,>=2.2.2->recommenders[examples]) (3.1.2)\n",
            "Requirement already satisfied: python-dateutil>=2.7 in /usr/local/lib/python3.9/site-packages (from matplotlib<4,>=2.2.2->recommenders[examples]) (2.9.0.post0)\n",
            "Requirement already satisfied: importlib-resources>=3.2.0 in /usr/local/lib/python3.9/site-packages (from matplotlib<4,>=2.2.2->recommenders[examples]) (6.4.0)\n",
            "Requirement already satisfied: joblib in /usr/local/lib/python3.9/site-packages (from nltk<4,>=3.4->recommenders[examples]) (1.3.2)\n",
            "Requirement already satisfied: regex>=2021.8.3 in /usr/local/lib/python3.9/site-packages (from nltk<4,>=3.4->recommenders[examples]) (2023.12.25)\n",
            "Requirement already satisfied: llvmlite<0.43,>=0.42.0dev0 in /usr/local/lib/python3.9/site-packages (from numba<1,>=0.38.1->recommenders[examples]) (0.42.0)\n",
            "Requirement already satisfied: pytz>=2020.1 in /usr/local/lib/python3.9/site-packages (from pandas<2,>1.0.3->recommenders[examples]) (2024.1)\n",
            "Requirement already satisfied: multimethod<=1.10.0 in /usr/local/lib/python3.9/site-packages (from pandera[strategies]>=0.6.5->recommenders[examples]) (1.10)\n",
            "Requirement already satisfied: pydantic in /usr/local/lib/python3.9/site-packages (from pandera[strategies]>=0.6.5->recommenders[examples]) (2.6.4)\n",
            "Requirement already satisfied: typeguard>=3.0.2 in /usr/local/lib/python3.9/site-packages (from pandera[strategies]>=0.6.5->recommenders[examples]) (4.2.1)\n",
            "Requirement already satisfied: typing-inspect>=0.6.0 in /usr/local/lib/python3.9/site-packages (from pandera[strategies]>=0.6.5->recommenders[examples]) (0.9.0)\n",
            "Requirement already satisfied: wrapt in /usr/local/lib/python3.9/site-packages (from pandera[strategies]>=0.6.5->recommenders[examples]) (1.16.0)\n",
            "Requirement already satisfied: hypothesis>=6.92.7 in /usr/local/lib/python3.9/site-packages (from pandera[strategies]>=0.6.5->recommenders[examples]) (6.100.0)\n",
            "Requirement already satisfied: nbformat>=5.1.2 in /usr/local/lib/python3.9/site-packages (from papermill<3,>=2.1.2->recommenders[examples]) (5.10.3)\n",
            "Requirement already satisfied: nbclient>=0.2.0 in /usr/local/lib/python3.9/site-packages (from papermill<3,>=2.1.2->recommenders[examples]) (0.10.0)\n",
            "Requirement already satisfied: entrypoints in /usr/local/lib/python3.9/site-packages (from papermill<3,>=2.1.2->recommenders[examples]) (0.4)\n",
            "Requirement already satisfied: tenacity>=5.0.2 in /usr/local/lib/python3.9/site-packages (from papermill<3,>=2.1.2->recommenders[examples]) (8.2.3)\n",
            "Requirement already satisfied: charset-normalizer<4,>=2 in /usr/local/lib/python3.9/site-packages (from requests<3,>=2.0.0->recommenders[examples]) (2.0.4)\n",
            "Requirement already satisfied: idna<4,>=2.5 in /usr/local/lib/python3.9/site-packages (from requests<3,>=2.0.0->recommenders[examples]) (3.4)\n",
            "Requirement already satisfied: urllib3<3,>=1.21.1 in /usr/local/lib/python3.9/site-packages (from requests<3,>=2.0.0->recommenders[examples]) (1.26.16)\n",
            "Requirement already satisfied: certifi>=2017.4.17 in /usr/local/lib/python3.9/site-packages (from requests<3,>=2.0.0->recommenders[examples]) (2023.5.7)\n",
            "Requirement already satisfied: threadpoolctl>=2.0.0 in /usr/local/lib/python3.9/site-packages (from scikit-learn<1.0.3,>=0.22.1->recommenders[examples]) (3.4.0)\n",
            "Requirement already satisfied: jsonschema in /usr/local/lib/python3.9/site-packages (from scrapbook<1.0.0,>=0.5.0->recommenders[examples]) (4.21.1)\n",
            "Requirement already satisfied: pyarrow in /usr/local/lib/python3.9/site-packages (from scrapbook<1.0.0,>=0.5.0->recommenders[examples]) (15.0.2)\n",
            "Requirement already satisfied: filelock in /usr/local/lib/python3.9/site-packages (from transformers<5,>=2.5.0->recommenders[examples]) (3.13.3)\n",
            "Requirement already satisfied: huggingface-hub<1.0,>=0.19.3 in /usr/local/lib/python3.9/site-packages (from transformers<5,>=2.5.0->recommenders[examples]) (0.22.2)\n",
            "Requirement already satisfied: tokenizers<0.19,>=0.14 in /usr/local/lib/python3.9/site-packages (from transformers<5,>=2.5.0->recommenders[examples]) (0.15.2)\n",
            "Requirement already satisfied: safetensors>=0.4.1 in /usr/local/lib/python3.9/site-packages (from transformers<5,>=2.5.0->recommenders[examples]) (0.4.2)\n",
            "Requirement already satisfied: zope.event in /usr/local/lib/python3.9/site-packages (from gevent>=20.9.0->locust<2,>=1->recommenders[examples]) (5.0)\n",
            "Requirement already satisfied: zope.interface in /usr/local/lib/python3.9/site-packages (from gevent>=20.9.0->locust<2,>=1->recommenders[examples]) (6.2)\n",
            "Requirement already satisfied: greenlet>=2.0.0 in /usr/local/lib/python3.9/site-packages (from gevent>=20.9.0->locust<2,>=1->recommenders[examples]) (3.0.3)\n",
            "Requirement already satisfied: brotli in /usr/local/lib/python3.9/site-packages (from geventhttpclient>=1.4.4->locust<2,>=1->recommenders[examples]) (1.1.0)\n",
            "Requirement already satisfied: fsspec>=2023.5.0 in /usr/local/lib/python3.9/site-packages (from huggingface-hub<1.0,>=0.19.3->transformers<5,>=2.5.0->recommenders[examples]) (2024.3.1)\n",
            "Requirement already satisfied: typing-extensions>=3.7.4.3 in /usr/local/lib/python3.9/site-packages (from huggingface-hub<1.0,>=0.19.3->transformers<5,>=2.5.0->recommenders[examples]) (4.10.0)\n",
            "Requirement already satisfied: attrs>=22.2.0 in /usr/local/lib/python3.9/site-packages (from hypothesis>=6.92.7->pandera[strategies]>=0.6.5->recommenders[examples]) (23.2.0)\n",
            "Requirement already satisfied: sortedcontainers<3.0.0,>=2.1.0 in /usr/local/lib/python3.9/site-packages (from hypothesis>=6.92.7->pandera[strategies]>=0.6.5->recommenders[examples]) (2.4.0)\n",
            "Requirement already satisfied: exceptiongroup>=1.0.0 in /usr/local/lib/python3.9/site-packages (from hypothesis>=6.92.7->pandera[strategies]>=0.6.5->recommenders[examples]) (1.2.0)\n",
            "Requirement already satisfied: zipp>=3.1.0 in /usr/local/lib/python3.9/site-packages (from importlib-resources>=3.2.0->matplotlib<4,>=2.2.2->recommenders[examples]) (3.18.1)\n",
            "Requirement already satisfied: decorator in /usr/local/lib/python3.9/site-packages (from ipython>=7.23.1->ipykernel<7,>=4.6.1->recommenders[examples]) (5.1.1)\n",
            "Requirement already satisfied: jedi>=0.16 in /usr/local/lib/python3.9/site-packages (from ipython>=7.23.1->ipykernel<7,>=4.6.1->recommenders[examples]) (0.19.1)\n",
            "Requirement already satisfied: prompt-toolkit<3.1.0,>=3.0.41 in /usr/local/lib/python3.9/site-packages (from ipython>=7.23.1->ipykernel<7,>=4.6.1->recommenders[examples]) (3.0.43)\n",
            "Requirement already satisfied: pygments>=2.4.0 in /usr/local/lib/python3.9/site-packages (from ipython>=7.23.1->ipykernel<7,>=4.6.1->recommenders[examples]) (2.17.2)\n",
            "Requirement already satisfied: stack-data in /usr/local/lib/python3.9/site-packages (from ipython>=7.23.1->ipykernel<7,>=4.6.1->recommenders[examples]) (0.6.3)\n",
            "Requirement already satisfied: pexpect>4.3 in /usr/local/lib/python3.9/site-packages (from ipython>=7.23.1->ipykernel<7,>=4.6.1->recommenders[examples]) (4.9.0)\n",
            "Requirement already satisfied: importlib-metadata>=4.8.3 in /usr/local/lib/python3.9/site-packages (from jupyter-client>=6.1.12->ipykernel<7,>=4.6.1->recommenders[examples]) (7.1.0)\n",
            "Requirement already satisfied: platformdirs>=2.5 in /usr/local/lib/python3.9/site-packages (from jupyter-core!=5.0.*,>=4.12->ipykernel<7,>=4.6.1->recommenders[examples]) (4.2.0)\n",
            "Requirement already satisfied: azure-core>=1.24.0 in /usr/local/lib/python3.9/site-packages (from msrest>=0.5.0->azure.mgmt.cosmosdb<1,>=0.8.0->recommenders[examples]) (1.30.1)\n",
            "Requirement already satisfied: isodate>=0.6.0 in /usr/local/lib/python3.9/site-packages (from msrest>=0.5.0->azure.mgmt.cosmosdb<1,>=0.8.0->recommenders[examples]) (0.6.1)\n",
            "Requirement already satisfied: requests-oauthlib>=0.5.0 in /usr/local/lib/python3.9/site-packages (from msrest>=0.5.0->azure.mgmt.cosmosdb<1,>=0.8.0->recommenders[examples]) (2.0.0)\n",
            "Requirement already satisfied: adal<2.0.0,>=0.6.0 in /usr/local/lib/python3.9/site-packages (from msrestazure<2.0.0,>=0.4.32->azure.mgmt.cosmosdb<1,>=0.8.0->recommenders[examples]) (1.2.7)\n",
            "Requirement already satisfied: fastjsonschema in /usr/local/lib/python3.9/site-packages (from nbformat>=5.1.2->papermill<3,>=2.1.2->recommenders[examples]) (2.19.1)\n",
            "Requirement already satisfied: jsonschema-specifications>=2023.03.6 in /usr/local/lib/python3.9/site-packages (from jsonschema->scrapbook<1.0.0,>=0.5.0->recommenders[examples]) (2023.12.1)\n",
            "Requirement already satisfied: referencing>=0.28.4 in /usr/local/lib/python3.9/site-packages (from jsonschema->scrapbook<1.0.0,>=0.5.0->recommenders[examples]) (0.34.0)\n",
            "Requirement already satisfied: rpds-py>=0.7.1 in /usr/local/lib/python3.9/site-packages (from jsonschema->scrapbook<1.0.0,>=0.5.0->recommenders[examples]) (0.18.0)\n",
            "Requirement already satisfied: mypy-extensions>=0.3.0 in /usr/local/lib/python3.9/site-packages (from typing-inspect>=0.6.0->pandera[strategies]>=0.6.5->recommenders[examples]) (1.0.0)\n",
            "Requirement already satisfied: widgetsnbextension~=4.0.10 in /usr/local/lib/python3.9/site-packages (from ipywidgets->jupyter<2,>=1->recommenders[examples]) (4.0.10)\n",
            "Requirement already satisfied: jupyterlab-widgets~=3.0.10 in /usr/local/lib/python3.9/site-packages (from ipywidgets->jupyter<2,>=1->recommenders[examples]) (3.0.10)\n",
            "Requirement already satisfied: beautifulsoup4 in /usr/local/lib/python3.9/site-packages (from nbconvert->jupyter<2,>=1->recommenders[examples]) (4.12.3)\n",
            "Requirement already satisfied: bleach!=5.0.0 in /usr/local/lib/python3.9/site-packages (from nbconvert->jupyter<2,>=1->recommenders[examples]) (6.1.0)\n",
            "Requirement already satisfied: defusedxml in /usr/local/lib/python3.9/site-packages (from nbconvert->jupyter<2,>=1->recommenders[examples]) (0.7.1)\n",
            "Requirement already satisfied: jupyterlab-pygments in /usr/local/lib/python3.9/site-packages (from nbconvert->jupyter<2,>=1->recommenders[examples]) (0.3.0)\n",
            "Requirement already satisfied: mistune<4,>=2.0.3 in /usr/local/lib/python3.9/site-packages (from nbconvert->jupyter<2,>=1->recommenders[examples]) (3.0.2)\n",
            "Requirement already satisfied: pandocfilters>=1.4.1 in /usr/local/lib/python3.9/site-packages (from nbconvert->jupyter<2,>=1->recommenders[examples]) (1.5.1)\n",
            "Requirement already satisfied: tinycss2 in /usr/local/lib/python3.9/site-packages (from nbconvert->jupyter<2,>=1->recommenders[examples]) (1.2.1)\n",
            "Requirement already satisfied: jupyter-server<3,>=2.4.0 in /usr/local/lib/python3.9/site-packages (from notebook->jupyter<2,>=1->recommenders[examples]) (2.13.0)\n",
            "Requirement already satisfied: jupyterlab-server<3,>=2.22.1 in /usr/local/lib/python3.9/site-packages (from notebook->jupyter<2,>=1->recommenders[examples]) (2.25.4)\n",
            "Requirement already satisfied: jupyterlab<4.2,>=4.1.1 in /usr/local/lib/python3.9/site-packages (from notebook->jupyter<2,>=1->recommenders[examples]) (4.1.5)\n",
            "Requirement already satisfied: notebook-shim<0.3,>=0.2 in /usr/local/lib/python3.9/site-packages (from notebook->jupyter<2,>=1->recommenders[examples]) (0.2.4)\n",
            "Requirement already satisfied: mpmath in /usr/local/lib/python3.9/site-packages (from powerlaw->cornac<2,>=1.1.2->recommenders[examples]) (1.3.0)\n",
            "Requirement already satisfied: annotated-types>=0.4.0 in /usr/local/lib/python3.9/site-packages (from pydantic->pandera[strategies]>=0.6.5->recommenders[examples]) (0.6.0)\n",
            "Requirement already satisfied: pydantic-core==2.16.3 in /usr/local/lib/python3.9/site-packages (from pydantic->pandera[strategies]>=0.6.5->recommenders[examples]) (2.16.3)\n",
            "Requirement already satisfied: qtpy>=2.4.0 in /usr/local/lib/python3.9/site-packages (from qtconsole->jupyter<2,>=1->recommenders[examples]) (2.4.1)\n",
            "Requirement already satisfied: PyJWT<3,>=1.0.0 in /usr/local/lib/python3.9/site-packages (from adal<2.0.0,>=0.6.0->msrestazure<2.0.0,>=0.4.32->azure.mgmt.cosmosdb<1,>=0.8.0->recommenders[examples]) (2.8.0)\n",
            "Requirement already satisfied: cryptography>=1.1.0 in /usr/local/lib/python3.9/site-packages (from adal<2.0.0,>=0.6.0->msrestazure<2.0.0,>=0.4.32->azure.mgmt.cosmosdb<1,>=0.8.0->recommenders[examples]) (39.0.1)\n",
            "Requirement already satisfied: webencodings in /usr/local/lib/python3.9/site-packages (from bleach!=5.0.0->nbconvert->jupyter<2,>=1->recommenders[examples]) (0.5.1)\n",
            "Requirement already satisfied: parso<0.9.0,>=0.8.3 in /usr/local/lib/python3.9/site-packages (from jedi>=0.16->ipython>=7.23.1->ipykernel<7,>=4.6.1->recommenders[examples]) (0.8.3)\n",
            "Requirement already satisfied: anyio>=3.1.0 in /usr/local/lib/python3.9/site-packages (from jupyter-server<3,>=2.4.0->notebook->jupyter<2,>=1->recommenders[examples]) (4.3.0)\n",
            "Requirement already satisfied: argon2-cffi in /usr/local/lib/python3.9/site-packages (from jupyter-server<3,>=2.4.0->notebook->jupyter<2,>=1->recommenders[examples]) (23.1.0)\n",
            "Requirement already satisfied: jupyter-events>=0.9.0 in /usr/local/lib/python3.9/site-packages (from jupyter-server<3,>=2.4.0->notebook->jupyter<2,>=1->recommenders[examples]) (0.10.0)\n",
            "Requirement already satisfied: jupyter-server-terminals in /usr/local/lib/python3.9/site-packages (from jupyter-server<3,>=2.4.0->notebook->jupyter<2,>=1->recommenders[examples]) (0.5.3)\n",
            "Requirement already satisfied: overrides in /usr/local/lib/python3.9/site-packages (from jupyter-server<3,>=2.4.0->notebook->jupyter<2,>=1->recommenders[examples]) (7.7.0)\n",
            "Requirement already satisfied: prometheus-client in /usr/local/lib/python3.9/site-packages (from jupyter-server<3,>=2.4.0->notebook->jupyter<2,>=1->recommenders[examples]) (0.20.0)\n",
            "Requirement already satisfied: send2trash>=1.8.2 in /usr/local/lib/python3.9/site-packages (from jupyter-server<3,>=2.4.0->notebook->jupyter<2,>=1->recommenders[examples]) (1.8.2)\n",
            "Requirement already satisfied: terminado>=0.8.3 in /usr/local/lib/python3.9/site-packages (from jupyter-server<3,>=2.4.0->notebook->jupyter<2,>=1->recommenders[examples]) (0.18.1)\n",
            "Requirement already satisfied: websocket-client in /usr/local/lib/python3.9/site-packages (from jupyter-server<3,>=2.4.0->notebook->jupyter<2,>=1->recommenders[examples]) (1.7.0)\n",
            "Requirement already satisfied: async-lru>=1.0.0 in /usr/local/lib/python3.9/site-packages (from jupyterlab<4.2,>=4.1.1->notebook->jupyter<2,>=1->recommenders[examples]) (2.0.4)\n",
            "Requirement already satisfied: httpx>=0.25.0 in /usr/local/lib/python3.9/site-packages (from jupyterlab<4.2,>=4.1.1->notebook->jupyter<2,>=1->recommenders[examples]) (0.27.0)\n",
            "Requirement already satisfied: jupyter-lsp>=2.0.0 in /usr/local/lib/python3.9/site-packages (from jupyterlab<4.2,>=4.1.1->notebook->jupyter<2,>=1->recommenders[examples]) (2.2.4)\n",
            "Requirement already satisfied: tomli in /usr/local/lib/python3.9/site-packages (from jupyterlab<4.2,>=4.1.1->notebook->jupyter<2,>=1->recommenders[examples]) (2.0.1)\n",
            "Requirement already satisfied: babel>=2.10 in /usr/local/lib/python3.9/site-packages (from jupyterlab-server<3,>=2.22.1->notebook->jupyter<2,>=1->recommenders[examples]) (2.14.0)\n",
            "Requirement already satisfied: json5>=0.9.0 in /usr/local/lib/python3.9/site-packages (from jupyterlab-server<3,>=2.22.1->notebook->jupyter<2,>=1->recommenders[examples]) (0.9.24)\n",
            "Requirement already satisfied: ptyprocess>=0.5 in /usr/local/lib/python3.9/site-packages (from pexpect>4.3->ipython>=7.23.1->ipykernel<7,>=4.6.1->recommenders[examples]) (0.7.0)\n",
            "Requirement already satisfied: wcwidth in /usr/local/lib/python3.9/site-packages (from prompt-toolkit<3.1.0,>=3.0.41->ipython>=7.23.1->ipykernel<7,>=4.6.1->recommenders[examples]) (0.2.13)\n",
            "Requirement already satisfied: oauthlib>=3.0.0 in /usr/local/lib/python3.9/site-packages (from requests-oauthlib>=0.5.0->msrest>=0.5.0->azure.mgmt.cosmosdb<1,>=0.8.0->recommenders[examples]) (3.2.2)\n",
            "Requirement already satisfied: soupsieve>1.2 in /usr/local/lib/python3.9/site-packages (from beautifulsoup4->nbconvert->jupyter<2,>=1->recommenders[examples]) (2.5)\n",
            "Requirement already satisfied: executing>=1.2.0 in /usr/local/lib/python3.9/site-packages (from stack-data->ipython>=7.23.1->ipykernel<7,>=4.6.1->recommenders[examples]) (2.0.1)\n",
            "Requirement already satisfied: asttokens>=2.1.0 in /usr/local/lib/python3.9/site-packages (from stack-data->ipython>=7.23.1->ipykernel<7,>=4.6.1->recommenders[examples]) (2.4.1)\n",
            "Requirement already satisfied: pure-eval in /usr/local/lib/python3.9/site-packages (from stack-data->ipython>=7.23.1->ipykernel<7,>=4.6.1->recommenders[examples]) (0.2.2)\n",
            "Requirement already satisfied: setuptools in /usr/local/lib/python3.9/site-packages (from zope.event->gevent>=20.9.0->locust<2,>=1->recommenders[examples]) (67.8.0)\n",
            "Requirement already satisfied: sniffio>=1.1 in /usr/local/lib/python3.9/site-packages (from anyio>=3.1.0->jupyter-server<3,>=2.4.0->notebook->jupyter<2,>=1->recommenders[examples]) (1.3.1)\n",
            "Requirement already satisfied: cffi>=1.12 in /usr/local/lib/python3.9/site-packages (from cryptography>=1.1.0->adal<2.0.0,>=0.6.0->msrestazure<2.0.0,>=0.4.32->azure.mgmt.cosmosdb<1,>=0.8.0->recommenders[examples]) (1.15.1)\n",
            "Requirement already satisfied: httpcore==1.* in /usr/local/lib/python3.9/site-packages (from httpx>=0.25.0->jupyterlab<4.2,>=4.1.1->notebook->jupyter<2,>=1->recommenders[examples]) (1.0.5)\n",
            "Requirement already satisfied: h11<0.15,>=0.13 in /usr/local/lib/python3.9/site-packages (from httpcore==1.*->httpx>=0.25.0->jupyterlab<4.2,>=4.1.1->notebook->jupyter<2,>=1->recommenders[examples]) (0.14.0)\n",
            "Requirement already satisfied: python-json-logger>=2.0.4 in /usr/local/lib/python3.9/site-packages (from jupyter-events>=0.9.0->jupyter-server<3,>=2.4.0->notebook->jupyter<2,>=1->recommenders[examples]) (2.0.7)\n",
            "Requirement already satisfied: rfc3339-validator in /usr/local/lib/python3.9/site-packages (from jupyter-events>=0.9.0->jupyter-server<3,>=2.4.0->notebook->jupyter<2,>=1->recommenders[examples]) (0.1.4)\n",
            "Requirement already satisfied: rfc3986-validator>=0.1.1 in /usr/local/lib/python3.9/site-packages (from jupyter-events>=0.9.0->jupyter-server<3,>=2.4.0->notebook->jupyter<2,>=1->recommenders[examples]) (0.1.1)\n",
            "Requirement already satisfied: argon2-cffi-bindings in /usr/local/lib/python3.9/site-packages (from argon2-cffi->jupyter-server<3,>=2.4.0->notebook->jupyter<2,>=1->recommenders[examples]) (21.2.0)\n",
            "Requirement already satisfied: pycparser in /usr/local/lib/python3.9/site-packages (from cffi>=1.12->cryptography>=1.1.0->adal<2.0.0,>=0.6.0->msrestazure<2.0.0,>=0.4.32->azure.mgmt.cosmosdb<1,>=0.8.0->recommenders[examples]) (2.21)\n",
            "Requirement already satisfied: fqdn in /usr/local/lib/python3.9/site-packages (from jsonschema->scrapbook<1.0.0,>=0.5.0->recommenders[examples]) (1.5.1)\n",
            "Requirement already satisfied: isoduration in /usr/local/lib/python3.9/site-packages (from jsonschema->scrapbook<1.0.0,>=0.5.0->recommenders[examples]) (20.11.0)\n",
            "Requirement already satisfied: jsonpointer>1.13 in /usr/local/lib/python3.9/site-packages (from jsonschema->scrapbook<1.0.0,>=0.5.0->recommenders[examples]) (2.1)\n",
            "Requirement already satisfied: uri-template in /usr/local/lib/python3.9/site-packages (from jsonschema->scrapbook<1.0.0,>=0.5.0->recommenders[examples]) (1.3.0)\n",
            "Requirement already satisfied: webcolors>=1.11 in /usr/local/lib/python3.9/site-packages (from jsonschema->scrapbook<1.0.0,>=0.5.0->recommenders[examples]) (1.13)\n",
            "Requirement already satisfied: arrow>=0.15.0 in /usr/local/lib/python3.9/site-packages (from isoduration->jsonschema->scrapbook<1.0.0,>=0.5.0->recommenders[examples]) (1.3.0)\n",
            "Requirement already satisfied: types-python-dateutil>=2.8.10 in /usr/local/lib/python3.9/site-packages (from arrow>=0.15.0->isoduration->jsonschema->scrapbook<1.0.0,>=0.5.0->recommenders[examples]) (2.9.0.20240316)\n",
            "\u001b[33mWARNING: Running pip as the 'root' user can result in broken permissions and conflicting behaviour with the system package manager. It is recommended to use a virtual environment instead: https://pip.pypa.io/warnings/venv\u001b[0m\u001b[33m\n",
            "\u001b[0m"
          ]
        }
      ],
      "source": [
        "# This is only necessary for colab since it only supports python 3.10, but the library we are using only supports <= 3.9.\n",
        "# Comment this section if you are running it on your local machine\n",
        "\n",
        "!sudo rm -rf /usr/local/lib/python3.8/dist-packages/OpenSSL\n",
        "!sudo rm -rf /usr/local/lib/python3.8/dist-packages/pyOpenSSL-22.1.0.dist-info/\n",
        "\n",
        "!wget https://repo.anaconda.com/miniconda/Miniconda3-py39_23.5.2-0-Linux-x86_64.sh\n",
        "!chmod +x Miniconda3-py39_23.5.2-0-Linux-x86_64.sh\n",
        "\n",
        "!bash ./Miniconda3-py39_23.5.2-0-Linux-x86_64.sh -b -f -p /usr/local\n",
        "import sys\n",
        "sys.path.append('/usr/local/lib/python3.9/site-packages/')\n",
        "!pip3 install pyOpenSSL==22.0.0\n",
        "\n",
        "# Installing the recommenders library.\n",
        "# Ensure that you have python version <=3.9 when installing this.\n",
        "!pip install recommenders[examples]"
      ]
    },
    {
      "cell_type": "code",
      "execution_count": 1,
      "metadata": {
        "colab": {
          "base_uri": "https://localhost:8080/"
        },
        "id": "60ssvIbjPlpu",
        "outputId": "e1ade137-b1f9-4de0-d1e1-8c7cfd8e38fb"
      },
      "outputs": [
        {
          "name": "stderr",
          "output_type": "stream",
          "text": [
            "c:\\ProgramData\\Anaconda3\\lib\\site-packages\\scipy\\__init__.py:146: UserWarning: A NumPy version >=1.16.5 and <1.23.0 is required for this version of SciPy (detected version 1.26.4\n",
            "  warnings.warn(f\"A NumPy version >={np_minversion} and <{np_maxversion}\"\n",
            "WARNING:tensorflow:From C:\\Users\\e0559632\\AppData\\Roaming\\Python\\Python39\\site-packages\\recommenders\\models\\ncf\\ncf_singlenode.py:12: The name tf.disable_eager_execution is deprecated. Please use tf.compat.v1.disable_eager_execution instead.\n",
            "\n"
          ]
        },
        {
          "name": "stdout",
          "output_type": "stream",
          "text": [
            "System version: 3.9.12 (main, Apr  4 2022, 05:22:27) [MSC v.1916 64 bit (AMD64)]\n",
            "Pandas version: 1.4.2\n"
          ]
        }
      ],
      "source": [
        "import sys\n",
        "import os\n",
        "import shutil\n",
        "\n",
        "import pandas as pd\n",
        "import numpy as np\n",
        "\n",
        "from recommenders.utils.timer import Timer\n",
        "from recommenders.datasets.python_splitters import python_chrono_split, python_stratified_split\n",
        "\n",
        "from recommenders.models.ncf.dataset import Dataset as NCFDataset\n",
        "\n",
        "# Importing the NCF model class from the recommenders library\n",
        "from recommenders.models.ncf.ncf_singlenode import NCF\n",
        "\n",
        "# importing the evaluation metrics\n",
        "from recommenders.evaluation.python_evaluation import (rmse, mae, rsquared, exp_var, map_at_k, ndcg_at_k, precision_at_k,\n",
        "                                                     recall_at_k, get_top_k_items)\n",
        "from recommenders.utils.constants import SEED as DEFAULT_SEED\n",
        "\n",
        "\n",
        "print(\"System version: {}\".format(sys.version))\n",
        "print(\"Pandas version: {}\".format(pd.__version__))"
      ]
    },
    {
      "cell_type": "markdown",
      "metadata": {
        "id": "LueGX40FQLIU"
      },
      "source": [
        "### Loading the Dataset"
      ]
    },
    {
      "cell_type": "code",
      "execution_count": 3,
      "metadata": {
        "colab": {
          "base_uri": "https://localhost:8080/"
        },
        "id": "yCjWmCVW0At5",
        "outputId": "6627aff9-6f1e-4e08-e106-78b0ffa529e2"
      },
      "outputs": [
        {
          "name": "stdout",
          "output_type": "stream",
          "text": [
            "Drive already mounted at /content/drive; to attempt to forcibly remount, call drive.mount(\"/content/drive\", force_remount=True).\n"
          ]
        }
      ],
      "source": [
        "from google.colab import drive\n",
        "\n",
        "# Mount Google Drive\n",
        "drive.mount('/content/drive')"
      ]
    },
    {
      "cell_type": "code",
      "execution_count": 2,
      "metadata": {
        "colab": {
          "base_uri": "https://localhost:8080/"
        },
        "id": "O5UsXZDZ0PXY",
        "outputId": "449849be-549d-4e61-d81d-9ef2a8f68abb"
      },
      "outputs": [
        {
          "name": "stdout",
          "output_type": "stream",
          "text": [
            "<class 'pandas.core.frame.DataFrame'>\n",
            "Int64Index: 51548 entries, 0 to 393030\n",
            "Data columns (total 3 columns):\n",
            " #   Column  Non-Null Count  Dtype\n",
            "---  ------  --------------  -----\n",
            " 0   userID  51548 non-null  int64\n",
            " 1   itemID  51548 non-null  int64\n",
            " 2   rating  51548 non-null  int64\n",
            "dtypes: int64(3)\n",
            "memory usage: 1.6 MB\n"
          ]
        }
      ],
      "source": [
        "df_full = pd.read_csv('user_songs_filtered.csv')[['Username', 'track_name', 'artist_name',\n",
        "                                                    'rank',\n",
        "                                                    # 'playcount'\n",
        "                                                    ]]\n",
        "df_full['track'] = df_full['track_name'] + ' ' + df_full['artist_name']\n",
        "df_full['itemID'] = df_full.groupby('track').ngroup() + 1\n",
        "df_full['userID'] = df_full.groupby('Username').ngroup() + 1\n",
        "\n",
        "df = df_full.copy()\n",
        "df.rename(columns={'rank': 'rating'}, inplace=True)\n",
        "# df.rename(columns={'playcount': 'rating'}, inplace=True)\n",
        "df = df.drop(['track', 'track_name', 'artist_name', 'Username'], axis = 1)\n",
        "\n",
        "# using a subset of data to reduce runtime to manageable duration, select users who have more than 48 top songs\n",
        "threshold = 48\n",
        "df = df[df.groupby('userID')['userID'].transform('size') > threshold]\n",
        "df = df[['userID', 'itemID', 'rating']]\n",
        "df.info()\n",
        "\n",
        "# df.to_csv('df_NCF.csv', index = False)\n"
      ]
    },
    {
      "cell_type": "code",
      "execution_count": 4,
      "metadata": {
        "colab": {
          "base_uri": "https://localhost:8080/"
        },
        "id": "Bfi_MWhfyodg",
        "outputId": "5a2d63be-fd5d-4cf7-e63c-518d005063fe"
      },
      "outputs": [
        {
          "name": "stdout",
          "output_type": "stream",
          "text": [
            "<class 'pandas.core.frame.DataFrame'>\n",
            "RangeIndex: 94748 entries, 0 to 94747\n",
            "Data columns (total 3 columns):\n",
            " #   Column  Non-Null Count  Dtype\n",
            "---  ------  --------------  -----\n",
            " 0   rating  94748 non-null  int64\n",
            " 1   itemID  94748 non-null  int64\n",
            " 2   userID  94748 non-null  int64\n",
            "dtypes: int64(3)\n",
            "memory usage: 2.2 MB\n"
          ]
        }
      ],
      "source": [
        "# df = pd.read_csv('/content/drive/MyDrive/df_NCF.csv')\n",
        "# df.info()"
      ]
    },
    {
      "cell_type": "code",
      "execution_count": 3,
      "metadata": {
        "colab": {
          "base_uri": "https://localhost:8080/",
          "height": 206
        },
        "id": "PykaCSKz09OE",
        "outputId": "5d202d9a-7de2-43ca-f743-3fd2b6dc3ba0"
      },
      "outputs": [
        {
          "data": {
            "text/html": [
              "<div>\n",
              "<style scoped>\n",
              "    .dataframe tbody tr th:only-of-type {\n",
              "        vertical-align: middle;\n",
              "    }\n",
              "\n",
              "    .dataframe tbody tr th {\n",
              "        vertical-align: top;\n",
              "    }\n",
              "\n",
              "    .dataframe thead th {\n",
              "        text-align: right;\n",
              "    }\n",
              "</style>\n",
              "<table border=\"1\" class=\"dataframe\">\n",
              "  <thead>\n",
              "    <tr style=\"text-align: right;\">\n",
              "      <th></th>\n",
              "      <th>userID</th>\n",
              "      <th>itemID</th>\n",
              "      <th>rating</th>\n",
              "    </tr>\n",
              "  </thead>\n",
              "  <tbody>\n",
              "    <tr>\n",
              "      <th>307882</th>\n",
              "      <td>6</td>\n",
              "      <td>69610</td>\n",
              "      <td>36</td>\n",
              "    </tr>\n",
              "    <tr>\n",
              "      <th>119014</th>\n",
              "      <td>6</td>\n",
              "      <td>92294</td>\n",
              "      <td>33</td>\n",
              "    </tr>\n",
              "    <tr>\n",
              "      <th>153328</th>\n",
              "      <td>10</td>\n",
              "      <td>121378</td>\n",
              "      <td>17</td>\n",
              "    </tr>\n",
              "    <tr>\n",
              "      <th>219164</th>\n",
              "      <td>10</td>\n",
              "      <td>83514</td>\n",
              "      <td>10</td>\n",
              "    </tr>\n",
              "    <tr>\n",
              "      <th>270950</th>\n",
              "      <td>10</td>\n",
              "      <td>129097</td>\n",
              "      <td>32</td>\n",
              "    </tr>\n",
              "  </tbody>\n",
              "</table>\n",
              "</div>"
            ],
            "text/plain": [
              "        userID  itemID  rating\n",
              "307882       6   69610      36\n",
              "119014       6   92294      33\n",
              "153328      10  121378      17\n",
              "219164      10   83514      10\n",
              "270950      10  129097      32"
            ]
          },
          "execution_count": 3,
          "metadata": {},
          "output_type": "execute_result"
        }
      ],
      "source": [
        "#Split the dataset into 75% train and 25% test\n",
        "\n",
        "# header = {\n",
        "#     \"col_user\": \"userID\",\n",
        "#     \"col_item\": \"itemID\",\n",
        "#     \"col_rank\": \"rank\",\n",
        "#     # \"col_rank\": 'playcount',\n",
        "#     \"col_prediction\": \"Prediction\",\n",
        "# }\n",
        "\n",
        "train, test = python_stratified_split(\n",
        "    df, ratio=0.75,\n",
        "    #   col_user=\"userID\", col_item=\"itemID\", seed=42\n",
        ")\n",
        "\n",
        "# Filtering out users and items in the test set that do not appear in the training set.\n",
        "# This is done so that we can see if our model has learnt user's previous item interactions and can recommend relevant items.\n",
        "test = test[test[\"userID\"].isin(train[\"userID\"].unique())]\n",
        "test = test[test[\"itemID\"].isin(train[\"itemID\"].unique())]\n",
        "\n",
        "# Creating a test set which only contains the last interaction for each user. Remaining data of the user is used in the train set\n",
        "leave_one_out_test = test.groupby(\"userID\").last().reset_index()\n",
        "\n",
        "test.head()"
      ]
    },
    {
      "cell_type": "code",
      "execution_count": 4,
      "metadata": {
        "id": "OAEWJQHwPoqD"
      },
      "outputs": [],
      "source": [
        "# top k items to recommend\n",
        "TOP_K = 10\n",
        "\n",
        "# Model parameters\n",
        "# Number of iterations during the training process\n",
        "EPOCHS = 100\n",
        "# Batch size means how many user-item pairs you want to predict at once\n",
        "BATCH_SIZE = 256\n",
        "\n",
        "# Setting seed to remove any stochasticity and reproduce results\n",
        "SEED = DEFAULT_SEED  # Set None for non-deterministic results"
      ]
    },
    {
      "cell_type": "code",
      "execution_count": 5,
      "metadata": {
        "id": "3HOAfqPzY5sx"
      },
      "outputs": [],
      "source": [
        "# Writing the data into csv files\n",
        "train_file = \"train.csv\"\n",
        "test_file = \"test.csv\"\n",
        "leave_one_out_test_file = \"leave_one_out_test.csv\"\n",
        "\n",
        "train.to_csv(train_file, index=False)\n",
        "test.to_csv(test_file, index=False)\n",
        "leave_one_out_test.to_csv(leave_one_out_test_file, index=False)"
      ]
    },
    {
      "cell_type": "code",
      "execution_count": 6,
      "metadata": {
        "colab": {
          "base_uri": "https://localhost:8080/"
        },
        "id": "EkQXPSwYY83Q",
        "outputId": "f710e7f4-aa5a-4e57-e33f-2d8fe7b40c71"
      },
      "outputs": [
        {
          "name": "stderr",
          "output_type": "stream",
          "text": [
            "INFO:recommenders.models.ncf.dataset:Indexing train.csv ...\n",
            "INFO:recommenders.models.ncf.dataset:Indexing leave_one_out_test.csv ...\n",
            "INFO:recommenders.models.ncf.dataset:Creating full leave-one-out test file leave_one_out_test_full.csv ...\n",
            "100%|██████████| 999/999 [00:13<00:00, 76.04it/s]\n",
            "INFO:recommenders.models.ncf.dataset:Indexing leave_one_out_test_full.csv ...\n"
          ]
        }
      ],
      "source": [
        "data = NCFDataset(train_file=train_file, test_file=leave_one_out_test_file, seed=SEED, overwrite_test_file_full=True)"
      ]
    },
    {
      "cell_type": "markdown",
      "metadata": {
        "id": "5priPx_BSYWN"
      },
      "source": [
        "### Training the NCF Model"
      ]
    },
    {
      "cell_type": "markdown",
      "metadata": {
        "id": "TwDJ8mX6D3qj"
      },
      "source": [
        "NCF parameters:\n",
        "\n",
        "`n_users`, number of users. We are one hot encoding our user data. Therefore the input size of the model will be number of users.\n",
        "\n",
        "`n_items`, number of items. Same logic as `n_users`.\n",
        "\n",
        "`batch_size`, number of examples you want the model to process at a time. Higher value will consume more memory.\n",
        "\n",
        "`learning_rate`, this can be thought of as how much you want the model to change after one iteration. Large value will lead to unstability and very small values will take more time to converge.\n",
        "\n",
        "`n_factors`, which controls the dimension of the latent space. Usually, the quality of the training set predictions grows with as n_factors gets higher.\n",
        "\n",
        "`layer_sizes`, sizes of input layer (and hidden layers) of MLP, input type is list. We have set it to [64,32,16,8,4] as from training and testing, higher values gave better results. \n",
        "\n",
        "`n_epochs`, which defines the number of iteration of the SGD procedure. Note that both parameter also affect the training time.\n",
        "\n",
        "`model_type`, we can train single \"MLP\", \"GMF\" or combined model \"NCF\" by changing the type of model.\n",
        "\n",
        "[Reference: https://github.com/recommenders-team/recommenders/blob/main/examples/02_model_collaborative_filtering/ncf_deep_dive.ipynb]"
      ]
    },
    {
      "cell_type": "code",
      "execution_count": 7,
      "metadata": {
        "colab": {
          "base_uri": "https://localhost:8080/"
        },
        "id": "5cTcHa8OZBwu",
        "outputId": "60e363d9-9259-4d92-edaf-f26de68a79cd"
      },
      "outputs": [
        {
          "name": "stderr",
          "output_type": "stream",
          "text": [
            "C:\\Users\\e0559632\\AppData\\Roaming\\Python\\Python39\\site-packages\\tensorflow\\python\\keras\\engine\\base_layer_v1.py:1694: UserWarning: `layer.apply` is deprecated and will be removed in a future version. Please use `layer.__call__` method instead.\n",
            "  warnings.warn('`layer.apply` is deprecated and '\n",
            "WARNING:tensorflow:From C:\\Users\\e0559632\\AppData\\Roaming\\Python\\Python39\\site-packages\\recommenders\\models\\ncf\\ncf_singlenode.py:264: The name tf.losses.log_loss is deprecated. Please use tf.compat.v1.losses.log_loss instead.\n",
            "\n",
            "WARNING:tensorflow:From C:\\Users\\e0559632\\AppData\\Roaming\\Python\\Python39\\site-packages\\recommenders\\models\\ncf\\ncf_singlenode.py:269: The name tf.train.AdamOptimizer is deprecated. Please use tf.compat.v1.train.AdamOptimizer instead.\n",
            "\n"
          ]
        }
      ],
      "source": [
        "model = NCF (\n",
        "    n_users=data.n_users,\n",
        "    n_items=data.n_items,\n",
        "    model_type=\"NeuMF\",\n",
        "    n_factors=4,\n",
        "    layer_sizes=[64,32,16,8,4],\n",
        "    n_epochs=EPOCHS,\n",
        "    batch_size=BATCH_SIZE,\n",
        "    learning_rate=1e-3,\n",
        "    verbose=10,\n",
        "    seed=SEED\n",
        ")"
      ]
    },
    {
      "cell_type": "code",
      "execution_count": 8,
      "metadata": {
        "colab": {
          "base_uri": "https://localhost:8080/"
        },
        "id": "pfMjgAjgZFeQ",
        "outputId": "49ab2cf8-f3e5-4f98-db49-c3ccd6606fdc"
      },
      "outputs": [
        {
          "name": "stderr",
          "output_type": "stream",
          "text": [
            "INFO:recommenders.models.ncf.ncf_singlenode:Epoch 10 [7.69s]: train_loss = 0.122677 \n",
            "INFO:recommenders.models.ncf.ncf_singlenode:Epoch 20 [7.67s]: train_loss = 0.045938 \n",
            "INFO:recommenders.models.ncf.ncf_singlenode:Epoch 30 [8.34s]: train_loss = 0.028823 \n",
            "INFO:recommenders.models.ncf.ncf_singlenode:Epoch 40 [8.46s]: train_loss = 0.020940 \n",
            "INFO:recommenders.models.ncf.ncf_singlenode:Epoch 50 [8.53s]: train_loss = 0.016842 \n",
            "INFO:recommenders.models.ncf.ncf_singlenode:Epoch 60 [8.60s]: train_loss = 0.014509 \n",
            "INFO:recommenders.models.ncf.ncf_singlenode:Epoch 70 [8.08s]: train_loss = 0.011180 \n",
            "INFO:recommenders.models.ncf.ncf_singlenode:Epoch 80 [7.73s]: train_loss = 0.010230 \n",
            "INFO:recommenders.models.ncf.ncf_singlenode:Epoch 90 [7.73s]: train_loss = 0.009298 \n",
            "INFO:recommenders.models.ncf.ncf_singlenode:Epoch 100 [7.71s]: train_loss = 0.008830 \n"
          ]
        },
        {
          "name": "stdout",
          "output_type": "stream",
          "text": [
            "Took 792.3021583000001 seconds for training.\n"
          ]
        }
      ],
      "source": [
        "with Timer() as train_time:\n",
        "    model.fit(data)\n",
        "\n",
        "print(\"Took {} seconds for training.\".format(train_time.interval))"
      ]
    },
    {
      "cell_type": "markdown",
      "metadata": {
        "id": "PtU6-V-7Ym-Z"
      },
      "source": [
        "### Prediction\n",
        "\n",
        "After fitting the model, we can call `predict` to get some predictions. `predict` returns an internal object Prediction which can be easily converted back to a dataframe."
      ]
    },
    {
      "cell_type": "code",
      "execution_count": 9,
      "metadata": {
        "colab": {
          "base_uri": "https://localhost:8080/",
          "height": 206
        },
        "id": "4_ab5_n2rWs6",
        "outputId": "94c303ed-aca9-49b6-f1c4-ba0ce38811da"
      },
      "outputs": [
        {
          "data": {
            "text/html": [
              "<div>\n",
              "<style scoped>\n",
              "    .dataframe tbody tr th:only-of-type {\n",
              "        vertical-align: middle;\n",
              "    }\n",
              "\n",
              "    .dataframe tbody tr th {\n",
              "        vertical-align: top;\n",
              "    }\n",
              "\n",
              "    .dataframe thead th {\n",
              "        text-align: right;\n",
              "    }\n",
              "</style>\n",
              "<table border=\"1\" class=\"dataframe\">\n",
              "  <thead>\n",
              "    <tr style=\"text-align: right;\">\n",
              "      <th></th>\n",
              "      <th>userID</th>\n",
              "      <th>itemID</th>\n",
              "      <th>prediction</th>\n",
              "    </tr>\n",
              "  </thead>\n",
              "  <tbody>\n",
              "    <tr>\n",
              "      <th>0</th>\n",
              "      <td>6</td>\n",
              "      <td>69610</td>\n",
              "      <td>4.548416e-28</td>\n",
              "    </tr>\n",
              "    <tr>\n",
              "      <th>1</th>\n",
              "      <td>6</td>\n",
              "      <td>92294</td>\n",
              "      <td>3.256148e-17</td>\n",
              "    </tr>\n",
              "    <tr>\n",
              "      <th>2</th>\n",
              "      <td>10</td>\n",
              "      <td>121378</td>\n",
              "      <td>1.326578e-18</td>\n",
              "    </tr>\n",
              "    <tr>\n",
              "      <th>3</th>\n",
              "      <td>10</td>\n",
              "      <td>83514</td>\n",
              "      <td>1.529767e-11</td>\n",
              "    </tr>\n",
              "    <tr>\n",
              "      <th>4</th>\n",
              "      <td>10</td>\n",
              "      <td>129097</td>\n",
              "      <td>1.347210e-09</td>\n",
              "    </tr>\n",
              "  </tbody>\n",
              "</table>\n",
              "</div>"
            ],
            "text/plain": [
              "   userID  itemID    prediction\n",
              "0       6   69610  4.548416e-28\n",
              "1       6   92294  3.256148e-17\n",
              "2      10  121378  1.326578e-18\n",
              "3      10   83514  1.529767e-11\n",
              "4      10  129097  1.347210e-09"
            ]
          },
          "execution_count": 9,
          "metadata": {},
          "output_type": "execute_result"
        }
      ],
      "source": [
        "predictions = [[row.userID, row.itemID, model.predict(row.userID, row.itemID)]\n",
        "               for (_, row) in test.iterrows()]\n",
        "\n",
        "predictions = pd.DataFrame(predictions, columns=['userID', 'itemID', 'prediction'])\n",
        "predictions.head()"
      ]
    },
    {
      "cell_type": "markdown",
      "metadata": {
        "id": "kSvrxY4SVeeC"
      },
      "source": [
        "### Generic Evaluation"
      ]
    },
    {
      "cell_type": "markdown",
      "metadata": {
        "id": "hPTU8a8mGtFR"
      },
      "source": [
        "We remove songs that are already users' top songs in the top k recommendations. To compute ranking metrics, we need predictions on all user, item pairs. We do not want to recommend the same item again to the user.\n",
        "\n",
        "MAP - It is the average precision for each user normalized over all users.\n",
        "\n",
        "Normalized Discounted Cumulative Gain (NDCG) - evaluates how well the predicted items for a user are ranked based on relevance\n",
        "\n",
        "Precision - this measures the proportion of recommended items that are relevant\n",
        "\n",
        "Recall - this measures the proportion of relevant items that are recommended\n"
      ]
    },
    {
      "cell_type": "code",
      "execution_count": 10,
      "metadata": {
        "id": "7sr3cfuysUAC"
      },
      "outputs": [
        {
          "name": "stdout",
          "output_type": "stream",
          "text": [
            "Took 32.72318150000001 seconds for prediction.\n"
          ]
        }
      ],
      "source": [
        "with Timer() as test_time:\n",
        "\n",
        "    users, items, preds = [], [], []\n",
        "    item = list(train.itemID.unique())\n",
        "    for user in train.userID.unique():\n",
        "        user = [user] * len(item)\n",
        "        users.extend(user)\n",
        "        items.extend(item)\n",
        "        preds.extend(list(model.predict(user, item, is_list=True)))\n",
        "\n",
        "    all_predictions = pd.DataFrame(data={\"userID\": users, \"itemID\":items, \"prediction\":preds})\n",
        "\n",
        "    merged = pd.merge(train, all_predictions, on=[\"userID\", \"itemID\"], how=\"outer\")\n",
        "    all_predictions = merged[merged.rating.isnull()].drop('rating', axis=1)\n",
        "\n",
        "print(\"Took {} seconds for prediction.\".format(test_time.interval))"
      ]
    },
    {
      "cell_type": "code",
      "execution_count": 3,
      "metadata": {
        "id": "4zB8eW8e63Mc"
      },
      "outputs": [],
      "source": [
        "# # all for the RAM limitations...\n",
        "# all_predictions = pd.read_csv(\"/content/drive/MyDrive/all_predictions_1.csv\")\n",
        "# train = pd.read_csv(\"/content/drive/MyDrive/train.csv\")\n",
        "\n",
        "# merged = pd.merge(train, all_predictions, on=[\"userID\", \"itemID\"], how=\"outer\")\n",
        "# all_predictions = merged[merged.rating.isnull()].drop('rating', axis=1)\n",
        "\n",
        "# all_predictions.to_csv(\"/content/drive/MyDrive/all_predictions_2.csv\", index = False)"
      ]
    },
    {
      "cell_type": "code",
      "execution_count": 1,
      "metadata": {
        "id": "-3UBR0buCeek"
      },
      "outputs": [
        {
          "name": "stderr",
          "output_type": "stream",
          "text": [
            "c:\\ProgramData\\Anaconda3\\lib\\site-packages\\scipy\\__init__.py:146: UserWarning: A NumPy version >=1.16.5 and <1.23.0 is required for this version of SciPy (detected version 1.26.4\n",
            "  warnings.warn(f\"A NumPy version >={np_minversion} and <{np_maxversion}\"\n"
          ]
        }
      ],
      "source": [
        "# import pandas as pd\n",
        "# # importing the evaluation metrics\n",
        "# from recommenders.evaluation.python_evaluation import (rmse, mae, rsquared, exp_var, map_at_k, ndcg_at_k, precision_at_k,\n",
        "#                                                      recall_at_k, get_top_k_items)"
      ]
    },
    {
      "cell_type": "code",
      "execution_count": 2,
      "metadata": {
        "id": "hnEPNLlxCloH"
      },
      "outputs": [],
      "source": [
        "# all_predictions = pd.read_csv(\"all_predictions_2.csv\")\n",
        "# test = pd.read_csv(\"test.csv\")\n",
        "# TOP_K = 10"
      ]
    },
    {
      "cell_type": "code",
      "execution_count": 11,
      "metadata": {
        "id": "Ytmk1_--CnaI"
      },
      "outputs": [
        {
          "name": "stdout",
          "output_type": "stream",
          "text": [
            "Precision: 0.028828828828828833 \n",
            " Recall: 0.036776603443270106\n"
          ]
        }
      ],
      "source": [
        "eval_precision = precision_at_k(test, all_predictions, col_prediction='prediction', k=TOP_K)\n",
        "eval_recall = recall_at_k(test, all_predictions, col_prediction='prediction', k=TOP_K)\n",
        "print(f\"Precision: {eval_precision} \\n Recall: {eval_recall}\")"
      ]
    },
    {
      "cell_type": "code",
      "execution_count": 12,
      "metadata": {
        "id": "XlMK1-_ZC6bN"
      },
      "outputs": [
        {
          "name": "stdout",
          "output_type": "stream",
          "text": [
            "MAP@K: 0.016139370706169647\n"
          ]
        }
      ],
      "source": [
        "eval_map = map_at_k(test, all_predictions, col_prediction='prediction', k=TOP_K)\n",
        "print(f\"MAP@K: {eval_map}\")"
      ]
    },
    {
      "cell_type": "code",
      "execution_count": 13,
      "metadata": {
        "id": "UaFpe1CfWE1y"
      },
      "outputs": [
        {
          "name": "stdout",
          "output_type": "stream",
          "text": [
            "NDCG@K: 0.03807577652405223\n"
          ]
        }
      ],
      "source": [
        "eval_ndcg = ndcg_at_k(test, all_predictions, col_prediction='prediction', k=TOP_K)\n",
        "print(f\"NDCG@K: {eval_ndcg}\")"
      ]
    },
    {
      "cell_type": "markdown",
      "metadata": {
        "id": "0tDl3NYtBeT5"
      },
      "source": [
        "### Summary of Ranking Metrics"
      ]
    },
    {
      "cell_type": "markdown",
      "metadata": {
        "id": "agdvEb2CBbkh"
      },
      "source": [
        "<center>\n",
        "\n",
        "|Metric|Range|Selection criteria|Limitation|\n",
        "|------|-------------------------------|---------|----------|\n",
        "|Precision|$\\geq 0$ and $\\leq 1$|Higher the better.|Only for hits in recommendations.|\n",
        "|Recall|$\\geq 0$ and $\\leq 1$|Higher the better.|Only for hits in the ground truth.|\n",
        "|NDCG|$\\geq 0$ and $\\leq 1$|Higher the better.|Does not penalize for bad/missing items, and does not perform for several equally good items.|\n",
        "|MAP|$\\geq 0$ and $\\leq 1$|Higher the better.|Depend on variable distributions.|\n",
        "\n",
        "</center>"
      ]
    },
    {
      "cell_type": "markdown",
      "metadata": {
        "id": "He-B-SqWWsyJ"
      },
      "source": [
        "### \"Leave-one-out\" Evaluation"
      ]
    },
    {
      "cell_type": "markdown",
      "metadata": {
        "id": "t8Gfo8wEYJVC"
      },
      "source": [
        "For each item in test data, we randomly samples 100 items that are not interacted by the user, ranking the test item among the 101 items (1 positive item and 100 negative items). The performance of a ranked list is judged by Hit Ratio (HR) and Normalized Discounted Cumulative Gain (NDCG). Finally, we average the values of those ranked lists to obtain the overall HR and NDCG on test data.\n",
        "\n",
        "We truncated the ranked list at 10 for both metrics. As such, the HR intuitively measures whether the test item is present on the top-10 list, and the NDCG accounts for the position of the hit by assigning higher scores to hits at top ranks."
      ]
    },
    {
      "cell_type": "code",
      "execution_count": 14,
      "metadata": {
        "id": "acQpbq-AYIuq"
      },
      "outputs": [
        {
          "name": "stdout",
          "output_type": "stream",
          "text": [
            "HR:\t0.506507\n",
            "NDCG:\t0.444740\n"
          ]
        }
      ],
      "source": [
        "k = TOP_K\n",
        "\n",
        "ndcgs = []\n",
        "hit_ratio = []\n",
        "\n",
        "for b in data.test_loader():\n",
        "    user_input, item_input, labels = b\n",
        "    output = model.predict(user_input, item_input, is_list=True)\n",
        "\n",
        "    output = np.squeeze(output)\n",
        "    rank = sum(output >= output[0])\n",
        "    if rank <= k:\n",
        "        ndcgs.append(1 / np.log(rank + 1))\n",
        "        hit_ratio.append(1)\n",
        "    else:\n",
        "        ndcgs.append(0)\n",
        "        hit_ratio.append(0)\n",
        "\n",
        "eval_ndcg = np.mean(ndcgs)\n",
        "eval_hr = np.mean(hit_ratio)\n",
        "\n",
        "print(\"HR:\\t%f\" % eval_hr)\n",
        "print(\"NDCG:\\t%f\" % eval_ndcg)"
      ]
    }
  ],
  "metadata": {
    "colab": {
      "provenance": []
    },
    "kernelspec": {
      "display_name": "Python 3",
      "name": "python3"
    },
    "language_info": {
      "codemirror_mode": {
        "name": "ipython",
        "version": 3
      },
      "file_extension": ".py",
      "mimetype": "text/x-python",
      "name": "python",
      "nbconvert_exporter": "python",
      "pygments_lexer": "ipython3",
      "version": "3.9.12"
    }
  },
  "nbformat": 4,
  "nbformat_minor": 0
}
