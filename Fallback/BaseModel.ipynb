{
 "cells": [
  {
   "cell_type": "code",
   "execution_count": 211,
   "metadata": {},
   "outputs": [],
   "source": [
    "import numpy as np\n",
    "import pandas as pd\n",
    "import datetime as dt\n",
    "from scipy import stats\n",
    "import plotly.express as px\n",
    "import matplotlib.pyplot as plt\n",
    "from sklearn.model_selection import train_test_split\n",
    "from sklearn.model_selection import train_test_split\n",
    "from surprise import Dataset\n",
    "from surprise import Reader\n",
    "from surprise.model_selection import train_test_split\n",
    "from surprise import SVD\n",
    "from surprise.model_selection import cross_validate\n",
    "import pickle\n",
    "import recmetrics\n",
    "from sklearn.preprocessing import LabelEncoder"
   ]
  },
  {
   "cell_type": "markdown",
   "metadata": {},
   "source": [
    "# Collaborative Filter Recommender\n",
    "We are implementing a collaborative filtering using a SVD approach in the `surprise` package. The surprise package also takes care of the train test split. The collaborative filter \n",
    "transforms user-item interactions into latent space and reconstructs the user-item matrix to predict missing `relative_playcount` values based on the patterns it has learnt. The predicted \n",
    "rating is the dot product between the `Username` and `Track_Artist` vectors in latent space.\n",
    "\n",
    "We will be taking the `Username`, `track_name` and `artist_name` and `playcount` from the `user_songs_filtered.csv` dataset.\n",
    "\n",
    "The evaluation works by comparing the predicted songs using the SVD approach to the user's actual top 30 songs in the user's playlist"
   ]
  },
  {
   "cell_type": "markdown",
   "metadata": {},
   "source": [
    "## Reading the CSV file"
   ]
  },
  {
   "cell_type": "code",
   "execution_count": 212,
   "metadata": {},
   "outputs": [
    {
     "data": {
      "text/html": [
       "<div>\n",
       "<style scoped>\n",
       "    .dataframe tbody tr th:only-of-type {\n",
       "        vertical-align: middle;\n",
       "    }\n",
       "\n",
       "    .dataframe tbody tr th {\n",
       "        vertical-align: top;\n",
       "    }\n",
       "\n",
       "    .dataframe thead th {\n",
       "        text-align: right;\n",
       "    }\n",
       "</style>\n",
       "<table border=\"1\" class=\"dataframe\">\n",
       "  <thead>\n",
       "    <tr style=\"text-align: right;\">\n",
       "      <th></th>\n",
       "      <th>Username</th>\n",
       "      <th>country</th>\n",
       "      <th>registered_year</th>\n",
       "      <th>track_count</th>\n",
       "      <th>artist_count</th>\n",
       "      <th>track_name</th>\n",
       "      <th>artist_name</th>\n",
       "      <th>rank</th>\n",
       "      <th>playcount</th>\n",
       "      <th>lyrics</th>\n",
       "      <th>...</th>\n",
       "      <th>emotion1</th>\n",
       "      <th>emotion1_score</th>\n",
       "      <th>emotion2</th>\n",
       "      <th>emotion2_score</th>\n",
       "      <th>mfcc</th>\n",
       "      <th>chroma</th>\n",
       "      <th>rms</th>\n",
       "      <th>spectral_centroid</th>\n",
       "      <th>zcr</th>\n",
       "      <th>tempo</th>\n",
       "    </tr>\n",
       "  </thead>\n",
       "  <tbody>\n",
       "    <tr>\n",
       "      <th>0</th>\n",
       "      <td>emosoup</td>\n",
       "      <td>United States</td>\n",
       "      <td>2015</td>\n",
       "      <td>13520</td>\n",
       "      <td>3386</td>\n",
       "      <td>Higher</td>\n",
       "      <td>Sleep Token</td>\n",
       "      <td>1</td>\n",
       "      <td>1321</td>\n",
       "      <td>you say you wont begin again\\ncapitulate and l...</td>\n",
       "      <td>...</td>\n",
       "      <td>negative</td>\n",
       "      <td>0.227031</td>\n",
       "      <td>sadness</td>\n",
       "      <td>0.156834</td>\n",
       "      <td>[-238.95233    173.60838    -18.518389    40.3...</td>\n",
       "      <td>[0.50727826 0.3796307  0.33886188 0.22625148 0...</td>\n",
       "      <td>0.146034</td>\n",
       "      <td>1508.885765</td>\n",
       "      <td>0.032354</td>\n",
       "      <td>77.133862</td>\n",
       "    </tr>\n",
       "    <tr>\n",
       "      <th>1</th>\n",
       "      <td>maiconslavieiro</td>\n",
       "      <td>Brazil</td>\n",
       "      <td>2019</td>\n",
       "      <td>18795</td>\n",
       "      <td>6513</td>\n",
       "      <td>Higher</td>\n",
       "      <td>Sleep Token</td>\n",
       "      <td>21</td>\n",
       "      <td>151</td>\n",
       "      <td>you say you wont begin again\\ncapitulate and l...</td>\n",
       "      <td>...</td>\n",
       "      <td>negative</td>\n",
       "      <td>0.227031</td>\n",
       "      <td>sadness</td>\n",
       "      <td>0.156834</td>\n",
       "      <td>[-238.95233    173.60838    -18.518389    40.3...</td>\n",
       "      <td>[0.50727826 0.3796307  0.33886188 0.22625148 0...</td>\n",
       "      <td>0.146034</td>\n",
       "      <td>1508.885765</td>\n",
       "      <td>0.032354</td>\n",
       "      <td>77.133862</td>\n",
       "    </tr>\n",
       "    <tr>\n",
       "      <th>2</th>\n",
       "      <td>velenious</td>\n",
       "      <td>United States</td>\n",
       "      <td>2013</td>\n",
       "      <td>32367</td>\n",
       "      <td>8810</td>\n",
       "      <td>Higher</td>\n",
       "      <td>Sleep Token</td>\n",
       "      <td>19</td>\n",
       "      <td>1259</td>\n",
       "      <td>you say you wont begin again\\ncapitulate and l...</td>\n",
       "      <td>...</td>\n",
       "      <td>negative</td>\n",
       "      <td>0.227031</td>\n",
       "      <td>sadness</td>\n",
       "      <td>0.156834</td>\n",
       "      <td>[-238.95233    173.60838    -18.518389    40.3...</td>\n",
       "      <td>[0.50727826 0.3796307  0.33886188 0.22625148 0...</td>\n",
       "      <td>0.146034</td>\n",
       "      <td>1508.885765</td>\n",
       "      <td>0.032354</td>\n",
       "      <td>77.133862</td>\n",
       "    </tr>\n",
       "    <tr>\n",
       "      <th>3</th>\n",
       "      <td>Antimemetic</td>\n",
       "      <td>United States</td>\n",
       "      <td>2023</td>\n",
       "      <td>4030</td>\n",
       "      <td>711</td>\n",
       "      <td>Higher</td>\n",
       "      <td>Sleep Token</td>\n",
       "      <td>32</td>\n",
       "      <td>29</td>\n",
       "      <td>you say you wont begin again\\ncapitulate and l...</td>\n",
       "      <td>...</td>\n",
       "      <td>negative</td>\n",
       "      <td>0.227031</td>\n",
       "      <td>sadness</td>\n",
       "      <td>0.156834</td>\n",
       "      <td>[-238.95233    173.60838    -18.518389    40.3...</td>\n",
       "      <td>[0.50727826 0.3796307  0.33886188 0.22625148 0...</td>\n",
       "      <td>0.146034</td>\n",
       "      <td>1508.885765</td>\n",
       "      <td>0.032354</td>\n",
       "      <td>77.133862</td>\n",
       "    </tr>\n",
       "    <tr>\n",
       "      <th>4</th>\n",
       "      <td>frankcreature</td>\n",
       "      <td>Czech Republic</td>\n",
       "      <td>2023</td>\n",
       "      <td>2528</td>\n",
       "      <td>706</td>\n",
       "      <td>Higher</td>\n",
       "      <td>Sleep Token</td>\n",
       "      <td>43</td>\n",
       "      <td>43</td>\n",
       "      <td>you say you wont begin again\\ncapitulate and l...</td>\n",
       "      <td>...</td>\n",
       "      <td>negative</td>\n",
       "      <td>0.227031</td>\n",
       "      <td>sadness</td>\n",
       "      <td>0.156834</td>\n",
       "      <td>[-238.95233    173.60838    -18.518389    40.3...</td>\n",
       "      <td>[0.50727826 0.3796307  0.33886188 0.22625148 0...</td>\n",
       "      <td>0.146034</td>\n",
       "      <td>1508.885765</td>\n",
       "      <td>0.032354</td>\n",
       "      <td>77.133862</td>\n",
       "    </tr>\n",
       "  </tbody>\n",
       "</table>\n",
       "<p>5 rows × 27 columns</p>\n",
       "</div>"
      ],
      "text/plain": [
       "          Username         country  registered_year  track_count  \\\n",
       "0          emosoup   United States             2015        13520   \n",
       "1  maiconslavieiro          Brazil             2019        18795   \n",
       "2        velenious   United States             2013        32367   \n",
       "3      Antimemetic   United States             2023         4030   \n",
       "4    frankcreature  Czech Republic             2023         2528   \n",
       "\n",
       "   artist_count track_name  artist_name  rank  playcount  \\\n",
       "0          3386     Higher  Sleep Token     1       1321   \n",
       "1          6513     Higher  Sleep Token    21        151   \n",
       "2          8810     Higher  Sleep Token    19       1259   \n",
       "3           711     Higher  Sleep Token    32         29   \n",
       "4           706     Higher  Sleep Token    43         43   \n",
       "\n",
       "                                              lyrics  ...  emotion1  \\\n",
       "0  you say you wont begin again\\ncapitulate and l...  ...  negative   \n",
       "1  you say you wont begin again\\ncapitulate and l...  ...  negative   \n",
       "2  you say you wont begin again\\ncapitulate and l...  ...  negative   \n",
       "3  you say you wont begin again\\ncapitulate and l...  ...  negative   \n",
       "4  you say you wont begin again\\ncapitulate and l...  ...  negative   \n",
       "\n",
       "   emotion1_score  emotion2 emotion2_score  \\\n",
       "0        0.227031   sadness       0.156834   \n",
       "1        0.227031   sadness       0.156834   \n",
       "2        0.227031   sadness       0.156834   \n",
       "3        0.227031   sadness       0.156834   \n",
       "4        0.227031   sadness       0.156834   \n",
       "\n",
       "                                                mfcc  \\\n",
       "0  [-238.95233    173.60838    -18.518389    40.3...   \n",
       "1  [-238.95233    173.60838    -18.518389    40.3...   \n",
       "2  [-238.95233    173.60838    -18.518389    40.3...   \n",
       "3  [-238.95233    173.60838    -18.518389    40.3...   \n",
       "4  [-238.95233    173.60838    -18.518389    40.3...   \n",
       "\n",
       "                                              chroma       rms  \\\n",
       "0  [0.50727826 0.3796307  0.33886188 0.22625148 0...  0.146034   \n",
       "1  [0.50727826 0.3796307  0.33886188 0.22625148 0...  0.146034   \n",
       "2  [0.50727826 0.3796307  0.33886188 0.22625148 0...  0.146034   \n",
       "3  [0.50727826 0.3796307  0.33886188 0.22625148 0...  0.146034   \n",
       "4  [0.50727826 0.3796307  0.33886188 0.22625148 0...  0.146034   \n",
       "\n",
       "  spectral_centroid       zcr      tempo  \n",
       "0       1508.885765  0.032354  77.133862  \n",
       "1       1508.885765  0.032354  77.133862  \n",
       "2       1508.885765  0.032354  77.133862  \n",
       "3       1508.885765  0.032354  77.133862  \n",
       "4       1508.885765  0.032354  77.133862  \n",
       "\n",
       "[5 rows x 27 columns]"
      ]
     },
     "execution_count": 212,
     "metadata": {},
     "output_type": "execute_result"
    }
   ],
   "source": [
    "df = pd.read_csv('../Data/user_songs_filtered.csv')\n",
    "df.head()"
   ]
  },
  {
   "cell_type": "markdown",
   "metadata": {},
   "source": [
    "## Creating the `Track_Artist` and `relative_playcount` column"
   ]
  },
  {
   "cell_type": "markdown",
   "metadata": {},
   "source": [
    "`relative_playcount`: Represents the playcount of each song relative to the total playcount of the user  \n",
    "`Track_Artist`: Combines both the `track_name` and the `artist_name`  \n",
    "`Username`: the user"
   ]
  },
  {
   "cell_type": "code",
   "execution_count": 213,
   "metadata": {},
   "outputs": [
    {
     "name": "stderr",
     "output_type": "stream",
     "text": [
      "/var/folders/w3/p_0x2kls1sb4qpyv2ch25z6c0000gn/T/ipykernel_21139/2940023715.py:8: SettingWithCopyWarning: \n",
      "A value is trying to be set on a copy of a slice from a DataFrame.\n",
      "Try using .loc[row_indexer,col_indexer] = value instead\n",
      "\n",
      "See the caveats in the documentation: https://pandas.pydata.org/pandas-docs/stable/user_guide/indexing.html#returning-a-view-versus-a-copy\n",
      "  cf_df['relative_playcount'] = cf_df['playcount'] / user_total_playcount\n",
      "/var/folders/w3/p_0x2kls1sb4qpyv2ch25z6c0000gn/T/ipykernel_21139/2940023715.py:11: SettingWithCopyWarning: \n",
      "A value is trying to be set on a copy of a slice from a DataFrame.\n",
      "Try using .loc[row_indexer,col_indexer] = value instead\n",
      "\n",
      "See the caveats in the documentation: https://pandas.pydata.org/pandas-docs/stable/user_guide/indexing.html#returning-a-view-versus-a-copy\n",
      "  cf_df['Track_Artist'] = cf_df['artist_name'] + ' - ' + cf_df['track_name']\n"
     ]
    },
    {
     "data": {
      "text/html": [
       "<div>\n",
       "<style scoped>\n",
       "    .dataframe tbody tr th:only-of-type {\n",
       "        vertical-align: middle;\n",
       "    }\n",
       "\n",
       "    .dataframe tbody tr th {\n",
       "        vertical-align: top;\n",
       "    }\n",
       "\n",
       "    .dataframe thead th {\n",
       "        text-align: right;\n",
       "    }\n",
       "</style>\n",
       "<table border=\"1\" class=\"dataframe\">\n",
       "  <thead>\n",
       "    <tr style=\"text-align: right;\">\n",
       "      <th></th>\n",
       "      <th>Username</th>\n",
       "      <th>track_name</th>\n",
       "      <th>artist_name</th>\n",
       "      <th>playcount</th>\n",
       "      <th>relative_playcount</th>\n",
       "      <th>Track_Artist</th>\n",
       "    </tr>\n",
       "  </thead>\n",
       "  <tbody>\n",
       "    <tr>\n",
       "      <th>0</th>\n",
       "      <td>emosoup</td>\n",
       "      <td>Higher</td>\n",
       "      <td>Sleep Token</td>\n",
       "      <td>1321</td>\n",
       "      <td>0.035110</td>\n",
       "      <td>Sleep Token - Higher</td>\n",
       "    </tr>\n",
       "    <tr>\n",
       "      <th>1</th>\n",
       "      <td>maiconslavieiro</td>\n",
       "      <td>Higher</td>\n",
       "      <td>Sleep Token</td>\n",
       "      <td>151</td>\n",
       "      <td>0.021730</td>\n",
       "      <td>Sleep Token - Higher</td>\n",
       "    </tr>\n",
       "    <tr>\n",
       "      <th>2</th>\n",
       "      <td>velenious</td>\n",
       "      <td>Higher</td>\n",
       "      <td>Sleep Token</td>\n",
       "      <td>1259</td>\n",
       "      <td>0.019800</td>\n",
       "      <td>Sleep Token - Higher</td>\n",
       "    </tr>\n",
       "    <tr>\n",
       "      <th>3</th>\n",
       "      <td>Antimemetic</td>\n",
       "      <td>Higher</td>\n",
       "      <td>Sleep Token</td>\n",
       "      <td>29</td>\n",
       "      <td>0.018012</td>\n",
       "      <td>Sleep Token - Higher</td>\n",
       "    </tr>\n",
       "    <tr>\n",
       "      <th>4</th>\n",
       "      <td>frankcreature</td>\n",
       "      <td>Higher</td>\n",
       "      <td>Sleep Token</td>\n",
       "      <td>43</td>\n",
       "      <td>0.009453</td>\n",
       "      <td>Sleep Token - Higher</td>\n",
       "    </tr>\n",
       "  </tbody>\n",
       "</table>\n",
       "</div>"
      ],
      "text/plain": [
       "          Username track_name  artist_name  playcount  relative_playcount  \\\n",
       "0          emosoup     Higher  Sleep Token       1321            0.035110   \n",
       "1  maiconslavieiro     Higher  Sleep Token        151            0.021730   \n",
       "2        velenious     Higher  Sleep Token       1259            0.019800   \n",
       "3      Antimemetic     Higher  Sleep Token         29            0.018012   \n",
       "4    frankcreature     Higher  Sleep Token         43            0.009453   \n",
       "\n",
       "           Track_Artist  \n",
       "0  Sleep Token - Higher  \n",
       "1  Sleep Token - Higher  \n",
       "2  Sleep Token - Higher  \n",
       "3  Sleep Token - Higher  \n",
       "4  Sleep Token - Higher  "
      ]
     },
     "execution_count": 213,
     "metadata": {},
     "output_type": "execute_result"
    }
   ],
   "source": [
    "# Subsetting the important information from the orginal dataset\n",
    "cf_df = df[['Username', 'track_name', 'artist_name', 'playcount']]\n",
    "\n",
    "# Finding the total playcount per user\n",
    "user_total_playcount = cf_df.groupby('Username')['playcount'].transform('sum')\n",
    "\n",
    "# Creating the relative_playcount column\n",
    "cf_df['relative_playcount'] = cf_df['playcount'] / user_total_playcount\n",
    "\n",
    "# Creating the Track_Artist column\n",
    "cf_df['Track_Artist'] = cf_df['artist_name'] + ' - ' + cf_df['track_name']\n",
    "\n",
    "cf_df.head()"
   ]
  },
  {
   "cell_type": "markdown",
   "metadata": {},
   "source": [
    "Using Label Encoding to assign a unique integer to each unique `Track_Artist` to create a `Track_Artist_id` column"
   ]
  },
  {
   "cell_type": "code",
   "execution_count": 214,
   "metadata": {},
   "outputs": [
    {
     "name": "stderr",
     "output_type": "stream",
     "text": [
      "/var/folders/w3/p_0x2kls1sb4qpyv2ch25z6c0000gn/T/ipykernel_21139/319584608.py:4: SettingWithCopyWarning: \n",
      "A value is trying to be set on a copy of a slice from a DataFrame.\n",
      "Try using .loc[row_indexer,col_indexer] = value instead\n",
      "\n",
      "See the caveats in the documentation: https://pandas.pydata.org/pandas-docs/stable/user_guide/indexing.html#returning-a-view-versus-a-copy\n",
      "  cf_df['Track_Artist_id'] = label_encoder.fit_transform(cf_df['Track_Artist'])\n"
     ]
    },
    {
     "name": "stdout",
     "output_type": "stream",
     "text": [
      "                                            Track_Artist  Track_Artist_id\n",
      "0                                   Sleep Token - Higher           110374\n",
      "16                       Sleep Token - The Love You Want           110394\n",
      "29                              Sleep Token - Dark Signs           110362\n",
      "43                                Sleep Token - Alkaline           110351\n",
      "74        Sleep Token - The Night Does Not Belong to God           110395\n",
      "...                                                  ...              ...\n",
      "393115                           guccihighwaters - candy           144645\n",
      "393116  Candy Claws - Fallen Tree Bridge (Brave Rainbow)            22536\n",
      "393117                  Candy Claws - The Breathing Fire            22550\n",
      "393118    Sound of Ceres - Solar Mirror Anthology Vol. 6           112338\n",
      "393119  |||||||||||||||||||| - Outlook Remains Untouched           147259\n",
      "\n",
      "[147592 rows x 2 columns]\n"
     ]
    }
   ],
   "source": [
    "label_encoder = LabelEncoder()\n",
    "\n",
    "# Fit label encoder and transform Track_Artist column\n",
    "cf_df['Track_Artist_id'] = label_encoder.fit_transform(cf_df['Track_Artist'])\n",
    "\n",
    "# Display the result\n",
    "print(cf_df[['Track_Artist', 'Track_Artist_id']].drop_duplicates())"
   ]
  },
  {
   "cell_type": "code",
   "execution_count": 215,
   "metadata": {},
   "outputs": [
    {
     "name": "stdout",
     "output_type": "stream",
     "text": [
      "         Username                    track_name artist_name  playcount  \\\n",
      "383532  fleuriana  Banana Clip (feat. Mowalola)   Namasenda        332   \n",
      "\n",
      "        relative_playcount                              Track_Artist  \\\n",
      "383532            0.032845  Namasenda - Banana Clip (feat. Mowalola)   \n",
      "\n",
      "        Track_Artist_id  \n",
      "383532            87229  \n"
     ]
    }
   ],
   "source": [
    "filtered_df = cf_df[(cf_df['Username'] == 'fleuriana') & (cf_df['Track_Artist_id'] == 87229)]\n",
    "print(filtered_df)"
   ]
  },
  {
   "cell_type": "code",
   "execution_count": 216,
   "metadata": {},
   "outputs": [
    {
     "data": {
      "text/html": [
       "<div>\n",
       "<style scoped>\n",
       "    .dataframe tbody tr th:only-of-type {\n",
       "        vertical-align: middle;\n",
       "    }\n",
       "\n",
       "    .dataframe tbody tr th {\n",
       "        vertical-align: top;\n",
       "    }\n",
       "\n",
       "    .dataframe thead th {\n",
       "        text-align: right;\n",
       "    }\n",
       "</style>\n",
       "<table border=\"1\" class=\"dataframe\">\n",
       "  <thead>\n",
       "    <tr style=\"text-align: right;\">\n",
       "      <th></th>\n",
       "      <th>Username</th>\n",
       "      <th>relative_playcount</th>\n",
       "      <th>Track_Artist_id</th>\n",
       "    </tr>\n",
       "  </thead>\n",
       "  <tbody>\n",
       "    <tr>\n",
       "      <th>0</th>\n",
       "      <td>emosoup</td>\n",
       "      <td>0.035110</td>\n",
       "      <td>110374</td>\n",
       "    </tr>\n",
       "    <tr>\n",
       "      <th>1</th>\n",
       "      <td>maiconslavieiro</td>\n",
       "      <td>0.021730</td>\n",
       "      <td>110374</td>\n",
       "    </tr>\n",
       "    <tr>\n",
       "      <th>2</th>\n",
       "      <td>velenious</td>\n",
       "      <td>0.019800</td>\n",
       "      <td>110374</td>\n",
       "    </tr>\n",
       "    <tr>\n",
       "      <th>3</th>\n",
       "      <td>Antimemetic</td>\n",
       "      <td>0.018012</td>\n",
       "      <td>110374</td>\n",
       "    </tr>\n",
       "    <tr>\n",
       "      <th>4</th>\n",
       "      <td>frankcreature</td>\n",
       "      <td>0.009453</td>\n",
       "      <td>110374</td>\n",
       "    </tr>\n",
       "  </tbody>\n",
       "</table>\n",
       "</div>"
      ],
      "text/plain": [
       "          Username  relative_playcount  Track_Artist_id\n",
       "0          emosoup            0.035110           110374\n",
       "1  maiconslavieiro            0.021730           110374\n",
       "2        velenious            0.019800           110374\n",
       "3      Antimemetic            0.018012           110374\n",
       "4    frankcreature            0.009453           110374"
      ]
     },
     "execution_count": 216,
     "metadata": {},
     "output_type": "execute_result"
    }
   ],
   "source": [
    "cf_df = cf_df.drop(['track_name', 'artist_name', 'playcount', 'Track_Artist'], axis=1)\n",
    "cf_df.head()"
   ]
  },
  {
   "cell_type": "markdown",
   "metadata": {},
   "source": [
    "## Model Training and Testing"
   ]
  },
  {
   "cell_type": "code",
   "execution_count": 217,
   "metadata": {},
   "outputs": [],
   "source": [
    "# Define the reader\n",
    "reader = Reader(rating_scale=(cf_df['relative_playcount'].min(), cf_df['relative_playcount'].max()))\n",
    "\n",
    "# Load the data into Surprise's Dataset\n",
    "data = Dataset.load_from_df(cf_df[['Username', 'Track_Artist_id', 'relative_playcount']], reader)\n",
    "\n",
    "trainset, testset = train_test_split(data, test_size=0.2, random_state=42)\n",
    "\n",
    "# Initialize the SVD algorithm\n",
    "model = SVD()\n",
    "\n",
    "# Train the model on the training set\n",
    "model.fit(trainset)\n",
    "\n",
    "# Make predictions for the test data\n",
    "predictions = model.test(testset)"
   ]
  },
  {
   "cell_type": "markdown",
   "metadata": {},
   "source": [
    "`actual`: The actual relative_playcount value  \n",
    "`cf_predictions`: predicted relative_playcount values generated by the SVD model for the user-item pairs in the test set"
   ]
  },
  {
   "cell_type": "code",
   "execution_count": 218,
   "metadata": {},
   "outputs": [
    {
     "data": {
      "text/html": [
       "<div>\n",
       "<style scoped>\n",
       "    .dataframe tbody tr th:only-of-type {\n",
       "        vertical-align: middle;\n",
       "    }\n",
       "\n",
       "    .dataframe tbody tr th {\n",
       "        vertical-align: top;\n",
       "    }\n",
       "\n",
       "    .dataframe thead th {\n",
       "        text-align: right;\n",
       "    }\n",
       "</style>\n",
       "<table border=\"1\" class=\"dataframe\">\n",
       "  <thead>\n",
       "    <tr style=\"text-align: right;\">\n",
       "      <th></th>\n",
       "      <th>Username</th>\n",
       "      <th>Track_Artist_id</th>\n",
       "      <th>actual</th>\n",
       "      <th>cf_predictions</th>\n",
       "    </tr>\n",
       "  </thead>\n",
       "  <tbody>\n",
       "    <tr>\n",
       "      <th>0</th>\n",
       "      <td>fleuriana</td>\n",
       "      <td>87229</td>\n",
       "      <td>0.032845</td>\n",
       "      <td>0.046241</td>\n",
       "    </tr>\n",
       "    <tr>\n",
       "      <th>1</th>\n",
       "      <td>vampiyr</td>\n",
       "      <td>16650</td>\n",
       "      <td>0.016518</td>\n",
       "      <td>0.043182</td>\n",
       "    </tr>\n",
       "    <tr>\n",
       "      <th>2</th>\n",
       "      <td>maLOLory</td>\n",
       "      <td>113353</td>\n",
       "      <td>0.021589</td>\n",
       "      <td>0.000001</td>\n",
       "    </tr>\n",
       "    <tr>\n",
       "      <th>3</th>\n",
       "      <td>Alarmando</td>\n",
       "      <td>118286</td>\n",
       "      <td>0.024300</td>\n",
       "      <td>0.110399</td>\n",
       "    </tr>\n",
       "    <tr>\n",
       "      <th>4</th>\n",
       "      <td>stephenct1</td>\n",
       "      <td>127671</td>\n",
       "      <td>0.025274</td>\n",
       "      <td>0.014733</td>\n",
       "    </tr>\n",
       "  </tbody>\n",
       "</table>\n",
       "</div>"
      ],
      "text/plain": [
       "     Username  Track_Artist_id    actual  cf_predictions\n",
       "0   fleuriana            87229  0.032845        0.046241\n",
       "1     vampiyr            16650  0.016518        0.043182\n",
       "2    maLOLory           113353  0.021589        0.000001\n",
       "3   Alarmando           118286  0.024300        0.110399\n",
       "4  stephenct1           127671  0.025274        0.014733"
      ]
     },
     "execution_count": 218,
     "metadata": {},
     "output_type": "execute_result"
    }
   ],
   "source": [
    "test_df = pd.DataFrame(predictions)\n",
    "test_df.drop(\"details\", inplace=True, axis=1)\n",
    "test_df.columns = ['Username', 'Track_Artist_id', 'actual', 'cf_predictions']\n",
    "test_df.head()"
   ]
  },
  {
   "cell_type": "markdown",
   "metadata": {},
   "source": [
    "## Evaluation Metrics"
   ]
  },
  {
   "cell_type": "markdown",
   "metadata": {},
   "source": [
    "### RMSE & MSE"
   ]
  },
  {
   "cell_type": "code",
   "execution_count": 219,
   "metadata": {},
   "outputs": [
    {
     "name": "stdout",
     "output_type": "stream",
     "text": [
      "MSE:  0.003225169079052343\n",
      "RMSE:  0.056790572096540315\n"
     ]
    }
   ],
   "source": [
    "print(\"MSE: \", recmetrics.mse(test_df.actual, test_df.cf_predictions))\n",
    "print(\"RMSE: \", recmetrics.rmse(test_df.actual, test_df.cf_predictions))"
   ]
  },
  {
   "cell_type": "markdown",
   "metadata": {},
   "source": [
    "### Mean Average Recall at K (MAR@K)\n",
    "This will provide the average measure of the systems's ability to recommend relevant items within the top-K recommendations for all user"
   ]
  },
  {
   "cell_type": "code",
   "execution_count": 220,
   "metadata": {},
   "outputs": [],
   "source": [
    "#create model (matrix of predicted values)\n",
    "cf_model = test_df.pivot_table(index='Username', columns='Track_Artist_id', values='cf_predictions').fillna(0)"
   ]
  },
  {
   "cell_type": "markdown",
   "metadata": {},
   "source": [
    "Retrieving all the actual `Track_Artist_id` and grouping them per user"
   ]
  },
  {
   "cell_type": "code",
   "execution_count": 221,
   "metadata": {},
   "outputs": [
    {
     "data": {
      "text/html": [
       "<div>\n",
       "<style scoped>\n",
       "    .dataframe tbody tr th:only-of-type {\n",
       "        vertical-align: middle;\n",
       "    }\n",
       "\n",
       "    .dataframe tbody tr th {\n",
       "        vertical-align: top;\n",
       "    }\n",
       "\n",
       "    .dataframe thead th {\n",
       "        text-align: right;\n",
       "    }\n",
       "</style>\n",
       "<table border=\"1\" class=\"dataframe\">\n",
       "  <thead>\n",
       "    <tr style=\"text-align: right;\">\n",
       "      <th></th>\n",
       "      <th>Username</th>\n",
       "      <th>actual</th>\n",
       "    </tr>\n",
       "  </thead>\n",
       "  <tbody>\n",
       "    <tr>\n",
       "      <th>0</th>\n",
       "      <td>-Dolorosa-</td>\n",
       "      <td>[25316, 110889, 33774, 54239, 137368, 137177, ...</td>\n",
       "    </tr>\n",
       "    <tr>\n",
       "      <th>1</th>\n",
       "      <td>-itssoeasy</td>\n",
       "      <td>[58274, 29190, 26668, 105934, 58257, 67994, 58...</td>\n",
       "    </tr>\n",
       "    <tr>\n",
       "      <th>2</th>\n",
       "      <td>0-172</td>\n",
       "      <td>[31522, 31499, 108881, 108882, 109203, 103768,...</td>\n",
       "    </tr>\n",
       "    <tr>\n",
       "      <th>3</th>\n",
       "      <td>23linear</td>\n",
       "      <td>[61732, 6984, 91178, 35244, 84408, 81788]</td>\n",
       "    </tr>\n",
       "    <tr>\n",
       "      <th>4</th>\n",
       "      <td>40belowsummer</td>\n",
       "      <td>[63619, 9892, 33351, 2696, 15821, 16943, 17104...</td>\n",
       "    </tr>\n",
       "  </tbody>\n",
       "</table>\n",
       "</div>"
      ],
      "text/plain": [
       "        Username                                             actual\n",
       "0     -Dolorosa-  [25316, 110889, 33774, 54239, 137368, 137177, ...\n",
       "1     -itssoeasy  [58274, 29190, 26668, 105934, 58257, 67994, 58...\n",
       "2          0-172  [31522, 31499, 108881, 108882, 109203, 103768,...\n",
       "3       23linear          [61732, 6984, 91178, 35244, 84408, 81788]\n",
       "4  40belowsummer  [63619, 9892, 33351, 2696, 15821, 16943, 17104..."
      ]
     },
     "execution_count": 221,
     "metadata": {},
     "output_type": "execute_result"
    }
   ],
   "source": [
    "test = test_df.copy().groupby('Username', as_index=False)['Track_Artist_id'].agg({'actual': (lambda x: list(set(x)))})\n",
    "test.head()"
   ]
  },
  {
   "cell_type": "code",
   "execution_count": 222,
   "metadata": {},
   "outputs": [],
   "source": [
    "test = test.set_index(\"Username\")"
   ]
  },
  {
   "cell_type": "markdown",
   "metadata": {},
   "source": [
    "This function gets the users song predictions generated by the SVD"
   ]
  },
  {
   "cell_type": "code",
   "execution_count": 223,
   "metadata": {},
   "outputs": [],
   "source": [
    "def get_users_predictions(username, n, model):\n",
    "    recommended_items = pd.DataFrame(model.loc[username])\n",
    "    recommended_items.columns = [\"predicted_rating\"]\n",
    "    recommended_items = recommended_items.sort_values('predicted_rating', ascending=False)    \n",
    "    recommended_items = recommended_items.head(n)\n",
    "    return recommended_items.index.tolist()"
   ]
  },
  {
   "cell_type": "code",
   "execution_count": 224,
   "metadata": {},
   "outputs": [
    {
     "data": {
      "text/plain": [
       "[25308,\n",
       " 25316,\n",
       " 137368,\n",
       " 33774,\n",
       " 137375,\n",
       " 137177,\n",
       " 54239,\n",
       " 110889,\n",
       " 128538,\n",
       " 6,\n",
       " 97955,\n",
       " 97943,\n",
       " 97944,\n",
       " 97945,\n",
       " 97951,\n",
       " 97953,\n",
       " 97962,\n",
       " 97958,\n",
       " 97960,\n",
       " 97940,\n",
       " 97964,\n",
       " 97966,\n",
       " 97969,\n",
       " 97971,\n",
       " 97975,\n",
       " 97977,\n",
       " 97979,\n",
       " 97941,\n",
       " 97933,\n",
       " 97939]"
      ]
     },
     "execution_count": 224,
     "metadata": {},
     "output_type": "execute_result"
    }
   ],
   "source": [
    "#get example prediction\n",
    "get_users_predictions('-Dolorosa-', 30, cf_model)"
   ]
  },
  {
   "cell_type": "markdown",
   "metadata": {},
   "source": [
    "Creates a dataframe with the user's actual top 30 songs based on `relative_playcount` and the SVD model prediction"
   ]
  },
  {
   "cell_type": "code",
   "execution_count": 225,
   "metadata": {},
   "outputs": [
    {
     "data": {
      "text/html": [
       "<div>\n",
       "<style scoped>\n",
       "    .dataframe tbody tr th:only-of-type {\n",
       "        vertical-align: middle;\n",
       "    }\n",
       "\n",
       "    .dataframe tbody tr th {\n",
       "        vertical-align: top;\n",
       "    }\n",
       "\n",
       "    .dataframe thead th {\n",
       "        text-align: right;\n",
       "    }\n",
       "</style>\n",
       "<table border=\"1\" class=\"dataframe\">\n",
       "  <thead>\n",
       "    <tr style=\"text-align: right;\">\n",
       "      <th></th>\n",
       "      <th>actual</th>\n",
       "      <th>cf_predictions</th>\n",
       "    </tr>\n",
       "    <tr>\n",
       "      <th>Username</th>\n",
       "      <th></th>\n",
       "      <th></th>\n",
       "    </tr>\n",
       "  </thead>\n",
       "  <tbody>\n",
       "    <tr>\n",
       "      <th>-Dolorosa-</th>\n",
       "      <td>[25316, 110889, 33774, 54239, 137368, 137177, ...</td>\n",
       "      <td>[25308, 25316, 137368, 33774, 137375, 137177, ...</td>\n",
       "    </tr>\n",
       "    <tr>\n",
       "      <th>-itssoeasy</th>\n",
       "      <td>[58274, 29190, 26668, 105934, 58257, 67994, 58...</td>\n",
       "      <td>[58274, 68383, 58300, 67994, 29190, 105934, 26...</td>\n",
       "    </tr>\n",
       "    <tr>\n",
       "      <th>0-172</th>\n",
       "      <td>[31522, 31499, 108881, 108882, 109203, 103768,...</td>\n",
       "      <td>[109203, 108882, 103770, 31522, 31499, 108881,...</td>\n",
       "    </tr>\n",
       "    <tr>\n",
       "      <th>23linear</th>\n",
       "      <td>[61732, 6984, 91178, 35244, 84408, 81788]</td>\n",
       "      <td>[6984, 81788, 84408, 91178, 35244, 61732, 6, 9...</td>\n",
       "    </tr>\n",
       "    <tr>\n",
       "      <th>40belowsummer</th>\n",
       "      <td>[63619, 9892, 33351, 2696, 15821, 16943, 17104...</td>\n",
       "      <td>[85885, 86223, 85883, 16943, 17104, 101912, 98...</td>\n",
       "    </tr>\n",
       "  </tbody>\n",
       "</table>\n",
       "</div>"
      ],
      "text/plain": [
       "                                                          actual  \\\n",
       "Username                                                           \n",
       "-Dolorosa-     [25316, 110889, 33774, 54239, 137368, 137177, ...   \n",
       "-itssoeasy     [58274, 29190, 26668, 105934, 58257, 67994, 58...   \n",
       "0-172          [31522, 31499, 108881, 108882, 109203, 103768,...   \n",
       "23linear               [61732, 6984, 91178, 35244, 84408, 81788]   \n",
       "40belowsummer  [63619, 9892, 33351, 2696, 15821, 16943, 17104...   \n",
       "\n",
       "                                                  cf_predictions  \n",
       "Username                                                          \n",
       "-Dolorosa-     [25308, 25316, 137368, 33774, 137375, 137177, ...  \n",
       "-itssoeasy     [58274, 68383, 58300, 67994, 29190, 105934, 26...  \n",
       "0-172          [109203, 108882, 103770, 31522, 31499, 108881,...  \n",
       "23linear       [6984, 81788, 84408, 91178, 35244, 61732, 6, 9...  \n",
       "40belowsummer  [85885, 86223, 85883, 16943, 17104, 101912, 98...  "
      ]
     },
     "execution_count": 225,
     "metadata": {},
     "output_type": "execute_result"
    }
   ],
   "source": [
    "# make recommendations for all members in the test data\n",
    "cf_recs = [] = []\n",
    "for user in test.index:\n",
    "    cf_predictions = get_users_predictions(user, 30, cf_model)\n",
    "    cf_recs.append(cf_predictions)\n",
    "test['cf_predictions'] = cf_recs\n",
    "test.head()"
   ]
  },
  {
   "cell_type": "code",
   "execution_count": 226,
   "metadata": {},
   "outputs": [],
   "source": [
    "actual = test.actual.values.tolist()\n",
    "cf_predictions = test.cf_predictions.values.tolist()\n",
    "# pop_predictions = test.pop_predictions.values.tolist()"
   ]
  },
  {
   "cell_type": "code",
   "execution_count": 227,
   "metadata": {},
   "outputs": [
    {
     "data": {
      "text/plain": [
       "[0.14395817499583707,\n",
       " 0.28390706533246335,\n",
       " 0.4177892749347575,\n",
       " 0.5427385169630206,\n",
       " 0.6546312069760905,\n",
       " 0.7496849014204752,\n",
       " 0.8270309219533455,\n",
       " 0.8866366114941437,\n",
       " 0.9299282052341402,\n",
       " 0.9589762876848352,\n",
       " 0.9775263747778598,\n",
       " 0.9886621627283724,\n",
       " 0.9948039294367103,\n",
       " 0.997642500079666,\n",
       " 0.9990115020975351,\n",
       " 0.9995997486817682,\n",
       " 0.9998516901383372,\n",
       " 0.9999360608738557,\n",
       " 0.9999794009184175,\n",
       " 0.9999949758337605,\n",
       " 1.0,\n",
       " 1.0,\n",
       " 1.0,\n",
       " 1.0,\n",
       " 1.0,\n",
       " 1.0,\n",
       " 1.0,\n",
       " 1.0,\n",
       " 1.0,\n",
       " 1.0]"
      ]
     },
     "execution_count": 227,
     "metadata": {},
     "output_type": "execute_result"
    }
   ],
   "source": [
    "cf_mark = []\n",
    "for K in np.arange(1, 31):\n",
    "    cf_mark.extend([recmetrics.mark(actual, cf_predictions, k=K)])\n",
    "cf_mark"
   ]
  },
  {
   "cell_type": "code",
   "execution_count": 228,
   "metadata": {},
   "outputs": [
    {
     "data": {
      "image/png": "[encoded data removed]",
      "text/plain": [
       "<Figure size 1000x500 with 1 Axes>"
      ]
     },
     "metadata": {},
     "output_type": "display_data"
    }
   ],
   "source": [
    "mark_scores = [cf_mark]\n",
    "index = range(1,30+1)\n",
    "names = ['Collaborative Filter']\n",
    "\n",
    "fig = plt.figure(figsize=(10, 5))\n",
    "recmetrics.mark_plot(mark_scores, model_names=names, k_range=index)"
   ]
  },
  {
   "cell_type": "markdown",
   "metadata": {},
   "source": [
    "### Coverage and Novelty\n",
    "- coverage will cover the percent of songs that the recommender is able to recommend in comparison with all the songs that is available\n",
    "- novelty will measure the capacity of the recommeder system to propose novel and unexpected items which a user is likely to know about already. It uses the self-information of the recommended item and it calculates the mean self-information per top-N recommended list and averages them over all users."
   ]
  },
  {
   "cell_type": "code",
   "execution_count": 229,
   "metadata": {},
   "outputs": [],
   "source": [
    "all_track_artist = cf_df.Track_Artist_id.unique().tolist()\n",
    "cf_coverage = recmetrics.prediction_coverage(cf_recs, all_track_artist)"
   ]
  },
  {
   "cell_type": "code",
   "execution_count": 230,
   "metadata": {},
   "outputs": [
    {
     "data": {
      "image/png": "[encoded data removed]",
      "text/plain": [
       "<Figure size 700x500 with 1 Axes>"
      ]
     },
     "metadata": {},
     "output_type": "display_data"
    }
   ],
   "source": [
    "# plot of prediction coverage\n",
    "coverage_scores = [cf_coverage]\n",
    "model_names = ['Collaborative Filter']\n",
    "\n",
    "fig = plt.figure(figsize=(7, 5))\n",
    "recmetrics.coverage_plot(coverage_scores, model_names)"
   ]
  },
  {
   "cell_type": "code",
   "execution_count": 231,
   "metadata": {},
   "outputs": [],
   "source": [
    "nov = cf_df.Track_Artist_id.value_counts()\n",
    "pop = dict(nov)"
   ]
  },
  {
   "cell_type": "code",
   "execution_count": 232,
   "metadata": {},
   "outputs": [],
   "source": [
    "cf_novelty,cf_mselfinfo_list = recmetrics.novelty(cf_recs, pop, len(cf_model.index), 10)"
   ]
  },
  {
   "cell_type": "code",
   "execution_count": 233,
   "metadata": {},
   "outputs": [
    {
     "name": "stdout",
     "output_type": "stream",
     "text": [
      "33.1870456710914\n"
     ]
    }
   ],
   "source": [
    "print(cf_novelty)"
   ]
  },
  {
   "cell_type": "markdown",
   "metadata": {},
   "source": [
    "## Saving the model"
   ]
  },
  {
   "cell_type": "code",
   "execution_count": 234,
   "metadata": {},
   "outputs": [],
   "source": [
    "SVD_pickle_file = \"BaseModel.pkl\"\n",
    "with open(SVD_pickle_file, 'wb') as file:  \n",
    "    pickle.dump(model, file)"
   ]
  }
 ],
 "metadata": {
  "kernelspec": {
   "display_name": "base",
   "language": "python",
   "name": "python3"
  },
  "language_info": {
   "codemirror_mode": {
    "name": "ipython",
    "version": 3
   },
   "file_extension": ".py",
   "mimetype": "text/x-python",
   "name": "python",
   "nbconvert_exporter": "python",
   "pygments_lexer": "ipython3",
   "version": "3.11.5"
  }
 },
 "nbformat": 4,
 "nbformat_minor": 2
}
