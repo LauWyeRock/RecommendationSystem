{
 "cells": [
  {
   "cell_type": "code",
   "execution_count": 1,
   "metadata": {},
   "outputs": [],
   "source": [
    "import numpy as np\n",
    "import pandas as pd\n",
    "import datetime as dt\n",
    "from scipy import stats\n",
    "import plotly.express as px\n",
    "import matplotlib.pyplot as plt\n",
    "from matplotlib.lines import Line2D\n",
    "import seaborn as sns\n",
    "import json\n",
    "import ast"
   ]
  },
  {
   "cell_type": "code",
   "execution_count": null,
   "metadata": {},
   "outputs": [],
   "source": [
    "df = pd.read_csv('lastfm_user_clean.csv', index = False)\n",
    "print(df.info())\n",
    "print(df.nunique())"
   ]
  },
  {
   "cell_type": "markdown",
   "metadata": {},
   "source": [
    "## EDA"
   ]
  },
  {
   "cell_type": "code",
   "execution_count": null,
   "metadata": {},
   "outputs": [],
   "source": [
    "# Descriptive Statistics\n",
    "numerical_cols = ['playcount',\n",
    "                  'artist_count',\n",
    "                  'track_count',\n",
    "                  'album_count',\n",
    "                  'registered_year',\n",
    "                  ]\n",
    "\n",
    "descriptive_stats = df[numerical_cols].describe().loc[['min', 'max', 'mean', 'std', '50%']].transpose()\n",
    "descriptive_stats.columns = ['min', 'max', 'mean', 'std', 'median']\n",
    "descriptive_stats['mode'] = df[numerical_cols].mode().transpose()[0]\n",
    "descriptive_stats['mad'] = [stats.median_abs_deviation(df[x]) for x in numerical_cols]\n",
    "descriptive_stats['kurtosis'] = [stats.kurtosis(df[x], fisher=False) for x in numerical_cols]\n",
    "descriptive_stats['skewness'] = [stats.skew(df[x]) for x in numerical_cols]\n",
    "descriptive_stats"
   ]
  },
  {
   "cell_type": "markdown",
   "metadata": {},
   "source": [
    "As we can observe from discriptive statistics, the various music playing counts of users are quite postively skewed. The positive skewness of music playing counts suggests that most users have relatively low playcounts, but there are a few users with extremely high playcounts, resulting in the right-skewed distribution.\n",
    "\n",
    "Out of these, `playcount` and `album_count` have mode value of 0. This could mean that a significant number of users have not played any songs or albums, respectively. For example, it could be due to inactive accounts, new users who have not started using the platform yet. However, it could also be due to users who listen to music but do not scrobble their plays to Last.fm, since the users have non-empty `Top_50` songs lists. \n",
    "\n",
    "The users have a wide range of registration year from 2002 to 2024. Moving on, we plot histograms to visualize the distribution of these numerical columns. "
   ]
  },
  {
   "cell_type": "code",
   "execution_count": null,
   "metadata": {},
   "outputs": [],
   "source": [
    "# histogram of features to observe the distribution of values\n",
    "ax = df.hist(figsize = (12, 10), bins = 100)"
   ]
  },
  {
   "cell_type": "markdown",
   "metadata": {},
   "source": [
    "From the above analysis and visualization, we find `track_count` to be the most representative music playing counts among the four for users' activeness on the platform. There are extreme outliers in this value, therefore, we have decided to transform it into categorical variable, though risking losing some information. "
   ]
  },
  {
   "cell_type": "code",
   "execution_count": null,
   "metadata": {},
   "outputs": [],
   "source": [
    "# transform track_count to categorical\n",
    "categories = pd.cut(df.track_count, bins = [0, 4600, 9500, 16000, 30000, 450000],\n",
    "                    labels = [\"most inactive\", \"inactive\", \"medium\", \"active\", \"most active\"])\n",
    "categories.value_counts(normalize = True)"
   ]
  },
  {
   "cell_type": "code",
   "execution_count": null,
   "metadata": {},
   "outputs": [],
   "source": [
    "# try the above category, plot the percentage of frauds in each category\n",
    "df['active_category'] = categories\n",
    "\n",
    "plt.figure(figsize=(8, 8))\n",
    "sns.countplot(x = 'active_category', data = df)\n",
    "plt.xlabel('Activeness Category')\n",
    "plt.ylabel('Number of Users')\n",
    "plt.title('Distribution of Users for Different Activeness Level', fontsize = 12, fontweight = 'bold')\n",
    "plt.show()"
   ]
  },
  {
   "cell_type": "code",
   "execution_count": null,
   "metadata": {},
   "outputs": [],
   "source": [
    "df['type'].value_counts()"
   ]
  },
  {
   "cell_type": "code",
   "execution_count": null,
   "metadata": {},
   "outputs": [],
   "source": [
    "# Observe where users come from\n",
    "nocountry = df['country'] == 'None'\n",
    "df.loc[nocountry, 'country'] = 'Not Indicated'\n",
    "countries = df.groupby(['country']).agg({\"Username\":'count'}).reset_index()\n",
    "countries = countries.sort_values(by = 'Username', ascending = False).head(15)\n",
    "sns.barplot(y = countries.country, x = countries.Username).set(title = 'Top 15 Countries Where Users Come From')\n",
    "plt.xlabel('Number of Users')\n",
    "plt.show()\n"
   ]
  },
  {
   "cell_type": "markdown",
   "metadata": {},
   "source": [
    "We can see that except for users who did not indicate their countries, most users come from the US, Brazil, UK, Canada and Australia."
   ]
  },
  {
   "cell_type": "code",
   "execution_count": null,
   "metadata": {},
   "outputs": [],
   "source": [
    "plt.figure(figsize=(8, 8))\n",
    "\n",
    "df['registered_year'] = df['registered_year'].astype('category')\n",
    "type(df['registered_year'][0])\n",
    "sns.boxplot(y = 'registered_year', x = 'track_count', data = df)"
   ]
  }
 ],
 "metadata": {
  "kernelspec": {
   "display_name": "deg_venv",
   "language": "python",
   "name": "python3"
  },
  "language_info": {
   "codemirror_mode": {
    "name": "ipython",
    "version": 3
   },
   "file_extension": ".py",
   "mimetype": "text/x-python",
   "name": "python",
   "nbconvert_exporter": "python",
   "pygments_lexer": "ipython3",
   "version": "3.9.18"
  }
 },
 "nbformat": 4,
 "nbformat_minor": 2
}
