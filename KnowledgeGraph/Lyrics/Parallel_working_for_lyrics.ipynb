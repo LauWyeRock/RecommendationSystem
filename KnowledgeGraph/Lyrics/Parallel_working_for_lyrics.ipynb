{
 "cells": [
  {
   "cell_type": "code",
   "execution_count": 1,
   "id": "f916b6c6",
   "metadata": {},
   "outputs": [
    {
     "name": "stdout",
     "output_type": "stream",
     "text": [
      "Searching for \"Young and Beautifu\" by Lana Del Rey...\n",
      "Request timed out: Request timed out:\n",
      "HTTPSConnectionPool(host='genius.com', port=443): Read timed out. (read timeout=5)\n",
      "None\n"
     ]
    }
   ],
   "source": [
    "import lyricsgenius\n",
    "import requests\n",
    "genius_client_id = \"W0jYlRZ1hm9YKg6Th8EaJq0l7QEHvH9xRRtGuo0pj4jB1WGLD1NCSHdBza-8BNmz\"\n",
    "genius_client_secret = \"yEoZ1oP7YQNhfXnTkmqjJ3R9vKi__JTLhCN9wQQgLmwpmftObnmhFeMI9jKdRp4bKMkOiitznS3YnshZLqNalQ\"\n",
    "genius_access_token = \"ok6jSM4Zhr7etnP8-FiP6YaB6UEaOJvp_X43ZJYPw1ArLWGeJJhUB_oLAjote8VO\"\n",
    "\n",
    "\n",
    "genius = lyricsgenius.Genius(\"genius_access_token\")\n",
    "\n",
    "def get_lyrics(song_title, artist_name):\n",
    "    try:\n",
    "        song = genius.search_song(song_title, artist_name)\n",
    "        if song:\n",
    "            return song.lyrics\n",
    "    except requests.exceptions.Timeout as e:\n",
    "        # Handle timeout exceptions here\n",
    "        print(f\"Request timed out: {e}\")\n",
    "    except requests.exceptions.HTTPError as e:\n",
    "        # Handle HTTP errors here\n",
    "        print(f\"HTTP error occurred: {e}\")\n",
    "    except requests.exceptions.ConnectionError as e:\n",
    "        # Handle connection errors here\n",
    "        print(f\"Connection error occurred: {e}\")\n",
    "    except requests.exceptions.RequestException as e:\n",
    "        # Handle any other request exceptions here\n",
    "        print(f\"An error occurred during the request: {e}\")\n",
    "    return None\n",
    "\n",
    "# Example usage\n",
    "lyrics = get_lyrics(\"Young and Beautifu\", \"Lana Del Rey\")\n",
    "print(lyrics)"
   ]
  }
 ],
 "metadata": {
  "kernelspec": {
   "display_name": "Python 3 (ipykernel)",
   "language": "python",
   "name": "python3"
  },
  "language_info": {
   "codemirror_mode": {
    "name": "ipython",
    "version": 3
   },
   "file_extension": ".py",
   "mimetype": "text/x-python",
   "name": "python",
   "nbconvert_exporter": "python",
   "pygments_lexer": "ipython3",
   "version": "3.9.7"
  }
 },
 "nbformat": 4,
 "nbformat_minor": 5
}
