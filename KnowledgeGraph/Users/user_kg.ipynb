{
 "cells": [
  {
   "cell_type": "code",
   "execution_count": 1,
   "metadata": {},
   "outputs": [],
   "source": [
    "import pandas as pd\n",
    "import networkx as nx\n",
    "import requests\n",
    "from datetime import datetime, timedelta"
   ]
  },
  {
   "cell_type": "code",
   "execution_count": 2,
   "metadata": {},
   "outputs": [
    {
     "name": "stdout",
     "output_type": "stream",
     "text": [
      "          Username                                             Top_50  \\\n",
      "0          emosoup  [('Higher',  'Sleep Token',  '1',  '1321'),  (...   \n",
      "1        gibelotte  [('DAYWALKER! (feat. Corpse)',  'Machine Gun K...   \n",
      "2         riddy_pr  [('Will We Talk?',  'Sam Fender',  '1',  '291'...   \n",
      "3  TheGirlNamedSig  [('Be Quiet and Drive (Far Away)',  'Deftones'...   \n",
      "4      eventually_  [('Light',  'Tag Shai',  '1',  '6142'),  ('Old...   \n",
      "\n",
      "                                               Loved  playcount  artist_count  \\\n",
      "0  [('Obsidian',  'Viscera'),  ('yes,  and?',  'A...     187276          3386   \n",
      "1  [('Fragile',  'Young Cub'),  (\"Sarabeth's Song...      96134          4453   \n",
      "2                                                 []      46389          2495   \n",
      "3  [(\"Beaver O'Lindy\",  'Sparks'),  ('Age of Cons...      34006          2380   \n",
      "4  [('Clock Hands',  'Harlow Road'),  ('Waterslid...     459131         12363   \n",
      "\n",
      "   track_count  album_count         country        type  registered_year  \\\n",
      "0        13520         6171   United States  subscriber             2015   \n",
      "1        13123         6514   United States        user             2013   \n",
      "2        11923         5189  United Kingdom        user             2018   \n",
      "3         6994         3987             NaN        user             2017   \n",
      "4        57910        15197   United States  subscriber             2013   \n",
      "\n",
      "   registered_month  registered_day  \n",
      "0                 8              31  \n",
      "1                11               7  \n",
      "2                12              31  \n",
      "3                 1              10  \n",
      "4                12               1  \n",
      "          Username                                             Top_50  \\\n",
      "0          emosoup  [('Higher',  'Sleep Token',  '1',  '1321'),  (...   \n",
      "1        gibelotte  [('DAYWALKER! (feat. Corpse)',  'Machine Gun K...   \n",
      "2         riddy_pr  [('Will We Talk?',  'Sam Fender',  '1',  '291'...   \n",
      "3  TheGirlNamedSig  [('Be Quiet and Drive (Far Away)',  'Deftones'...   \n",
      "4      eventually_  [('Light',  'Tag Shai',  '1',  '6142'),  ('Old...   \n",
      "\n",
      "                                               Loved  playcount  artist_count  \\\n",
      "0  [('Obsidian',  'Viscera'),  ('yes,  and?',  'A...     187276          3386   \n",
      "1  [('Fragile',  'Young Cub'),  (\"Sarabeth's Song...      96134          4453   \n",
      "2                                                 []      46389          2495   \n",
      "3  [(\"Beaver O'Lindy\",  'Sparks'),  ('Age of Cons...      34006          2380   \n",
      "4  [('Clock Hands',  'Harlow Road'),  ('Waterslid...     459131         12363   \n",
      "\n",
      "   track_count  album_count         country        type  registered_year  \\\n",
      "0        13520         6171   United States  subscriber             2015   \n",
      "1        13123         6514   United States        user             2013   \n",
      "2        11923         5189  United Kingdom        user             2018   \n",
      "3         6994         3987             NaN        user             2017   \n",
      "4        57910        15197   United States  subscriber             2013   \n",
      "\n",
      "   registered_month  registered_day  \n",
      "0                 8              31  \n",
      "1                11               7  \n",
      "2                12              31  \n",
      "3                 1              10  \n",
      "4                12               1  \n",
      "Graph named 'Top Songs' with 238974 nodes and 1550712 edges\n"
     ]
    }
   ],
   "source": [
    "df = pd.read_csv(\"../../Data/lastfm_user_clean.csv\")\n",
    "\n",
    "df[\"Top_50\"] = df[\"Top_50\"].apply(lambda x: x.strip('[]').split(','))\n",
    "df[\"Loved\"] = df[\"Loved\"].apply(lambda x: x.strip('[]').split(','))\n",
    "\n",
    "top_songs_kg = nx.Graph(name = \"Top Songs\")\n",
    "\n",
    "for idx, row in df.iterrows():\n",
    "  user = row[\"Username\"]\n",
    "  songs = row[\"Top_50\"]\n",
    "\n",
    "  top_songs_kg.add_node(user)\n",
    "\n",
    "  for idx, song in enumerate(songs, start=1):\n",
    "    song = song.strip()\n",
    "    top_songs_kg.add_node(song)\n",
    "    top_songs_kg.add_edge(user, song, weight = 1 / idx)\n",
    "\n",
    "print(top_songs_kg)"
   ]
  },
  {
   "cell_type": "code",
   "execution_count": 3,
   "metadata": {},
   "outputs": [
    {
     "name": "stdout",
     "output_type": "stream",
     "text": [
      "Graph named 'liked_songs_kg' with 238974 nodes and 1550712 edges\n"
     ]
    }
   ],
   "source": [
    "liked_songs_kg = nx.Graph(name = \"liked_songs_kg\")\n",
    "\n",
    "for idx, row in df.iterrows():\n",
    "  user = row[\"Username\"]\n",
    "  songs = row[\"Top_50\"]\n",
    "\n",
    "  liked_songs_kg.add_node(user)\n",
    "\n",
    "  for idx, song in enumerate(songs, start=1):\n",
    "    song = song.strip()\n",
    "    liked_songs_kg.add_node(song)\n",
    "    liked_songs_kg.add_edge(user, song)\n",
    "\n",
    "print(liked_songs_kg)"
   ]
  }
 ],
 "metadata": {
  "kernelspec": {
   "display_name": "Python 3",
   "language": "python",
   "name": "python3"
  },
  "language_info": {
   "codemirror_mode": {
    "name": "ipython",
    "version": 3
   },
   "file_extension": ".py",
   "mimetype": "text/x-python",
   "name": "python",
   "nbconvert_exporter": "python",
   "pygments_lexer": "ipython3",
   "version": "3.12.2"
  }
 },
 "nbformat": 4,
 "nbformat_minor": 2
}
